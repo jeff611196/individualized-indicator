{
 "cells": [
  {
   "cell_type": "markdown",
   "metadata": {},
   "source": [
    "### Import Required Package"
   ]
  },
  {
   "cell_type": "code",
   "execution_count": 1,
   "metadata": {},
   "outputs": [],
   "source": [
    "import pandas as pd\n",
    "import talib\n",
    "import numpy as np\n",
    "import json\n",
    "import os\n",
    "os.chdir('/home/jovyan/individualized-indicator')\n",
    "import yaml\n",
    "import glob\n",
    "import pandas as pd\n",
    "import gcsfs\n",
    "fs = gcsfs.GCSFileSystem(project=\"dst-dev2021\")\n",
    "from backtest.simulated_backtest_pkl import *\n",
    "from datetime import datetime\n",
    "from dateutil.relativedelta import relativedelta"
   ]
  },
  {
   "cell_type": "markdown",
   "metadata": {},
   "source": [
    "### Import Tidal"
   ]
  },
  {
   "cell_type": "code",
   "execution_count": 2,
   "metadata": {},
   "outputs": [],
   "source": [
    "import tidal as td"
   ]
  },
  {
   "cell_type": "markdown",
   "metadata": {},
   "source": [
    "### Initialize Plumber"
   ]
  },
  {
   "cell_type": "code",
   "execution_count": 3,
   "metadata": {},
   "outputs": [],
   "source": [
    "from pathlib import Path\n",
    "import ssl\n",
    "ssl._create_default_https_context = ssl._create_unverified_context\n",
    "\n",
    "PLUMBER_HOST = \"https://dev-api.ddt-dst.cc/api/plumber/\"\n",
    "with open(f'{str(Path.home())}/.config/gcloud/application_default_credentials.json') as plumber_token:\n",
    "    token = json.load(plumber_token)"
   ]
  },
  {
   "cell_type": "code",
   "execution_count": 4,
   "metadata": {},
   "outputs": [
    {
     "data": {
      "text/plain": [
       "'2024-11-04'"
      ]
     },
     "execution_count": 4,
     "metadata": {},
     "output_type": "execute_result"
    }
   ],
   "source": [
    "today = datetime.today()\n",
    "one_month_ago = today - relativedelta(months=1)\n",
    "formatted_date = one_month_ago.strftime('%Y-%m-%d')\n",
    "\n",
    "total_data = pd.read_parquet(\n",
    "    f\"{PLUMBER_HOST}stocks/tw/ohlcv\",\n",
    "    storage_options={\n",
    "        \"gcp-token\": json.dumps(token),\n",
    "        \"start-date\": formatted_date,\n",
    "        \"tickers\": \",\".join([stock for stock in ['Y9999']]),\n",
    "    },\n",
    ")\n",
    "\n",
    "latest_data = total_data.reset_index()\n",
    "latest_data = latest_data.iloc[-1][1].strftime(\"%Y-%m-%d\")\n",
    "latest_data"
   ]
  },
  {
   "cell_type": "markdown",
   "metadata": {},
   "source": [
    "### Simulated_price"
   ]
  },
  {
   "cell_type": "code",
   "execution_count": 5,
   "metadata": {},
   "outputs": [
    {
     "name": "stdout",
     "output_type": "stream",
     "text": [
      "ok\n"
     ]
    },
    {
     "name": "stderr",
     "output_type": "stream",
     "text": [
      "100%|██████████| 324/324 [00:29<00:00, 11.01it/s]\n",
      "100%|██████████| 324/324 [00:28<00:00, 11.21it/s]\n"
     ]
    }
   ],
   "source": [
    "ind_start = '2021-11-01'\n",
    "ind_end = latest_data\n",
    "# ind_end = datetime.today().strftime('%Y-%m-%d')\n",
    "day_start = '2024-04-01'\n",
    "day_end = '2024-08-30'\n",
    "test_start = '2024-09-02'\n",
    "# 取得當天的日期\n",
    "test_end = ind_end\n",
    "train_season = '2024_06_01'\n",
    "emb_length = 'embeddings_length200_2024_06_01.npy'\n",
    "\n",
    "etl = recommend_stock(emb_length, ind_start, ind_end, day_start, day_end, test_start, test_end, train_season)\n",
    "\n",
    "indicator_path_r = 'jeff-stock-wise/indicator/'+ train_season + '/indicator_chose.csv'\n",
    "        \n",
    "with fs.open(indicator_path_r, 'r') as f:\n",
    "    indicator_top_list = pd.read_csv(f, index_col=0)\n",
    "\n",
    "TOP_k = len(indicator_top_list)\n",
    "\n",
    "# 回測\n",
    "input_backtest_table = Input_backtest_table(etl,'top_'+str(TOP_k), test_start, test_end, train_season)\n",
    "input_backtest_table_calculate = input_backtest_table.calculate()"
   ]
  },
  {
   "cell_type": "markdown",
   "metadata": {},
   "source": [
    "### Load market data and compute technical indicators"
   ]
  },
  {
   "cell_type": "code",
   "execution_count": 6,
   "metadata": {},
   "outputs": [
    {
     "data": {
      "text/html": [
       "<div>\n",
       "<style scoped>\n",
       "    .dataframe tbody tr th:only-of-type {\n",
       "        vertical-align: middle;\n",
       "    }\n",
       "\n",
       "    .dataframe tbody tr th {\n",
       "        vertical-align: top;\n",
       "    }\n",
       "\n",
       "    .dataframe thead th {\n",
       "        text-align: right;\n",
       "    }\n",
       "</style>\n",
       "<table border=\"1\" class=\"dataframe\">\n",
       "  <thead>\n",
       "    <tr style=\"text-align: right;\">\n",
       "      <th></th>\n",
       "      <th></th>\n",
       "      <th>open</th>\n",
       "      <th>high</th>\n",
       "      <th>low</th>\n",
       "      <th>close</th>\n",
       "      <th>volume</th>\n",
       "      <th>new</th>\n",
       "    </tr>\n",
       "    <tr>\n",
       "      <th>instrument</th>\n",
       "      <th>datetime</th>\n",
       "      <th></th>\n",
       "      <th></th>\n",
       "      <th></th>\n",
       "      <th></th>\n",
       "      <th></th>\n",
       "      <th></th>\n",
       "    </tr>\n",
       "  </thead>\n",
       "  <tbody>\n",
       "    <tr>\n",
       "      <th rowspan=\"5\" valign=\"top\">1101</th>\n",
       "      <th>2024-10-01</th>\n",
       "      <td>33.90</td>\n",
       "      <td>33.90</td>\n",
       "      <td>33.45</td>\n",
       "      <td>33.70</td>\n",
       "      <td>15831917.0</td>\n",
       "      <td>0.019117</td>\n",
       "    </tr>\n",
       "    <tr>\n",
       "      <th>2024-10-04</th>\n",
       "      <td>33.50</td>\n",
       "      <td>34.00</td>\n",
       "      <td>33.50</td>\n",
       "      <td>33.80</td>\n",
       "      <td>17712471.0</td>\n",
       "      <td>0.023760</td>\n",
       "    </tr>\n",
       "    <tr>\n",
       "      <th>2024-10-07</th>\n",
       "      <td>33.80</td>\n",
       "      <td>33.85</td>\n",
       "      <td>33.30</td>\n",
       "      <td>33.50</td>\n",
       "      <td>13191324.0</td>\n",
       "      <td>0.019706</td>\n",
       "    </tr>\n",
       "    <tr>\n",
       "      <th>2024-10-08</th>\n",
       "      <td>33.25</td>\n",
       "      <td>33.45</td>\n",
       "      <td>32.90</td>\n",
       "      <td>33.05</td>\n",
       "      <td>14236524.0</td>\n",
       "      <td>0.020897</td>\n",
       "    </tr>\n",
       "    <tr>\n",
       "      <th>2024-10-09</th>\n",
       "      <td>32.90</td>\n",
       "      <td>32.95</td>\n",
       "      <td>32.45</td>\n",
       "      <td>32.45</td>\n",
       "      <td>11396786.0</td>\n",
       "      <td>0.018912</td>\n",
       "    </tr>\n",
       "    <tr>\n",
       "      <th>...</th>\n",
       "      <th>...</th>\n",
       "      <td>...</td>\n",
       "      <td>...</td>\n",
       "      <td>...</td>\n",
       "      <td>...</td>\n",
       "      <td>...</td>\n",
       "      <td>...</td>\n",
       "    </tr>\n",
       "    <tr>\n",
       "      <th rowspan=\"5\" valign=\"top\">9958</th>\n",
       "      <th>2024-10-28</th>\n",
       "      <td>215.00</td>\n",
       "      <td>216.00</td>\n",
       "      <td>204.50</td>\n",
       "      <td>208.00</td>\n",
       "      <td>6201139.0</td>\n",
       "      <td>0.002693</td>\n",
       "    </tr>\n",
       "    <tr>\n",
       "      <th>2024-10-29</th>\n",
       "      <td>208.00</td>\n",
       "      <td>209.50</td>\n",
       "      <td>203.50</td>\n",
       "      <td>207.50</td>\n",
       "      <td>3874921.0</td>\n",
       "      <td>0.004001</td>\n",
       "    </tr>\n",
       "    <tr>\n",
       "      <th>2024-10-30</th>\n",
       "      <td>208.00</td>\n",
       "      <td>210.00</td>\n",
       "      <td>204.00</td>\n",
       "      <td>207.00</td>\n",
       "      <td>3642748.0</td>\n",
       "      <td>0.003805</td>\n",
       "    </tr>\n",
       "    <tr>\n",
       "      <th>2024-11-01</th>\n",
       "      <td>203.00</td>\n",
       "      <td>210.50</td>\n",
       "      <td>201.50</td>\n",
       "      <td>209.00</td>\n",
       "      <td>3131748.0</td>\n",
       "      <td>0.004953</td>\n",
       "    </tr>\n",
       "    <tr>\n",
       "      <th>2024-11-04</th>\n",
       "      <td>210.00</td>\n",
       "      <td>215.00</td>\n",
       "      <td>207.50</td>\n",
       "      <td>211.00</td>\n",
       "      <td>3116502.0</td>\n",
       "      <td>0.003305</td>\n",
       "    </tr>\n",
       "  </tbody>\n",
       "</table>\n",
       "<p>6804 rows × 6 columns</p>\n",
       "</div>"
      ],
      "text/plain": [
       "                         open    high     low   close      volume       new\n",
       "instrument datetime                                                        \n",
       "1101       2024-10-01   33.90   33.90   33.45   33.70  15831917.0  0.019117\n",
       "           2024-10-04   33.50   34.00   33.50   33.80  17712471.0  0.023760\n",
       "           2024-10-07   33.80   33.85   33.30   33.50  13191324.0  0.019706\n",
       "           2024-10-08   33.25   33.45   32.90   33.05  14236524.0  0.020897\n",
       "           2024-10-09   32.90   32.95   32.45   32.45  11396786.0  0.018912\n",
       "...                       ...     ...     ...     ...         ...       ...\n",
       "9958       2024-10-28  215.00  216.00  204.50  208.00   6201139.0  0.002693\n",
       "           2024-10-29  208.00  209.50  203.50  207.50   3874921.0  0.004001\n",
       "           2024-10-30  208.00  210.00  204.00  207.00   3642748.0  0.003805\n",
       "           2024-11-01  203.00  210.50  201.50  209.00   3131748.0  0.004953\n",
       "           2024-11-04  210.00  215.00  207.50  211.00   3116502.0  0.003305\n",
       "\n",
       "[6804 rows x 6 columns]"
      ]
     },
     "execution_count": 6,
     "metadata": {},
     "output_type": "execute_result"
    }
   ],
   "source": [
    "gcs_path = 'jeff-stock-wise/simulated/'\n",
    "\n",
    "start_date = \"2024-10-01\"\n",
    "end_date = latest_data\n",
    "\n",
    "# 初始化一個空的字典來存儲所有讀取的 DataFrame\n",
    "dataframes = {}\n",
    "\n",
    "# 遍歷目錄中的所有檔案\n",
    "for filename in fs.ls(gcs_path):\n",
    "    if filename.endswith('.pkl'):\n",
    "        # 組合完整的檔案路徑\n",
    "        with fs.open(filename, 'rb') as f:\n",
    "        # 讀取 .pkl 檔案\n",
    "            df = pd.read_pickle(f)\n",
    "        \n",
    "        # 使用檔案名稱（不包括副檔名）作為字典的鍵\n",
    "        variable_name = filename.split('_')[2]\n",
    "        \n",
    "        # 將 DataFrame 儲存到字典中\n",
    "        dataframes[variable_name] = df\n",
    "\n",
    "keys_list = list(dataframes.keys())\n",
    "# 將字符串轉換為 datetime 格式，然後進行排序\n",
    "sorted_dates = sorted(pd.to_datetime(keys_list))\n",
    "keys_list = [date.strftime('%Y-%m-%d') for date in sorted_dates]\n",
    "\n",
    "total_df = pd.DataFrame()\n",
    "\n",
    "for j in range(0,len(keys_list)):\n",
    "    df_name = keys_list[j]\n",
    "    selected_df = dataframes[df_name]    \n",
    "    selected_df = selected_df.reset_index()\n",
    "    stock_list = pd.DataFrame(selected_df.iloc[:,0].unique())\n",
    "    total_df = pd.concat([total_df, stock_list], ignore_index=True)\n",
    "    \n",
    "unique_values_list = list(total_df.iloc[:,0].unique())\n",
    "sorted_list = sorted(unique_values_list)\n",
    "\n",
    "total_data = pd.read_parquet(\n",
    "    f\"{PLUMBER_HOST}stocks/tw/ohlcv\",\n",
    "    storage_options={\n",
    "        \"gcp-token\": json.dumps(token),\n",
    "        \"start-date\": start_date,\n",
    "        \"end-date\": end_date,\n",
    "        \"tickers\": \",\".join([stock for stock in sorted_list]),\n",
    "    },\n",
    ")\n",
    "\n",
    "total_data.index = total_data.index.set_levels(\n",
    "    pd.to_datetime(total_data.index.levels[1]),level=1)\n",
    "\n",
    "total_data.rename_axis(index={\n",
    "    'ticker': 'instrument'\n",
    "}, inplace=True)\n",
    "\n",
    "total_data['new'] = -1\n",
    "total_data.reset_index(inplace=True)\n",
    "\n",
    "def filter_by_year_month_12(filter_data, select_year, select_mon):\n",
    "    # 計算當前篩選年份和下一個年份\n",
    "    next_year = select_year + 1\n",
    "    \n",
    "    # 構建篩選條件：當前年12月、次年1月、次年2月\n",
    "    filter_data = filter_data[\n",
    "        ((filter_data['datetime'].dt.year == next_year) & (filter_data['datetime'].dt.month == 1)) |\n",
    "        ((filter_data['datetime'].dt.year == next_year) & (filter_data['datetime'].dt.month == 2)) |\n",
    "        ((filter_data['datetime'].dt.year == next_year) & (filter_data['datetime'].dt.month == 3))\n",
    "    ]\n",
    "    \n",
    "    return filter_data\n",
    "\n",
    "concat_df = pd.DataFrame()\n",
    "\n",
    "# for i in range(0,len(keys_list)-1):\n",
    "for i in range(0,len(keys_list)):\n",
    "    df_name = keys_list[i]\n",
    "    selected_df = dataframes[df_name]\n",
    "    selected_df.reset_index(inplace=True)\n",
    "    stock_df = selected_df.iloc[:,0]\n",
    "    stock_df_unique = list(stock_df.unique())\n",
    "    result = list(set(sorted_list) - set(stock_df_unique))\n",
    "    filtered_df = total_data[total_data['instrument'].isin(result)]\n",
    "    filtered_df = filtered_df.rename(columns={'volume': 'vol'})\n",
    "    selected_df = pd.concat([selected_df, filtered_df], ignore_index=True)\n",
    "    \n",
    "    select_year = int(df_name.split('-')[0])\n",
    "    select_mon = int(df_name.split('-')[1])\n",
    "    select_mons = [(select_mon+1)%12, (select_mon+2)%12, (select_mon+3)%12]\n",
    "    select_mons = [12 if mon == 0 else mon for mon in select_mons]\n",
    "    \n",
    "    selected_df['datetime'] = pd.to_datetime(selected_df['datetime'])\n",
    "    # 過濾出所有6月的交易資料\n",
    "    filter_data = selected_df[selected_df['datetime'].dt.month.isin(select_mons)]\n",
    "\n",
    "    # 使用時，根據 select_year 和 select_mon 動態篩選數據\n",
    "        \n",
    "    if select_mon == 12:\n",
    "        filter_data = filter_by_year_month_12(filter_data, select_year, select_mon) \n",
    "\n",
    "    else:\n",
    "        filter_data = filter_data[filter_data['datetime'].dt.year == select_year]\n",
    "    \n",
    "    concat_df = pd.concat([concat_df, filter_data], ignore_index=True)\n",
    "    \n",
    "# i = len(keys_list)-1\n",
    "# df_name = keys_list[i]\n",
    "# selected_df = dataframes[df_name]\n",
    "# selected_df.reset_index(inplace=True)\n",
    "# stock_df = selected_df.iloc[:,0]\n",
    "# stock_df_unique = list(stock_df.unique())\n",
    "# result = list(set(sorted_list) - set(stock_df_unique))\n",
    "# filtered_df = total_data[total_data['instrument'].isin(result)]\n",
    "# filtered_df = filtered_df.rename(columns={'volume': 'vol'})\n",
    "# selected_df = pd.concat([selected_df, filtered_df], ignore_index=True)\n",
    "# concat_df = pd.concat([concat_df, selected_df], ignore_index=True)\n",
    "\n",
    "concat_df.sort_values(by=['instrument', 'datetime'], inplace=True)\n",
    "concat_df.reset_index(drop=True, inplace=True)\n",
    "row = np.where(concat_df.iloc[:,0] == '6251')[0]\n",
    "concat_df = concat_df.drop(index=row)\n",
    "concat_df = concat_df.reset_index(drop=True)\n",
    "row = np.where(concat_df.iloc[:,0] == '8406')[0]\n",
    "concat_df = concat_df.drop(index=row)\n",
    "concat_df = concat_df.reset_index(drop=True)\n",
    "row = np.where(concat_df.iloc[:,0] == '6548')[0]\n",
    "concat_df = concat_df.drop(index=row)\n",
    "concat_df = concat_df.reset_index(drop=True)\n",
    "quote_data = concat_df.set_index(['instrument', 'datetime'])\n",
    "quote_data.columns.values[4] = 'volume'\n",
    "quote_data\n",
    "# quote_data.to_csv('./quote_data.csv')"
   ]
  },
  {
   "cell_type": "markdown",
   "metadata": {},
   "source": [
    "### Strategy Lake API"
   ]
  },
  {
   "cell_type": "code",
   "execution_count": 7,
   "metadata": {},
   "outputs": [],
   "source": [
    "data_api_url = (\"https://dev-api.ddt-dst.cc/api/plumber/nextron/industry_prod_df\")\n",
    "df = pd.read_parquet(\n",
    "    data_api_url,\n",
    "    storage_options={\n",
    "        \"gcp-token\": json.dumps(token),\n",
    "    }\n",
    ")"
   ]
  },
  {
   "cell_type": "markdown",
   "metadata": {},
   "source": [
    "### Load benchmark data"
   ]
  },
  {
   "cell_type": "code",
   "execution_count": 8,
   "metadata": {},
   "outputs": [
    {
     "name": "stderr",
     "output_type": "stream",
     "text": [
      "/tmp/ipykernel_52823/2173060872.py:11: FutureWarning: inplace is deprecated and will be removed in a future version.\n",
      "  benchmark_data.index.set_levels(\n"
     ]
    },
    {
     "data": {
      "text/html": [
       "<div>\n",
       "<style scoped>\n",
       "    .dataframe tbody tr th:only-of-type {\n",
       "        vertical-align: middle;\n",
       "    }\n",
       "\n",
       "    .dataframe tbody tr th {\n",
       "        vertical-align: top;\n",
       "    }\n",
       "\n",
       "    .dataframe thead th {\n",
       "        text-align: right;\n",
       "    }\n",
       "</style>\n",
       "<table border=\"1\" class=\"dataframe\">\n",
       "  <thead>\n",
       "    <tr style=\"text-align: right;\">\n",
       "      <th></th>\n",
       "      <th></th>\n",
       "      <th>open</th>\n",
       "      <th>high</th>\n",
       "      <th>low</th>\n",
       "      <th>close</th>\n",
       "      <th>volume</th>\n",
       "    </tr>\n",
       "    <tr>\n",
       "      <th>instrument</th>\n",
       "      <th>datetime</th>\n",
       "      <th></th>\n",
       "      <th></th>\n",
       "      <th></th>\n",
       "      <th></th>\n",
       "      <th></th>\n",
       "    </tr>\n",
       "  </thead>\n",
       "  <tbody>\n",
       "    <tr>\n",
       "      <th rowspan=\"21\" valign=\"top\">0050</th>\n",
       "      <th>2024-10-01</th>\n",
       "      <td>183.90</td>\n",
       "      <td>184.60</td>\n",
       "      <td>183.35</td>\n",
       "      <td>183.60</td>\n",
       "      <td>9883064</td>\n",
       "    </tr>\n",
       "    <tr>\n",
       "      <th>2024-10-04</th>\n",
       "      <td>184.00</td>\n",
       "      <td>185.30</td>\n",
       "      <td>183.00</td>\n",
       "      <td>183.60</td>\n",
       "      <td>9244059</td>\n",
       "    </tr>\n",
       "    <tr>\n",
       "      <th>2024-10-07</th>\n",
       "      <td>185.80</td>\n",
       "      <td>188.20</td>\n",
       "      <td>185.80</td>\n",
       "      <td>188.15</td>\n",
       "      <td>13993911</td>\n",
       "    </tr>\n",
       "    <tr>\n",
       "      <th>2024-10-08</th>\n",
       "      <td>186.95</td>\n",
       "      <td>187.35</td>\n",
       "      <td>185.50</td>\n",
       "      <td>187.25</td>\n",
       "      <td>9953432</td>\n",
       "    </tr>\n",
       "    <tr>\n",
       "      <th>2024-10-09</th>\n",
       "      <td>189.00</td>\n",
       "      <td>190.20</td>\n",
       "      <td>189.00</td>\n",
       "      <td>189.00</td>\n",
       "      <td>11860866</td>\n",
       "    </tr>\n",
       "    <tr>\n",
       "      <th>2024-10-11</th>\n",
       "      <td>189.05</td>\n",
       "      <td>192.80</td>\n",
       "      <td>189.05</td>\n",
       "      <td>192.15</td>\n",
       "      <td>13197709</td>\n",
       "    </tr>\n",
       "    <tr>\n",
       "      <th>2024-10-14</th>\n",
       "      <td>192.10</td>\n",
       "      <td>192.90</td>\n",
       "      <td>190.95</td>\n",
       "      <td>192.30</td>\n",
       "      <td>10725917</td>\n",
       "    </tr>\n",
       "    <tr>\n",
       "      <th>2024-10-15</th>\n",
       "      <td>193.00</td>\n",
       "      <td>196.60</td>\n",
       "      <td>193.00</td>\n",
       "      <td>196.40</td>\n",
       "      <td>15738243</td>\n",
       "    </tr>\n",
       "    <tr>\n",
       "      <th>2024-10-16</th>\n",
       "      <td>192.45</td>\n",
       "      <td>195.30</td>\n",
       "      <td>191.65</td>\n",
       "      <td>193.00</td>\n",
       "      <td>18604770</td>\n",
       "    </tr>\n",
       "    <tr>\n",
       "      <th>2024-10-17</th>\n",
       "      <td>194.00</td>\n",
       "      <td>194.10</td>\n",
       "      <td>191.90</td>\n",
       "      <td>193.30</td>\n",
       "      <td>9936801</td>\n",
       "    </tr>\n",
       "    <tr>\n",
       "      <th>2024-10-18</th>\n",
       "      <td>199.30</td>\n",
       "      <td>200.20</td>\n",
       "      <td>197.25</td>\n",
       "      <td>198.10</td>\n",
       "      <td>33596096</td>\n",
       "    </tr>\n",
       "    <tr>\n",
       "      <th>2024-10-21</th>\n",
       "      <td>199.05</td>\n",
       "      <td>199.95</td>\n",
       "      <td>198.00</td>\n",
       "      <td>198.05</td>\n",
       "      <td>13716495</td>\n",
       "    </tr>\n",
       "    <tr>\n",
       "      <th>2024-10-22</th>\n",
       "      <td>197.20</td>\n",
       "      <td>197.30</td>\n",
       "      <td>195.35</td>\n",
       "      <td>197.30</td>\n",
       "      <td>8995727</td>\n",
       "    </tr>\n",
       "    <tr>\n",
       "      <th>2024-10-23</th>\n",
       "      <td>196.70</td>\n",
       "      <td>196.90</td>\n",
       "      <td>195.65</td>\n",
       "      <td>196.00</td>\n",
       "      <td>10050673</td>\n",
       "    </tr>\n",
       "    <tr>\n",
       "      <th>2024-10-24</th>\n",
       "      <td>196.00</td>\n",
       "      <td>196.70</td>\n",
       "      <td>194.50</td>\n",
       "      <td>194.80</td>\n",
       "      <td>8642395</td>\n",
       "    </tr>\n",
       "    <tr>\n",
       "      <th>2024-10-25</th>\n",
       "      <td>195.00</td>\n",
       "      <td>196.55</td>\n",
       "      <td>195.00</td>\n",
       "      <td>196.40</td>\n",
       "      <td>12961246</td>\n",
       "    </tr>\n",
       "    <tr>\n",
       "      <th>2024-10-28</th>\n",
       "      <td>197.90</td>\n",
       "      <td>198.15</td>\n",
       "      <td>194.95</td>\n",
       "      <td>196.05</td>\n",
       "      <td>11929580</td>\n",
       "    </tr>\n",
       "    <tr>\n",
       "      <th>2024-10-29</th>\n",
       "      <td>193.25</td>\n",
       "      <td>193.25</td>\n",
       "      <td>190.20</td>\n",
       "      <td>191.50</td>\n",
       "      <td>26008937</td>\n",
       "    </tr>\n",
       "    <tr>\n",
       "      <th>2024-10-30</th>\n",
       "      <td>192.95</td>\n",
       "      <td>194.05</td>\n",
       "      <td>191.50</td>\n",
       "      <td>191.80</td>\n",
       "      <td>14531256</td>\n",
       "    </tr>\n",
       "    <tr>\n",
       "      <th>2024-11-01</th>\n",
       "      <td>186.15</td>\n",
       "      <td>190.55</td>\n",
       "      <td>185.95</td>\n",
       "      <td>190.50</td>\n",
       "      <td>21072030</td>\n",
       "    </tr>\n",
       "    <tr>\n",
       "      <th>2024-11-04</th>\n",
       "      <td>191.05</td>\n",
       "      <td>193.20</td>\n",
       "      <td>190.80</td>\n",
       "      <td>192.95</td>\n",
       "      <td>7681874</td>\n",
       "    </tr>\n",
       "  </tbody>\n",
       "</table>\n",
       "</div>"
      ],
      "text/plain": [
       "                         open    high     low   close    volume\n",
       "instrument datetime                                            \n",
       "0050       2024-10-01  183.90  184.60  183.35  183.60   9883064\n",
       "           2024-10-04  184.00  185.30  183.00  183.60   9244059\n",
       "           2024-10-07  185.80  188.20  185.80  188.15  13993911\n",
       "           2024-10-08  186.95  187.35  185.50  187.25   9953432\n",
       "           2024-10-09  189.00  190.20  189.00  189.00  11860866\n",
       "           2024-10-11  189.05  192.80  189.05  192.15  13197709\n",
       "           2024-10-14  192.10  192.90  190.95  192.30  10725917\n",
       "           2024-10-15  193.00  196.60  193.00  196.40  15738243\n",
       "           2024-10-16  192.45  195.30  191.65  193.00  18604770\n",
       "           2024-10-17  194.00  194.10  191.90  193.30   9936801\n",
       "           2024-10-18  199.30  200.20  197.25  198.10  33596096\n",
       "           2024-10-21  199.05  199.95  198.00  198.05  13716495\n",
       "           2024-10-22  197.20  197.30  195.35  197.30   8995727\n",
       "           2024-10-23  196.70  196.90  195.65  196.00  10050673\n",
       "           2024-10-24  196.00  196.70  194.50  194.80   8642395\n",
       "           2024-10-25  195.00  196.55  195.00  196.40  12961246\n",
       "           2024-10-28  197.90  198.15  194.95  196.05  11929580\n",
       "           2024-10-29  193.25  193.25  190.20  191.50  26008937\n",
       "           2024-10-30  192.95  194.05  191.50  191.80  14531256\n",
       "           2024-11-01  186.15  190.55  185.95  190.50  21072030\n",
       "           2024-11-04  191.05  193.20  190.80  192.95   7681874"
      ]
     },
     "execution_count": 8,
     "metadata": {},
     "output_type": "execute_result"
    }
   ],
   "source": [
    "benchmark_inst = \"0050\"\n",
    "benchmark_data = pd.read_parquet(\n",
    "    f\"{PLUMBER_HOST}stocks/tw/ohlcv\",\n",
    "    storage_options={\n",
    "        \"gcp-token\": json.dumps(token),\n",
    "        \"start-date\": start_date,\n",
    "        \"end-date\": end_date,\n",
    "        \"tickers\": benchmark_inst,\n",
    "    },\n",
    ")\n",
    "benchmark_data.index.set_levels(\n",
    "    pd.to_datetime(benchmark_data.index.levels[1]),\n",
    "    level=1,\n",
    "    inplace=True,\n",
    ")\n",
    "benchmark_data.rename_axis(index={\n",
    "    'ticker': 'instrument'\n",
    "}, inplace=True)\n",
    "\n",
    "benchmark_data"
   ]
  },
  {
   "cell_type": "markdown",
   "metadata": {},
   "source": [
    "### Initialize Tidal\n",
    "1. Initialize Tidal object\n",
    "2. Add Quote data (pd.DataFrame)\n",
    "3. Set strategy object (td.BaseStrategy)\n",
    "4. Add metric objects (td.BaseMetic)"
   ]
  },
  {
   "cell_type": "code",
   "execution_count": 9,
   "metadata": {},
   "outputs": [],
   "source": [
    "# Initialize Tidal object\n",
    "tidal = td.Tidal(init_cash=50000000, slip_ticks=1, stock_config=td.StockConfig.TW, load_configs=True, reqMem=\"1000Mi\", ignore_volume_size=True)\n",
    "\n",
    "# Add quote data\n",
    "tidal.add_quote(quote_data)\n",
    "\n",
    "# Set strategy object\n",
    "tidal.set_strategy(td.strategy.TopkDropout(5, 1, 'new'))\n",
    "\n",
    "# Set metric objects\n",
    "tidal.add_metric(td.metric.AccountInfo())\n",
    "tidal.add_metric(td.metric.AdditionalInfo())\n",
    "tidal.add_metric(td.metric.PositionInfo())\n",
    "tidal.add_metric(td.metric.Portfolio(benchmark_data.loc[benchmark_inst]))"
   ]
  },
  {
   "cell_type": "markdown",
   "metadata": {},
   "source": [
    "### Stock Config"
   ]
  },
  {
   "cell_type": "code",
   "execution_count": 10,
   "metadata": {},
   "outputs": [
    {
     "data": {
      "text/plain": [
       "InstConfig {Margin:0.0, Tick Size:0.002, Tick Value:0.002, Trade Unit:1000, Commission:0.0004275, Min Commission:20.0, Transaction Tax:0.003}"
      ]
     },
     "execution_count": 10,
     "metadata": {},
     "output_type": "execute_result"
    }
   ],
   "source": [
    "tidal.exchange.stock_config"
   ]
  },
  {
   "cell_type": "markdown",
   "metadata": {},
   "source": [
    "### Instrument Configs"
   ]
  },
  {
   "cell_type": "code",
   "execution_count": 11,
   "metadata": {},
   "outputs": [
    {
     "data": {
      "text/plain": [
       "{'TX': InstConfig {Margin:184000.0, Tick Size:1.0, Tick Value:200.0, Trade Unit:1, Commission:40.0, Min Commission:0.0, Transaction Tax:2e-05},\n",
       " 'MTX': InstConfig {Margin:46000.0, Tick Size:1.0, Tick Value:50.0, Trade Unit:1, Commission:20.0, Min Commission:0.0, Transaction Tax:2e-05},\n",
       " 'NQ': InstConfig {Margin:16500.0, Tick Size:0.25, Tick Value:5.0, Trade Unit:1, Commission:1.85, Min Commission:0.0, Transaction Tax:0.0}}"
      ]
     },
     "execution_count": 11,
     "metadata": {},
     "output_type": "execute_result"
    }
   ],
   "source": [
    "tidal.exchange.inst_configs"
   ]
  },
  {
   "cell_type": "markdown",
   "metadata": {},
   "source": [
    "### Config Modification"
   ]
  },
  {
   "cell_type": "code",
   "execution_count": 12,
   "metadata": {},
   "outputs": [
    {
     "data": {
      "text/plain": [
       "InstConfig {Margin:0.0, Tick Size:0.002, Tick Value:0.002, Trade Unit:1000, Commission:0.00032775, Min Commission:20.0, Transaction Tax:0.003}"
      ]
     },
     "execution_count": 12,
     "metadata": {},
     "output_type": "execute_result"
    }
   ],
   "source": [
    "# Set commission to 77% off\n",
    "tidal.exchange.set_stock_config(commission=0.001425 * 0.23)\n",
    "tidal.exchange.stock_config"
   ]
  },
  {
   "cell_type": "markdown",
   "metadata": {},
   "source": [
    "### Add New Instrument Config"
   ]
  },
  {
   "cell_type": "code",
   "execution_count": 13,
   "metadata": {},
   "outputs": [
    {
     "data": {
      "text/plain": [
       "{'TX': InstConfig {Margin:184000.0, Tick Size:1.0, Tick Value:200.0, Trade Unit:1, Commission:40.0, Min Commission:0.0, Transaction Tax:2e-05},\n",
       " 'MTX': InstConfig {Margin:46000.0, Tick Size:1.0, Tick Value:50.0, Trade Unit:1, Commission:20.0, Min Commission:0.0, Transaction Tax:2e-05},\n",
       " 'NQ': InstConfig {Margin:16500.0, Tick Size:0.25, Tick Value:5.0, Trade Unit:1, Commission:1.85, Min Commission:0.0, Transaction Tax:0.0},\n",
       " 'MGC': InstConfig {Margin:787.0, Tick Size:0.1, Tick Value:1.0, Trade Unit:1, Commission:2.0, Min Commission:0.0, Transaction Tax:0.0}}"
      ]
     },
     "execution_count": 13,
     "metadata": {},
     "output_type": "execute_result"
    }
   ],
   "source": [
    "# Add MGC config\n",
    "tidal.exchange.set_config(instrument='MGC', margin=787., tick_size=0.1, tick_value=1., trade_unit=1, commission=2., min_commission=0., transaction_tax=0.)\n",
    "tidal.exchange.inst_configs"
   ]
  },
  {
   "cell_type": "markdown",
   "metadata": {},
   "source": [
    "### Start Backtesting"
   ]
  },
  {
   "cell_type": "code",
   "execution_count": 14,
   "metadata": {},
   "outputs": [
    {
     "name": "stderr",
     "output_type": "stream",
     "text": [
      "Tidal Backtesting: 100%|██████████| 21/21 [00:00<00:00, 24.82it/s, cash=5.32e+5, pnl=-1.8e+5, position_cost=4.62e+7, value=4.65e+7] \n"
     ]
    }
   ],
   "source": [
    "tidal.backtest()\n",
    "logs = tidal.get_logs()\n",
    "for log in logs:\n",
    "    print(log)"
   ]
  },
  {
   "cell_type": "markdown",
   "metadata": {},
   "source": [
    "### Metric - AccountInfo"
   ]
  },
  {
   "cell_type": "code",
   "execution_count": 15,
   "metadata": {},
   "outputs": [
    {
     "name": "stdout",
     "output_type": "stream",
     "text": [
      "                    cash     trade_cost  position_cost  slip_cost        pnl  \\\n",
      "datetime                                                                       \n",
      "2024-10-01  5.000000e+07       0.000000            0.0        0.0        0.0   \n",
      "2024-10-04  3.177497e+06   15341.047477     46807162.4   -62387.6 -1039712.4   \n",
      "2024-10-07  6.162708e+05   50518.779334     49202560.4    30710.4  -750560.4   \n",
      "2024-10-08  6.101058e+05   93250.800918     48936262.4    82643.4 -1096762.4   \n",
      "2024-10-09  5.165515e+05  124405.146018     48283234.4     6693.4  -798334.4   \n",
      "2024-10-11  6.953585e+05  159044.059237     48121760.4  -121752.6  -910660.4   \n",
      "2024-10-14  5.204868e+05  189334.203029     47960162.4   -67671.0  -958662.4   \n",
      "2024-10-15  4.163109e+05  222720.092856     47876136.4    89619.0 -1434936.4   \n",
      "2024-10-16  4.307682e+05  254243.616554     47260365.6   113788.2 -1001365.6   \n",
      "2024-10-17  4.751684e+05  282719.383913     46566063.6   121912.2   125336.4   \n",
      "2024-10-18  5.710853e+05  310855.513284     46426563.6    42859.2    79936.4   \n",
      "2024-10-21  5.306847e+05  353068.114320     46316109.6   250047.2   245290.4   \n",
      "2024-10-22  4.473011e+05  385012.464370     46519916.4   322486.4   376183.6   \n",
      "2024-10-23  6.898218e+05  428047.763749     46486670.4   217230.4    37529.6   \n",
      "2024-10-24  5.027327e+05  469423.300830     46425227.4   295744.0  -236627.4   \n",
      "2024-10-25  4.837105e+05  497613.500610     46544603.4   277076.0   384596.6   \n",
      "2024-10-28  3.524414e+05  525977.239535     46694101.8   343181.4   146798.2   \n",
      "2024-10-29  4.342047e+05  557693.883521     46481677.8   363701.4    11622.2   \n",
      "2024-10-30  5.182155e+05  585375.486721     46099715.4   368609.0   589284.6   \n",
      "2024-11-01  3.633662e+05  613376.781649     46404323.4   465857.0  -197323.4   \n",
      "2024-11-04  5.315346e+05  641622.353600     46176869.4   452143.0  -179769.4   \n",
      "\n",
      "                   value  max_drawdown    turnover  \n",
      "datetime                                            \n",
      "2024-10-01  5.000000e+07      0.000000         0.0  \n",
      "2024-10-04  4.894495e+07     -0.021101  46807162.4  \n",
      "2024-10-07  4.906827e+07     -0.018635  21319548.0  \n",
      "2024-10-08  4.844961e+07     -0.031008  23349567.0  \n",
      "2024-10-09  4.800145e+07     -0.039971  17096400.0  \n",
      "2024-10-11  4.790646e+07     -0.041871  18776498.0  \n",
      "2024-10-14  4.752199e+07     -0.049560  16691022.4  \n",
      "2024-10-15  4.685751e+07     -0.062850  18324210.0  \n",
      "2024-10-16  4.668977e+07     -0.066205  17209439.2  \n",
      "2024-10-17  4.716657e+07     -0.056669  15519876.0  \n",
      "2024-10-18  4.707759e+07     -0.058448  15292053.0  \n",
      "2024-10-21  4.709208e+07     -0.058158  23093904.0  \n",
      "2024-10-22  4.734340e+07     -0.053132  17519632.8  \n",
      "2024-10-23  4.721402e+07     -0.055720  23311156.0  \n",
      "2024-10-24  4.669133e+07     -0.066173  22757000.4  \n",
      "2024-10-25  4.741291e+07     -0.051742  15415920.0  \n",
      "2024-10-28  4.719334e+07     -0.056133  15602843.4  \n",
      "2024-10-29  4.692750e+07     -0.061450  17259704.0  \n",
      "2024-10-30  4.720722e+07     -0.055856  15053516.4  \n",
      "2024-11-01  4.657037e+07     -0.068593  15424192.0  \n",
      "2024-11-04  4.652863e+07     -0.069427  15292546.0  \n"
     ]
    }
   ],
   "source": [
    "account_info = tidal.metrics[\"AccountInfo\"].report\n",
    "print(account_info)"
   ]
  },
  {
   "cell_type": "markdown",
   "metadata": {},
   "source": [
    "### Metric - PositionInfo"
   ]
  },
  {
   "cell_type": "code",
   "execution_count": 16,
   "metadata": {},
   "outputs": [
    {
     "name": "stdout",
     "output_type": "stream",
     "text": [
      "                       quantity    price   commission  slip_cost       pnl  \\\n",
      "instrument datetime                                                          \n",
      "1102       2024-10-09  181000.0  47.4000  2811.898350     9050.0 -144800.0   \n",
      "           2024-10-11  181000.0  47.4000  2811.898350     9050.0 -253400.0   \n",
      "           2024-10-16  187000.0  45.8916  2812.661745  -123120.8  -35829.2   \n",
      "           2024-10-17  187000.0  45.8916  2812.661745  -123120.8  207270.8   \n",
      "           2024-10-18  187000.0  45.8916  2812.661745  -123120.8  319470.8   \n",
      "...                         ...      ...          ...        ...       ...   \n",
      "9904       2024-10-30  258000.0  36.4728  3084.121732   -84417.6  342417.6   \n",
      "           2024-11-01  258000.0  36.4728  3084.121732   -84417.6  381117.6   \n",
      "           2024-11-04  258000.0  36.4728  3084.121732   -84417.6  497217.6   \n",
      "9933       2024-10-04  201000.0  47.4000  3122.605350    50250.0 -170850.0   \n",
      "9938       2024-11-01   97000.0  80.1600  2548.426680   -62080.0   -5820.0   \n",
      "\n",
      "                       now_price  \n",
      "instrument datetime               \n",
      "1102       2024-10-09      46.60  \n",
      "           2024-10-11      46.00  \n",
      "           2024-10-16      45.70  \n",
      "           2024-10-17      47.00  \n",
      "           2024-10-18      47.60  \n",
      "...                          ...  \n",
      "9904       2024-10-30      37.80  \n",
      "           2024-11-01      37.95  \n",
      "           2024-11-04      38.40  \n",
      "9933       2024-10-04      46.55  \n",
      "9938       2024-11-01      80.10  \n",
      "\n",
      "[100 rows x 6 columns]\n"
     ]
    }
   ],
   "source": [
    "position_df = tidal.metrics[\"PositionInfo\"].report\n",
    "print(position_df)"
   ]
  },
  {
   "cell_type": "code",
   "execution_count": 17,
   "metadata": {},
   "outputs": [
    {
     "data": {
      "text/html": [
       "<div>\n",
       "<style scoped>\n",
       "    .dataframe tbody tr th:only-of-type {\n",
       "        vertical-align: middle;\n",
       "    }\n",
       "\n",
       "    .dataframe tbody tr th {\n",
       "        vertical-align: top;\n",
       "    }\n",
       "\n",
       "    .dataframe thead th {\n",
       "        text-align: right;\n",
       "    }\n",
       "</style>\n",
       "<table border=\"1\" class=\"dataframe\">\n",
       "  <thead>\n",
       "    <tr style=\"text-align: right;\">\n",
       "      <th></th>\n",
       "      <th></th>\n",
       "      <th>quantity</th>\n",
       "      <th>price</th>\n",
       "      <th>commission</th>\n",
       "      <th>slip_cost</th>\n",
       "      <th>pnl</th>\n",
       "      <th>now_price</th>\n",
       "    </tr>\n",
       "    <tr>\n",
       "      <th>instrument</th>\n",
       "      <th>datetime</th>\n",
       "      <th></th>\n",
       "      <th></th>\n",
       "      <th></th>\n",
       "      <th></th>\n",
       "      <th></th>\n",
       "      <th></th>\n",
       "    </tr>\n",
       "  </thead>\n",
       "  <tbody>\n",
       "  </tbody>\n",
       "</table>\n",
       "</div>"
      ],
      "text/plain": [
       "Empty DataFrame\n",
       "Columns: [quantity, price, commission, slip_cost, pnl, now_price]\n",
       "Index: []"
      ]
     },
     "execution_count": 17,
     "metadata": {},
     "output_type": "execute_result"
    }
   ],
   "source": [
    "pi_report = tidal.metrics['PositionInfo'].report\n",
    "pi_report.iloc[pi_report.index.get_level_values('datetime') == '2022-06-14']"
   ]
  },
  {
   "cell_type": "markdown",
   "metadata": {},
   "source": [
    "### Metric - AdditionalInfo"
   ]
  },
  {
   "cell_type": "code",
   "execution_count": 18,
   "metadata": {},
   "outputs": [
    {
     "data": {
      "text/html": [
       "<div>\n",
       "<style scoped>\n",
       "    .dataframe tbody tr th:only-of-type {\n",
       "        vertical-align: middle;\n",
       "    }\n",
       "\n",
       "    .dataframe tbody tr th {\n",
       "        vertical-align: top;\n",
       "    }\n",
       "\n",
       "    .dataframe thead th {\n",
       "        text-align: right;\n",
       "    }\n",
       "</style>\n",
       "<table border=\"1\" class=\"dataframe\">\n",
       "  <thead>\n",
       "    <tr style=\"text-align: right;\">\n",
       "      <th></th>\n",
       "      <th></th>\n",
       "      <th>new</th>\n",
       "    </tr>\n",
       "    <tr>\n",
       "      <th>instrument</th>\n",
       "      <th>datetime</th>\n",
       "      <th></th>\n",
       "    </tr>\n",
       "  </thead>\n",
       "  <tbody>\n",
       "    <tr>\n",
       "      <th rowspan=\"5\" valign=\"top\">1101</th>\n",
       "      <th>2024-10-01</th>\n",
       "      <td>0.019117</td>\n",
       "    </tr>\n",
       "    <tr>\n",
       "      <th>2024-10-04</th>\n",
       "      <td>0.023760</td>\n",
       "    </tr>\n",
       "    <tr>\n",
       "      <th>2024-10-07</th>\n",
       "      <td>0.019706</td>\n",
       "    </tr>\n",
       "    <tr>\n",
       "      <th>2024-10-08</th>\n",
       "      <td>0.020897</td>\n",
       "    </tr>\n",
       "    <tr>\n",
       "      <th>2024-10-09</th>\n",
       "      <td>0.018912</td>\n",
       "    </tr>\n",
       "    <tr>\n",
       "      <th>...</th>\n",
       "      <th>...</th>\n",
       "      <td>...</td>\n",
       "    </tr>\n",
       "    <tr>\n",
       "      <th rowspan=\"5\" valign=\"top\">9958</th>\n",
       "      <th>2024-10-28</th>\n",
       "      <td>0.002693</td>\n",
       "    </tr>\n",
       "    <tr>\n",
       "      <th>2024-10-29</th>\n",
       "      <td>0.004001</td>\n",
       "    </tr>\n",
       "    <tr>\n",
       "      <th>2024-10-30</th>\n",
       "      <td>0.003805</td>\n",
       "    </tr>\n",
       "    <tr>\n",
       "      <th>2024-11-01</th>\n",
       "      <td>0.004953</td>\n",
       "    </tr>\n",
       "    <tr>\n",
       "      <th>2024-11-04</th>\n",
       "      <td>0.003305</td>\n",
       "    </tr>\n",
       "  </tbody>\n",
       "</table>\n",
       "<p>6804 rows × 1 columns</p>\n",
       "</div>"
      ],
      "text/plain": [
       "                            new\n",
       "instrument datetime            \n",
       "1101       2024-10-01  0.019117\n",
       "           2024-10-04  0.023760\n",
       "           2024-10-07  0.019706\n",
       "           2024-10-08  0.020897\n",
       "           2024-10-09  0.018912\n",
       "...                         ...\n",
       "9958       2024-10-28  0.002693\n",
       "           2024-10-29  0.004001\n",
       "           2024-10-30  0.003805\n",
       "           2024-11-01  0.004953\n",
       "           2024-11-04  0.003305\n",
       "\n",
       "[6804 rows x 1 columns]"
      ]
     },
     "execution_count": 18,
     "metadata": {},
     "output_type": "execute_result"
    }
   ],
   "source": [
    "tidal.metrics['AdditionalInfo'].report"
   ]
  },
  {
   "cell_type": "markdown",
   "metadata": {},
   "source": [
    "### Strategy Lake Submit"
   ]
  },
  {
   "cell_type": "code",
   "execution_count": 19,
   "metadata": {},
   "outputs": [
    {
     "name": "stdout",
     "output_type": "stream",
     "text": [
      "update lake monitoring data success\n"
     ]
    }
   ],
   "source": [
    "group = dict(zip(df[\"coid\"].astype(str), df[\"tejind4_c\"]))\n",
    "submit_lake_backtest_result = tidal.submit_lake_monitor(account_info=account_info, position_df=position_df, benchmark_info=benchmark_data, group=group,lake_env=\"dev\",strategy_id=19)\n",
    "print(submit_lake_backtest_result)"
   ]
  },
  {
   "cell_type": "markdown",
   "metadata": {},
   "source": [
    "### Trade Report"
   ]
  },
  {
   "cell_type": "code",
   "execution_count": 20,
   "metadata": {},
   "outputs": [
    {
     "data": {
      "text/html": [
       "<div>\n",
       "<style scoped>\n",
       "    .dataframe tbody tr th:only-of-type {\n",
       "        vertical-align: middle;\n",
       "    }\n",
       "\n",
       "    .dataframe tbody tr th {\n",
       "        vertical-align: top;\n",
       "    }\n",
       "\n",
       "    .dataframe thead th {\n",
       "        text-align: right;\n",
       "    }\n",
       "</style>\n",
       "<table border=\"1\" class=\"dataframe\">\n",
       "  <thead>\n",
       "    <tr style=\"text-align: right;\">\n",
       "      <th></th>\n",
       "      <th>win_num</th>\n",
       "      <th>lose_num</th>\n",
       "      <th>trade_num</th>\n",
       "      <th>pos_num</th>\n",
       "      <th>win_rate</th>\n",
       "      <th>profit</th>\n",
       "      <th>loss</th>\n",
       "      <th>trade_cost</th>\n",
       "      <th>pnl</th>\n",
       "    </tr>\n",
       "    <tr>\n",
       "      <th>instrument</th>\n",
       "      <th></th>\n",
       "      <th></th>\n",
       "      <th></th>\n",
       "      <th></th>\n",
       "      <th></th>\n",
       "      <th></th>\n",
       "      <th></th>\n",
       "      <th></th>\n",
       "      <th></th>\n",
       "    </tr>\n",
       "  </thead>\n",
       "  <tbody>\n",
       "    <tr>\n",
       "      <th>9904</th>\n",
       "      <td>1.0</td>\n",
       "      <td>0.0</td>\n",
       "      <td>1.0</td>\n",
       "      <td>1.0</td>\n",
       "      <td>1.000000</td>\n",
       "      <td>497217.600000</td>\n",
       "      <td>0.000000e+00</td>\n",
       "      <td>9.409982e+06</td>\n",
       "      <td>4.972176e+05</td>\n",
       "    </tr>\n",
       "    <tr>\n",
       "      <th>9938</th>\n",
       "      <td>0.0</td>\n",
       "      <td>1.0</td>\n",
       "      <td>1.0</td>\n",
       "      <td>0.0</td>\n",
       "      <td>0.000000</td>\n",
       "      <td>0.000000</td>\n",
       "      <td>-5.936012e+04</td>\n",
       "      <td>2.832012e+04</td>\n",
       "      <td>-5.936012e+04</td>\n",
       "    </tr>\n",
       "    <tr>\n",
       "      <th>2707</th>\n",
       "      <td>1.0</td>\n",
       "      <td>1.0</td>\n",
       "      <td>2.0</td>\n",
       "      <td>1.0</td>\n",
       "      <td>0.500000</td>\n",
       "      <td>34143.000000</td>\n",
       "      <td>-1.508908e+05</td>\n",
       "      <td>1.149361e+07</td>\n",
       "      <td>-1.167478e+05</td>\n",
       "    </tr>\n",
       "    <tr>\n",
       "      <th>9933</th>\n",
       "      <td>0.0</td>\n",
       "      <td>1.0</td>\n",
       "      <td>1.0</td>\n",
       "      <td>0.0</td>\n",
       "      <td>0.000000</td>\n",
       "      <td>0.000000</td>\n",
       "      <td>-1.650426e+05</td>\n",
       "      <td>3.439264e+04</td>\n",
       "      <td>-1.650426e+05</td>\n",
       "    </tr>\n",
       "    <tr>\n",
       "      <th>8358</th>\n",
       "      <td>0.0</td>\n",
       "      <td>1.0</td>\n",
       "      <td>1.0</td>\n",
       "      <td>0.0</td>\n",
       "      <td>0.000000</td>\n",
       "      <td>0.000000</td>\n",
       "      <td>-2.980768e+05</td>\n",
       "      <td>2.780679e+04</td>\n",
       "      <td>-2.980768e+05</td>\n",
       "    </tr>\n",
       "    <tr>\n",
       "      <th>2233</th>\n",
       "      <td>1.0</td>\n",
       "      <td>2.0</td>\n",
       "      <td>3.0</td>\n",
       "      <td>0.0</td>\n",
       "      <td>0.333333</td>\n",
       "      <td>100392.925704</td>\n",
       "      <td>-4.607797e+05</td>\n",
       "      <td>1.043838e+05</td>\n",
       "      <td>-3.603868e+05</td>\n",
       "    </tr>\n",
       "    <tr>\n",
       "      <th>1102</th>\n",
       "      <td>2.0</td>\n",
       "      <td>2.0</td>\n",
       "      <td>4.0</td>\n",
       "      <td>1.0</td>\n",
       "      <td>0.500000</td>\n",
       "      <td>213778.047628</td>\n",
       "      <td>-5.850750e+05</td>\n",
       "      <td>8.676728e+06</td>\n",
       "      <td>-3.712969e+05</td>\n",
       "    </tr>\n",
       "    <tr>\n",
       "      <th>2912</th>\n",
       "      <td>0.0</td>\n",
       "      <td>1.0</td>\n",
       "      <td>1.0</td>\n",
       "      <td>1.0</td>\n",
       "      <td>0.000000</td>\n",
       "      <td>0.000000</td>\n",
       "      <td>-7.623520e+05</td>\n",
       "      <td>9.194352e+06</td>\n",
       "      <td>-7.623520e+05</td>\n",
       "    </tr>\n",
       "    <tr>\n",
       "      <th>3455</th>\n",
       "      <td>1.0</td>\n",
       "      <td>4.0</td>\n",
       "      <td>5.0</td>\n",
       "      <td>1.0</td>\n",
       "      <td>0.200000</td>\n",
       "      <td>17280.163677</td>\n",
       "      <td>-8.179405e+05</td>\n",
       "      <td>7.674451e+06</td>\n",
       "      <td>-8.006603e+05</td>\n",
       "    </tr>\n",
       "    <tr>\n",
       "      <th>3227</th>\n",
       "      <td>3.0</td>\n",
       "      <td>2.0</td>\n",
       "      <td>5.0</td>\n",
       "      <td>0.0</td>\n",
       "      <td>0.600000</td>\n",
       "      <td>377400.603765</td>\n",
       "      <td>-1.396926e+06</td>\n",
       "      <td>1.593341e+05</td>\n",
       "      <td>-1.019525e+06</td>\n",
       "    </tr>\n",
       "  </tbody>\n",
       "</table>\n",
       "</div>"
      ],
      "text/plain": [
       "            win_num  lose_num  trade_num  pos_num  win_rate         profit  \\\n",
       "instrument                                                                   \n",
       "9904            1.0       0.0        1.0      1.0  1.000000  497217.600000   \n",
       "9938            0.0       1.0        1.0      0.0  0.000000       0.000000   \n",
       "2707            1.0       1.0        2.0      1.0  0.500000   34143.000000   \n",
       "9933            0.0       1.0        1.0      0.0  0.000000       0.000000   \n",
       "8358            0.0       1.0        1.0      0.0  0.000000       0.000000   \n",
       "2233            1.0       2.0        3.0      0.0  0.333333  100392.925704   \n",
       "1102            2.0       2.0        4.0      1.0  0.500000  213778.047628   \n",
       "2912            0.0       1.0        1.0      1.0  0.000000       0.000000   \n",
       "3455            1.0       4.0        5.0      1.0  0.200000   17280.163677   \n",
       "3227            3.0       2.0        5.0      0.0  0.600000  377400.603765   \n",
       "\n",
       "                    loss    trade_cost           pnl  \n",
       "instrument                                            \n",
       "9904        0.000000e+00  9.409982e+06  4.972176e+05  \n",
       "9938       -5.936012e+04  2.832012e+04 -5.936012e+04  \n",
       "2707       -1.508908e+05  1.149361e+07 -1.167478e+05  \n",
       "9933       -1.650426e+05  3.439264e+04 -1.650426e+05  \n",
       "8358       -2.980768e+05  2.780679e+04 -2.980768e+05  \n",
       "2233       -4.607797e+05  1.043838e+05 -3.603868e+05  \n",
       "1102       -5.850750e+05  8.676728e+06 -3.712969e+05  \n",
       "2912       -7.623520e+05  9.194352e+06 -7.623520e+05  \n",
       "3455       -8.179405e+05  7.674451e+06 -8.006603e+05  \n",
       "3227       -1.396926e+06  1.593341e+05 -1.019525e+06  "
      ]
     },
     "execution_count": 20,
     "metadata": {},
     "output_type": "execute_result"
    }
   ],
   "source": [
    "tidal.trade_report"
   ]
  },
  {
   "cell_type": "markdown",
   "metadata": {},
   "source": [
    "### Traded instruments"
   ]
  },
  {
   "cell_type": "code",
   "execution_count": 21,
   "metadata": {},
   "outputs": [
    {
     "data": {
      "text/plain": [
       "dict_keys(['9933', '2912', '9904', '3455', '3227', '2233', '2707', '1102', '8358', '9938'])"
      ]
     },
     "execution_count": 21,
     "metadata": {},
     "output_type": "execute_result"
    }
   ],
   "source": [
    "tidal.account.trades.keys()"
   ]
  },
  {
   "cell_type": "markdown",
   "metadata": {},
   "source": [
    "### Trading History"
   ]
  },
  {
   "cell_type": "code",
   "execution_count": 22,
   "metadata": {},
   "outputs": [],
   "source": [
    "# tidal.account.trades['3015']"
   ]
  },
  {
   "cell_type": "markdown",
   "metadata": {},
   "source": [
    "### Plot chart by using Plotly"
   ]
  },
  {
   "cell_type": "code",
   "execution_count": 23,
   "metadata": {},
   "outputs": [],
   "source": [
    "# tidal.analyzer.inst_chart(instrument='3015', metric_name='AdditionalInfo', plot_type=td.PlotType.LINE, scale=1.0)"
   ]
  },
  {
   "cell_type": "markdown",
   "metadata": {},
   "source": [
    "### Tidal Dashboard"
   ]
  },
  {
   "cell_type": "code",
   "execution_count": 24,
   "metadata": {},
   "outputs": [
    {
     "name": "stdout",
     "output_type": "stream",
     "text": [
      " * Serving Flask app 'tidal.tdboard'\n",
      " * Debug mode: off\n"
     ]
    },
    {
     "name": "stderr",
     "output_type": "stream",
     "text": [
      "INFO:werkzeug:\u001b[31m\u001b[1mWARNING: This is a development server. Do not use it in a production deployment. Use a production WSGI server instead.\u001b[0m\n",
      " * Running on all addresses (0.0.0.0)\n",
      " * Running on http://127.0.0.1:37859\n",
      " * Running on http://10.136.14.60:37859\n",
      "INFO:werkzeug:\u001b[33mPress CTRL+C to quit\u001b[0m\n",
      "INFO:werkzeug:10.0.10.82 - - [05/Nov/2024 10:54:38] \"GET / HTTP/1.1\" 200 -\n",
      "INFO:werkzeug:10.0.10.82 - - [05/Nov/2024 10:54:38] \"GET /static/js/main.d754b0a3.js HTTP/1.1\" 200 -\n",
      "INFO:werkzeug:10.0.10.82 - - [05/Nov/2024 10:54:39] \"GET /static/css/main.bf4d504b.css HTTP/1.1\" 200 -\n",
      "INFO:werkzeug:10.0.10.82 - - [05/Nov/2024 10:54:40] \"GET /images/Tidal_Logo_white.png HTTP/1.1\" 200 -\n",
      "INFO:werkzeug:10.0.10.82 - - [05/Nov/2024 10:54:40] \"GET /api/quote/inst_list HTTP/1.1\" 200 -\n",
      "INFO:werkzeug:10.0.10.82 - - [05/Nov/2024 10:54:40] \"GET /api/metric/metric_list HTTP/1.1\" 200 -\n",
      "INFO:werkzeug:10.0.10.82 - - [05/Nov/2024 10:54:40] \"GET /api/trade/trade_report HTTP/1.1\" 200 -\n",
      "INFO:werkzeug:10.0.10.82 - - [05/Nov/2024 10:54:40] \"GET /Tidal_Logo.png HTTP/1.1\" 200 -\n",
      "INFO:werkzeug:10.0.10.82 - - [05/Nov/2024 10:54:40] \"\u001b[36mGET /Tidal_Logo.png HTTP/1.1\u001b[0m\" 304 -\n",
      "INFO:werkzeug:10.0.10.82 - - [05/Nov/2024 10:54:43] \"POST /api/metric/metric_reports HTTP/1.1\" 200 -\n",
      "INFO:werkzeug:10.0.10.82 - - [05/Nov/2024 10:54:43] \"GET /static/media/primeicons.78172950b335ccdb94e2.woff2 HTTP/1.1\" 200 -\n",
      "INFO:werkzeug:10.0.10.82 - - [05/Nov/2024 10:54:43] \"GET /images/ph_arrows-out-cardinal.svg HTTP/1.1\" 200 -\n",
      "INFO:werkzeug:10.0.10.82 - - [05/Nov/2024 10:54:43] \"GET /images/ph_x.svg HTTP/1.1\" 200 -\n",
      "INFO:werkzeug:10.0.10.82 - - [05/Nov/2024 10:54:44] \"POST /api/metric/metric_reports HTTP/1.1\" 200 -\n"
     ]
    }
   ],
   "source": [
    "tidal.tdboard()"
   ]
  },
  {
   "cell_type": "code",
   "execution_count": null,
   "metadata": {},
   "outputs": [],
   "source": [
    "tidal.account.position_history"
   ]
  }
 ],
 "metadata": {
  "kernelspec": {
   "display_name": "py310",
   "language": "python",
   "name": "python3"
  },
  "language_info": {
   "codemirror_mode": {
    "name": "ipython",
    "version": 3
   },
   "file_extension": ".py",
   "mimetype": "text/x-python",
   "name": "python",
   "nbconvert_exporter": "python",
   "pygments_lexer": "ipython3",
   "version": "3.10.15"
  }
 },
 "nbformat": 4,
 "nbformat_minor": 2
}
