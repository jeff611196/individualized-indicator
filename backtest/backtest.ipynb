{
 "cells": [
  {
   "cell_type": "markdown",
   "metadata": {},
   "source": [
    "### Import Required Package"
   ]
  },
  {
   "cell_type": "code",
   "execution_count": 24,
   "metadata": {},
   "outputs": [],
   "source": [
    "import pandas as pd\n",
    "import talib\n",
    "import numpy as np\n",
    "import json"
   ]
  },
  {
   "cell_type": "markdown",
   "metadata": {},
   "source": [
    "### Import Tidal"
   ]
  },
  {
   "cell_type": "code",
   "execution_count": 25,
   "metadata": {},
   "outputs": [],
   "source": [
    "import tidal as td"
   ]
  },
  {
   "cell_type": "markdown",
   "metadata": {},
   "source": [
    "### Initialize Plumber"
   ]
  },
  {
   "cell_type": "code",
   "execution_count": 26,
   "metadata": {},
   "outputs": [],
   "source": [
    "from pathlib import Path\n",
    "import ssl\n",
    "ssl._create_default_https_context = ssl._create_unverified_context\n",
    "\n",
    "PLUMBER_HOST = \"https://dev-api.ddt-dst.cc/api/plumber/\"\n",
    "with open(f'{str(Path.home())}/.config/gcloud/application_default_credentials.json') as plumber_token:\n",
    "    token = json.load(plumber_token)"
   ]
  },
  {
   "cell_type": "markdown",
   "metadata": {},
   "source": [
    "### Load market data and compute technical indicators"
   ]
  },
  {
   "cell_type": "code",
   "execution_count": 27,
   "metadata": {},
   "outputs": [
    {
     "name": "stderr",
     "output_type": "stream",
     "text": [
      "/tmp/ipykernel_48149/1253896345.py:110: FutureWarning: Comparison of Timestamp with datetime.date is deprecated in order to match the standard library behavior. In a future version these will be considered non-comparable. Use 'ts == pd.Timestamp(date)' or 'ts.date() == date' instead.\n",
      "  selected_df['datetime'] = pd.to_datetime(selected_df['datetime'])\n",
      "/tmp/ipykernel_48149/1253896345.py:110: FutureWarning: Comparison of Timestamp with datetime.date is deprecated in order to match the standard library behavior. In a future version these will be considered non-comparable. Use 'ts == pd.Timestamp(date)' or 'ts.date() == date' instead.\n",
      "  selected_df['datetime'] = pd.to_datetime(selected_df['datetime'])\n",
      "/tmp/ipykernel_48149/1253896345.py:110: FutureWarning: Comparison of Timestamp with datetime.date is deprecated in order to match the standard library behavior. In a future version these will be considered non-comparable. Use 'ts == pd.Timestamp(date)' or 'ts.date() == date' instead.\n",
      "  selected_df['datetime'] = pd.to_datetime(selected_df['datetime'])\n",
      "/tmp/ipykernel_48149/1253896345.py:110: FutureWarning: Comparison of Timestamp with datetime.date is deprecated in order to match the standard library behavior. In a future version these will be considered non-comparable. Use 'ts == pd.Timestamp(date)' or 'ts.date() == date' instead.\n",
      "  selected_df['datetime'] = pd.to_datetime(selected_df['datetime'])\n",
      "/tmp/ipykernel_48149/1253896345.py:110: FutureWarning: Comparison of Timestamp with datetime.date is deprecated in order to match the standard library behavior. In a future version these will be considered non-comparable. Use 'ts == pd.Timestamp(date)' or 'ts.date() == date' instead.\n",
      "  selected_df['datetime'] = pd.to_datetime(selected_df['datetime'])\n",
      "/tmp/ipykernel_48149/1253896345.py:110: FutureWarning: Comparison of Timestamp with datetime.date is deprecated in order to match the standard library behavior. In a future version these will be considered non-comparable. Use 'ts == pd.Timestamp(date)' or 'ts.date() == date' instead.\n",
      "  selected_df['datetime'] = pd.to_datetime(selected_df['datetime'])\n",
      "/tmp/ipykernel_48149/1253896345.py:110: FutureWarning: Comparison of Timestamp with datetime.date is deprecated in order to match the standard library behavior. In a future version these will be considered non-comparable. Use 'ts == pd.Timestamp(date)' or 'ts.date() == date' instead.\n",
      "  selected_df['datetime'] = pd.to_datetime(selected_df['datetime'])\n",
      "/tmp/ipykernel_48149/1253896345.py:110: FutureWarning: Comparison of Timestamp with datetime.date is deprecated in order to match the standard library behavior. In a future version these will be considered non-comparable. Use 'ts == pd.Timestamp(date)' or 'ts.date() == date' instead.\n",
      "  selected_df['datetime'] = pd.to_datetime(selected_df['datetime'])\n",
      "/tmp/ipykernel_48149/1253896345.py:110: FutureWarning: Comparison of Timestamp with datetime.date is deprecated in order to match the standard library behavior. In a future version these will be considered non-comparable. Use 'ts == pd.Timestamp(date)' or 'ts.date() == date' instead.\n",
      "  selected_df['datetime'] = pd.to_datetime(selected_df['datetime'])\n",
      "/tmp/ipykernel_48149/1253896345.py:110: FutureWarning: Comparison of Timestamp with datetime.date is deprecated in order to match the standard library behavior. In a future version these will be considered non-comparable. Use 'ts == pd.Timestamp(date)' or 'ts.date() == date' instead.\n",
      "  selected_df['datetime'] = pd.to_datetime(selected_df['datetime'])\n",
      "/tmp/ipykernel_48149/1253896345.py:110: FutureWarning: Comparison of Timestamp with datetime.date is deprecated in order to match the standard library behavior. In a future version these will be considered non-comparable. Use 'ts == pd.Timestamp(date)' or 'ts.date() == date' instead.\n",
      "  selected_df['datetime'] = pd.to_datetime(selected_df['datetime'])\n",
      "/tmp/ipykernel_48149/1253896345.py:110: FutureWarning: Comparison of Timestamp with datetime.date is deprecated in order to match the standard library behavior. In a future version these will be considered non-comparable. Use 'ts == pd.Timestamp(date)' or 'ts.date() == date' instead.\n",
      "  selected_df['datetime'] = pd.to_datetime(selected_df['datetime'])\n",
      "/tmp/ipykernel_48149/1253896345.py:110: FutureWarning: Comparison of Timestamp with datetime.date is deprecated in order to match the standard library behavior. In a future version these will be considered non-comparable. Use 'ts == pd.Timestamp(date)' or 'ts.date() == date' instead.\n",
      "  selected_df['datetime'] = pd.to_datetime(selected_df['datetime'])\n",
      "/tmp/ipykernel_48149/1253896345.py:110: FutureWarning: Comparison of Timestamp with datetime.date is deprecated in order to match the standard library behavior. In a future version these will be considered non-comparable. Use 'ts == pd.Timestamp(date)' or 'ts.date() == date' instead.\n",
      "  selected_df['datetime'] = pd.to_datetime(selected_df['datetime'])\n"
     ]
    }
   ],
   "source": [
    "import os\n",
    "import pandas as pd\n",
    "\n",
    "os.chdir('/home/jovyan/individualized-indicator')\n",
    "# 定義你想要讀取檔案的目錄\n",
    "directory = './emb'\n",
    "\n",
    "start_date = \"2022-06-01\"\n",
    "end_date = \"2024-09-30\"\n",
    "\n",
    "# 初始化一個空的字典來存儲所有讀取的 DataFrame\n",
    "dataframes = {}\n",
    "\n",
    "# 遍歷目錄中的所有檔案\n",
    "for filename in os.listdir(directory):\n",
    "    if filename.endswith('.pkl'):\n",
    "        # 組合完整的檔案路徑\n",
    "        file_path = os.path.join(directory, filename)\n",
    "        # 讀取 .pkl 檔案\n",
    "        df = pd.read_pickle(file_path)\n",
    "        \n",
    "        # 使用檔案名稱（不包括副檔名）作為字典的鍵\n",
    "        variable_name = filename.split('_')[2]\n",
    "        \n",
    "        # 將 DataFrame 儲存到字典中\n",
    "        dataframes[variable_name] = df\n",
    "\n",
    "keys_list = list(dataframes.keys())\n",
    "# 將字符串轉換為 datetime 格式，然後進行排序\n",
    "sorted_dates = sorted(pd.to_datetime(keys_list))\n",
    "keys_list = [date.strftime('%Y-%m-%d') for date in sorted_dates]\n",
    "\n",
    "total_df = pd.DataFrame()\n",
    "\n",
    "for j in range(0,len(keys_list)):\n",
    "    df_name = keys_list[j]\n",
    "    selected_df = dataframes[df_name]    \n",
    "    selected_df = selected_df.reset_index()\n",
    "    stock_list = pd.DataFrame(selected_df.iloc[:,0].unique())\n",
    "    total_df = pd.concat([total_df, stock_list], ignore_index=True)\n",
    "    \n",
    "unique_values_list = list(total_df.iloc[:,0].unique())\n",
    "sorted_list = sorted(unique_values_list)\n",
    "\n",
    "total_data = pd.read_parquet(\n",
    "    f\"{PLUMBER_HOST}stocks/tw/ohlcv\",\n",
    "    storage_options={\n",
    "        \"gcp-token\": json.dumps(token),\n",
    "        \"start-date\": start_date,\n",
    "        \"end-date\": end_date,\n",
    "        \"tickers\": \",\".join([stock for stock in sorted_list]),\n",
    "    },\n",
    ")\n",
    "\n",
    "total_data.index = total_data.index.set_levels(\n",
    "    pd.to_datetime(total_data.index.levels[1]),level=1)\n",
    "\n",
    "total_data.rename_axis(index={\n",
    "    'ticker': 'instrument'\n",
    "}, inplace=True)\n",
    "\n",
    "total_data['new'] = -1\n",
    "total_data.reset_index(inplace=True)\n",
    "\n",
    "def filter_by_year_month_9(filter_data, select_year, select_mon):\n",
    "    # 計算當前篩選年份和下一個年份\n",
    "    next_year = select_year + 1\n",
    "    \n",
    "    # 構建篩選條件：當前年12月、次年1月、次年2月\n",
    "    filter_data = filter_data[\n",
    "        ((filter_data['datetime'].dt.year == next_year) & (filter_data['datetime'].dt.month == 1)) |\n",
    "        ((filter_data['datetime'].dt.year == next_year) & (filter_data['datetime'].dt.month == 2)) |\n",
    "        ((filter_data['datetime'].dt.year == next_year) & (filter_data['datetime'].dt.month == 3))\n",
    "    ]\n",
    "    \n",
    "    return filter_data\n",
    "\n",
    "def filter_by_year_month_12(filter_data, select_year, select_mon):\n",
    "    # 計算當前篩選年份和下一個年份\n",
    "    next_year = select_year + 1\n",
    "    \n",
    "    # 構建篩選條件：當前年12月、次年1月、次年2月\n",
    "    filter_data = filter_data[\n",
    "        ((filter_data['datetime'].dt.year == next_year) & (filter_data['datetime'].dt.month == 4)) |\n",
    "        ((filter_data['datetime'].dt.year == next_year) & (filter_data['datetime'].dt.month == 5)) |\n",
    "        ((filter_data['datetime'].dt.year == next_year) & (filter_data['datetime'].dt.month == 6))\n",
    "    ]\n",
    "    \n",
    "    return filter_data\n",
    "\n",
    "concat_df = pd.DataFrame()\n",
    "\n",
    "# for i in range(0,len(keys_list)-1):\n",
    "for i in range(0,len(keys_list)):\n",
    "    df_name = keys_list[i]\n",
    "    selected_df = dataframes[df_name]\n",
    "    selected_df.reset_index(inplace=True)\n",
    "    stock_df = selected_df.iloc[:,0]\n",
    "    stock_df_unique = list(stock_df.unique())\n",
    "    result = list(set(sorted_list) - set(stock_df_unique))\n",
    "    filtered_df = total_data[total_data['instrument'].isin(result)]\n",
    "    filtered_df = filtered_df.rename(columns={'volume': 'vol'})\n",
    "    selected_df = pd.concat([selected_df, filtered_df], ignore_index=True)\n",
    "    \n",
    "    select_year = int(df_name.split('-')[0])\n",
    "    select_mon = int(df_name.split('-')[1])\n",
    "    select_mons = [(select_mon+4)%12, (select_mon+5)%12, (select_mon+6)%12]\n",
    "    select_mons = [12 if mon == 0 else mon for mon in select_mons]\n",
    "    \n",
    "    selected_df['datetime'] = pd.to_datetime(selected_df['datetime'])\n",
    "    # 過濾出所有6月的交易資料\n",
    "    filter_data = selected_df[selected_df['datetime'].dt.month.isin(select_mons)]\n",
    "\n",
    "    # 使用時，根據 select_year 和 select_mon 動態篩選數據\n",
    "    \n",
    "    if select_mon == 9:\n",
    "        filter_data = filter_by_year_month_9(filter_data, select_year, select_mon)\n",
    "    \n",
    "    elif select_mon == 12:\n",
    "        filter_data = filter_by_year_month_12(filter_data, select_year, select_mon) \n",
    "\n",
    "    else:\n",
    "        filter_data = filter_data[filter_data['datetime'].dt.year == select_year]\n",
    "    \n",
    "    concat_df = pd.concat([concat_df, filter_data], ignore_index=True)\n",
    "    \n",
    "# i = len(keys_list)-1\n",
    "# df_name = keys_list[i]\n",
    "# selected_df = dataframes[df_name]\n",
    "# selected_df.reset_index(inplace=True)\n",
    "# stock_df = selected_df.iloc[:,0]\n",
    "# stock_df_unique = list(stock_df.unique())\n",
    "# result = list(set(sorted_list) - set(stock_df_unique))\n",
    "# filtered_df = total_data[total_data['instrument'].isin(result)]\n",
    "# filtered_df = filtered_df.rename(columns={'volume': 'vol'})\n",
    "# selected_df = pd.concat([selected_df, filtered_df], ignore_index=True)\n",
    "# concat_df = pd.concat([concat_df, selected_df], ignore_index=True)\n",
    "\n",
    "concat_df.sort_values(by=['instrument', 'datetime'], inplace=True)\n",
    "concat_df.reset_index(drop=True, inplace=True)\n",
    "row = np.where(concat_df.iloc[:,0] == '6251')[0]\n",
    "concat_df = concat_df.drop(index=row)\n",
    "concat_df = concat_df.reset_index(drop=True)\n",
    "row = np.where(concat_df.iloc[:,0] == '8406')[0]\n",
    "concat_df = concat_df.drop(index=row)\n",
    "concat_df = concat_df.reset_index(drop=True)\n",
    "row = np.where(concat_df.iloc[:,0] == '6548')[0]\n",
    "concat_df = concat_df.drop(index=row)\n",
    "concat_df = concat_df.reset_index(drop=True)\n",
    "quote_data = concat_df.set_index(['instrument', 'datetime'])\n",
    "quote_data.columns.values[4] = 'volume'"
   ]
  },
  {
   "cell_type": "code",
   "execution_count": 28,
   "metadata": {},
   "outputs": [],
   "source": [
    "# i = len(keys_list)-1\n",
    "# df_name = keys_list[i]\n",
    "# selected_df = dataframes[df_name]\n",
    "# selected_df.reset_index(inplace=True)\n",
    "# stock_df = selected_df.iloc[:,0]\n",
    "# stock_df_unique = list(stock_df.unique())\n",
    "# result = list(set(sorted_list) - set(stock_df_unique))\n",
    "# filtered_df = total_data[total_data['instrument'].isin(result)]\n",
    "# filtered_df = filtered_df.rename(columns={'volume': 'vol'})\n",
    "# selected_df = pd.concat([selected_df, filtered_df], ignore_index=True)\n",
    "# concat_df = pd.concat([concat_df, selected_df], ignore_index=True)"
   ]
  },
  {
   "cell_type": "markdown",
   "metadata": {},
   "source": [
    "### Strategy Lake API"
   ]
  },
  {
   "cell_type": "code",
   "execution_count": 29,
   "metadata": {},
   "outputs": [],
   "source": [
    "data_api_url = (\"https://dev-api.ddt-dst.cc/api/plumber/nextron/industry_prod_df\")\n",
    "df = pd.read_parquet(\n",
    "    data_api_url,\n",
    "    storage_options={\n",
    "        \"gcp-token\": json.dumps(token),\n",
    "    }\n",
    ")"
   ]
  },
  {
   "cell_type": "markdown",
   "metadata": {},
   "source": [
    "### Load benchmark data"
   ]
  },
  {
   "cell_type": "code",
   "execution_count": 30,
   "metadata": {},
   "outputs": [
    {
     "name": "stderr",
     "output_type": "stream",
     "text": [
      "/tmp/ipykernel_48149/2173060872.py:11: FutureWarning: inplace is deprecated and will be removed in a future version.\n",
      "  benchmark_data.index.set_levels(\n"
     ]
    },
    {
     "data": {
      "text/html": [
       "<div>\n",
       "<style scoped>\n",
       "    .dataframe tbody tr th:only-of-type {\n",
       "        vertical-align: middle;\n",
       "    }\n",
       "\n",
       "    .dataframe tbody tr th {\n",
       "        vertical-align: top;\n",
       "    }\n",
       "\n",
       "    .dataframe thead th {\n",
       "        text-align: right;\n",
       "    }\n",
       "</style>\n",
       "<table border=\"1\" class=\"dataframe\">\n",
       "  <thead>\n",
       "    <tr style=\"text-align: right;\">\n",
       "      <th></th>\n",
       "      <th></th>\n",
       "      <th>open</th>\n",
       "      <th>high</th>\n",
       "      <th>low</th>\n",
       "      <th>close</th>\n",
       "      <th>volume</th>\n",
       "    </tr>\n",
       "    <tr>\n",
       "      <th>instrument</th>\n",
       "      <th>datetime</th>\n",
       "      <th></th>\n",
       "      <th></th>\n",
       "      <th></th>\n",
       "      <th></th>\n",
       "      <th></th>\n",
       "    </tr>\n",
       "  </thead>\n",
       "  <tbody>\n",
       "    <tr>\n",
       "      <th rowspan=\"11\" valign=\"top\">0050</th>\n",
       "      <th>2022-06-01</th>\n",
       "      <td>119.2856</td>\n",
       "      <td>119.9775</td>\n",
       "      <td>119.0089</td>\n",
       "      <td>119.1473</td>\n",
       "      <td>6730117</td>\n",
       "    </tr>\n",
       "    <tr>\n",
       "      <th>2022-06-02</th>\n",
       "      <td>118.5015</td>\n",
       "      <td>118.5015</td>\n",
       "      <td>117.7173</td>\n",
       "      <td>117.9018</td>\n",
       "      <td>4721923</td>\n",
       "    </tr>\n",
       "    <tr>\n",
       "      <th>2022-06-06</th>\n",
       "      <td>118.3170</td>\n",
       "      <td>119.0089</td>\n",
       "      <td>117.5789</td>\n",
       "      <td>118.7321</td>\n",
       "      <td>4292361</td>\n",
       "    </tr>\n",
       "    <tr>\n",
       "      <th>2022-06-07</th>\n",
       "      <td>118.0402</td>\n",
       "      <td>118.0402</td>\n",
       "      <td>117.0254</td>\n",
       "      <td>117.5328</td>\n",
       "      <td>5160242</td>\n",
       "    </tr>\n",
       "    <tr>\n",
       "      <th>2022-06-08</th>\n",
       "      <td>118.5476</td>\n",
       "      <td>119.1011</td>\n",
       "      <td>118.2247</td>\n",
       "      <td>118.8244</td>\n",
       "      <td>4110313</td>\n",
       "    </tr>\n",
       "    <tr>\n",
       "      <th>...</th>\n",
       "      <td>...</td>\n",
       "      <td>...</td>\n",
       "      <td>...</td>\n",
       "      <td>...</td>\n",
       "      <td>...</td>\n",
       "    </tr>\n",
       "    <tr>\n",
       "      <th>2024-09-24</th>\n",
       "      <td>183.2000</td>\n",
       "      <td>185.0000</td>\n",
       "      <td>182.1000</td>\n",
       "      <td>185.0000</td>\n",
       "      <td>10476465</td>\n",
       "    </tr>\n",
       "    <tr>\n",
       "      <th>2024-09-25</th>\n",
       "      <td>187.7000</td>\n",
       "      <td>188.0000</td>\n",
       "      <td>187.3500</td>\n",
       "      <td>187.7500</td>\n",
       "      <td>12464313</td>\n",
       "    </tr>\n",
       "    <tr>\n",
       "      <th>2024-09-26</th>\n",
       "      <td>189.6000</td>\n",
       "      <td>190.0000</td>\n",
       "      <td>188.7500</td>\n",
       "      <td>189.3000</td>\n",
       "      <td>17369543</td>\n",
       "    </tr>\n",
       "    <tr>\n",
       "      <th>2024-09-27</th>\n",
       "      <td>190.2000</td>\n",
       "      <td>191.2500</td>\n",
       "      <td>188.6000</td>\n",
       "      <td>188.9000</td>\n",
       "      <td>11999510</td>\n",
       "    </tr>\n",
       "    <tr>\n",
       "      <th>2024-09-30</th>\n",
       "      <td>186.5500</td>\n",
       "      <td>187.2000</td>\n",
       "      <td>183.9500</td>\n",
       "      <td>183.9500</td>\n",
       "      <td>14461065</td>\n",
       "    </tr>\n",
       "  </tbody>\n",
       "</table>\n",
       "<p>569 rows × 5 columns</p>\n",
       "</div>"
      ],
      "text/plain": [
       "                           open      high       low     close    volume\n",
       "instrument datetime                                                    \n",
       "0050       2022-06-01  119.2856  119.9775  119.0089  119.1473   6730117\n",
       "           2022-06-02  118.5015  118.5015  117.7173  117.9018   4721923\n",
       "           2022-06-06  118.3170  119.0089  117.5789  118.7321   4292361\n",
       "           2022-06-07  118.0402  118.0402  117.0254  117.5328   5160242\n",
       "           2022-06-08  118.5476  119.1011  118.2247  118.8244   4110313\n",
       "...                         ...       ...       ...       ...       ...\n",
       "           2024-09-24  183.2000  185.0000  182.1000  185.0000  10476465\n",
       "           2024-09-25  187.7000  188.0000  187.3500  187.7500  12464313\n",
       "           2024-09-26  189.6000  190.0000  188.7500  189.3000  17369543\n",
       "           2024-09-27  190.2000  191.2500  188.6000  188.9000  11999510\n",
       "           2024-09-30  186.5500  187.2000  183.9500  183.9500  14461065\n",
       "\n",
       "[569 rows x 5 columns]"
      ]
     },
     "execution_count": 30,
     "metadata": {},
     "output_type": "execute_result"
    }
   ],
   "source": [
    "benchmark_inst = \"0050\"\n",
    "benchmark_data = pd.read_parquet(\n",
    "    f\"{PLUMBER_HOST}stocks/tw/ohlcv\",\n",
    "    storage_options={\n",
    "        \"gcp-token\": json.dumps(token),\n",
    "        \"start-date\": start_date,\n",
    "        \"end-date\": end_date,\n",
    "        \"tickers\": benchmark_inst,\n",
    "    },\n",
    ")\n",
    "benchmark_data.index.set_levels(\n",
    "    pd.to_datetime(benchmark_data.index.levels[1]),\n",
    "    level=1,\n",
    "    inplace=True,\n",
    ")\n",
    "benchmark_data.rename_axis(index={\n",
    "    'ticker': 'instrument'\n",
    "}, inplace=True)\n",
    "\n",
    "benchmark_data"
   ]
  },
  {
   "cell_type": "markdown",
   "metadata": {},
   "source": [
    "### Initialize Tidal\n",
    "1. Initialize Tidal object\n",
    "2. Add Quote data (pd.DataFrame)\n",
    "3. Set strategy object (td.BaseStrategy)\n",
    "4. Add metric objects (td.BaseMetic)"
   ]
  },
  {
   "cell_type": "code",
   "execution_count": 31,
   "metadata": {},
   "outputs": [],
   "source": [
    "# Initialize Tidal object\n",
    "tidal = td.Tidal(init_cash=10000000, slip_ticks=1, stock_config=td.StockConfig.TW, load_configs=True, reqMem=\"1000Mi\")\n",
    "\n",
    "# Add quote data\n",
    "tidal.add_quote(quote_data)\n",
    "\n",
    "# Set strategy object\n",
    "tidal.set_strategy(td.strategy.TopkDropout(10, 1, 'new'))\n",
    "\n",
    "# Set metric objects\n",
    "tidal.add_metric(td.metric.AccountInfo())\n",
    "tidal.add_metric(td.metric.AdditionalInfo())\n",
    "tidal.add_metric(td.metric.PositionInfo())\n",
    "tidal.add_metric(td.metric.Portfolio(benchmark_data.loc[benchmark_inst]))"
   ]
  },
  {
   "cell_type": "markdown",
   "metadata": {},
   "source": [
    "### Stock Config"
   ]
  },
  {
   "cell_type": "code",
   "execution_count": 32,
   "metadata": {},
   "outputs": [
    {
     "data": {
      "text/plain": [
       "InstConfig {Margin:0.0, Tick Size:0.002, Tick Value:0.002, Trade Unit:1000, Commission:0.0004275, Min Commission:20.0, Transaction Tax:0.003}"
      ]
     },
     "execution_count": 32,
     "metadata": {},
     "output_type": "execute_result"
    }
   ],
   "source": [
    "tidal.exchange.stock_config"
   ]
  },
  {
   "cell_type": "markdown",
   "metadata": {},
   "source": [
    "### Instrument Configs"
   ]
  },
  {
   "cell_type": "code",
   "execution_count": 33,
   "metadata": {},
   "outputs": [
    {
     "data": {
      "text/plain": [
       "{'MTX': InstConfig {Margin:46000.0, Tick Size:1.0, Tick Value:50.0, Trade Unit:1, Commission:20.0, Min Commission:0.0, Transaction Tax:2e-05},\n",
       " 'TX': InstConfig {Margin:184000.0, Tick Size:1.0, Tick Value:200.0, Trade Unit:1, Commission:40.0, Min Commission:0.0, Transaction Tax:2e-05},\n",
       " 'NQ': InstConfig {Margin:16500.0, Tick Size:0.25, Tick Value:5.0, Trade Unit:1, Commission:1.85, Min Commission:0.0, Transaction Tax:0.0}}"
      ]
     },
     "execution_count": 33,
     "metadata": {},
     "output_type": "execute_result"
    }
   ],
   "source": [
    "tidal.exchange.inst_configs"
   ]
  },
  {
   "cell_type": "markdown",
   "metadata": {},
   "source": [
    "### Config Modification"
   ]
  },
  {
   "cell_type": "code",
   "execution_count": 34,
   "metadata": {},
   "outputs": [
    {
     "data": {
      "text/plain": [
       "InstConfig {Margin:0.0, Tick Size:0.002, Tick Value:0.002, Trade Unit:1000, Commission:0.00032775, Min Commission:20.0, Transaction Tax:0.003}"
      ]
     },
     "execution_count": 34,
     "metadata": {},
     "output_type": "execute_result"
    }
   ],
   "source": [
    "# Set commission to 77% off\n",
    "tidal.exchange.set_stock_config(commission=0.001425 * 0.23)\n",
    "tidal.exchange.stock_config"
   ]
  },
  {
   "cell_type": "markdown",
   "metadata": {},
   "source": [
    "### Add New Instrument Config"
   ]
  },
  {
   "cell_type": "code",
   "execution_count": 35,
   "metadata": {},
   "outputs": [
    {
     "data": {
      "text/plain": [
       "{'MTX': InstConfig {Margin:46000.0, Tick Size:1.0, Tick Value:50.0, Trade Unit:1, Commission:20.0, Min Commission:0.0, Transaction Tax:2e-05},\n",
       " 'TX': InstConfig {Margin:184000.0, Tick Size:1.0, Tick Value:200.0, Trade Unit:1, Commission:40.0, Min Commission:0.0, Transaction Tax:2e-05},\n",
       " 'NQ': InstConfig {Margin:16500.0, Tick Size:0.25, Tick Value:5.0, Trade Unit:1, Commission:1.85, Min Commission:0.0, Transaction Tax:0.0},\n",
       " 'MGC': InstConfig {Margin:787.0, Tick Size:0.1, Tick Value:1.0, Trade Unit:1, Commission:2.0, Min Commission:0.0, Transaction Tax:0.0}}"
      ]
     },
     "execution_count": 35,
     "metadata": {},
     "output_type": "execute_result"
    }
   ],
   "source": [
    "# Add MGC config\n",
    "tidal.exchange.set_config(instrument='MGC', margin=787., tick_size=0.1, tick_value=1., trade_unit=1, commission=2., min_commission=0., transaction_tax=0.)\n",
    "tidal.exchange.inst_configs"
   ]
  },
  {
   "cell_type": "markdown",
   "metadata": {},
   "source": [
    "### Start Backtesting"
   ]
  },
  {
   "cell_type": "code",
   "execution_count": 36,
   "metadata": {},
   "outputs": [
    {
     "name": "stderr",
     "output_type": "stream",
     "text": [
      "Tidal Backtesting: 100%|██████████| 483/483 [01:09<00:00,  6.97it/s, cash=6.66e+4, pnl=2.32e+5, position_cost=1.5e+7, value=1.53e+7]  \n"
     ]
    }
   ],
   "source": [
    "tidal.backtest()"
   ]
  },
  {
   "cell_type": "markdown",
   "metadata": {},
   "source": [
    "### Metric - AccountInfo"
   ]
  },
  {
   "cell_type": "code",
   "execution_count": 37,
   "metadata": {},
   "outputs": [
    {
     "name": "stdout",
     "output_type": "stream",
     "text": [
      "                    cash    trade_cost  position_cost     slip_cost  \\\n",
      "datetime                                                              \n",
      "2022-10-03  1.000000e+07  0.000000e+00   0.000000e+00  0.000000e+00   \n",
      "2022-10-04  4.430399e+06  1.824839e+03   5.567776e+06  8.503089e+04   \n",
      "2022-10-05  2.376126e+06  5.956308e+03   7.617338e+06  1.002646e+05   \n",
      "2022-10-06  2.880454e+05  1.006048e+04   9.685790e+06  1.077339e+05   \n",
      "2022-10-07  9.851374e+04  1.371435e+04   9.848086e+06  1.044285e+05   \n",
      "...                  ...           ...            ...           ...   \n",
      "2024-09-24  5.943588e+04  1.531893e+06   1.499209e+07  1.618090e+06   \n",
      "2024-09-25  4.078134e+04  1.535338e+06   1.501323e+07  1.628899e+06   \n",
      "2024-09-26  6.698297e+04  1.538886e+06   1.500032e+07  1.625599e+06   \n",
      "2024-09-27  6.661549e+04  1.542297e+06   1.498708e+07  1.622406e+06   \n",
      "2024-09-30  6.661549e+04  1.542297e+06   1.498708e+07  1.622406e+06   \n",
      "\n",
      "                    pnl         value  max_drawdown      turnover  \n",
      "datetime                                                           \n",
      "2022-10-03       0.0000  1.000000e+07      0.000000  0.000000e+00  \n",
      "2022-10-04    6484.2136  1.000466e+07      0.000000  5.567776e+06  \n",
      "2022-10-05  -74650.6536  9.918813e+06     -0.008581  3.942925e+06  \n",
      "2022-10-06  -69266.8966  9.904568e+06     -0.010004  3.955760e+06  \n",
      "2022-10-07 -103522.6590  9.843078e+06     -0.016151  2.151650e+06  \n",
      "...                 ...           ...           ...           ...  \n",
      "2024-09-24  -68243.2254  1.498328e+07     -0.066860  1.866052e+06  \n",
      "2024-09-25    4364.5746  1.505838e+07     -0.062183  1.897609e+06  \n",
      "2024-09-26  -51726.4254  1.501558e+07     -0.064848  1.916750e+06  \n",
      "2024-09-27  245166.7746  1.529886e+07     -0.047206  1.863557e+06  \n",
      "2024-09-30  232466.7746  1.528616e+07     -0.047997  0.000000e+00  \n",
      "\n",
      "[483 rows x 8 columns]\n"
     ]
    }
   ],
   "source": [
    "account_info = tidal.metrics[\"AccountInfo\"].report\n",
    "print(account_info)"
   ]
  },
  {
   "cell_type": "markdown",
   "metadata": {},
   "source": [
    "### Metric - PositionInfo"
   ]
  },
  {
   "cell_type": "code",
   "execution_count": 38,
   "metadata": {},
   "outputs": [
    {
     "name": "stdout",
     "output_type": "stream",
     "text": [
      "                       quantity      price  commission  slip_cost         pnl  \\\n",
      "instrument datetime                                                             \n",
      "1101       2023-08-02   39000.0  36.476307  466.249275   947.9730 -14196.2730   \n",
      "           2023-08-04   39000.0  36.476307  466.249275   947.9730  -8517.8730   \n",
      "           2023-08-07   39000.0  36.476307  466.249275   947.9730   2838.9270   \n",
      "           2023-08-22   30000.0  34.510500  339.324491  4368.0000  -4368.0000   \n",
      "           2023-08-23   30000.0  34.510500  339.324491  4368.0000  -7281.0000   \n",
      "...                         ...        ...         ...        ...         ...   \n",
      "9917       2023-04-07   13000.0  97.826462  416.814100  8524.9112 -26485.7112   \n",
      "           2023-04-10   13000.0  97.826462  416.814100  8524.9112 -20499.2112   \n",
      "           2023-04-11   13000.0  97.826462  416.814100  8524.9112  -8524.9112   \n",
      "           2023-04-12   13000.0  97.826462  416.814100  8524.9112   9435.8888   \n",
      "           2023-04-13   13000.0  97.826462  416.814100  8524.9112  -8524.9112   \n",
      "\n",
      "                       now_price  \n",
      "instrument datetime               \n",
      "1101       2023-08-02    36.1123  \n",
      "           2023-08-04    36.2579  \n",
      "           2023-08-07    36.5491  \n",
      "           2023-08-22    34.3649  \n",
      "           2023-08-23    34.2678  \n",
      "...                          ...  \n",
      "9917       2023-04-07    95.7891  \n",
      "           2023-04-10    96.2496  \n",
      "           2023-04-11    97.1707  \n",
      "           2023-04-12    98.5523  \n",
      "           2023-04-13    97.1707  \n",
      "\n",
      "[4805 rows x 6 columns]\n"
     ]
    }
   ],
   "source": [
    "position_df = tidal.metrics[\"PositionInfo\"].report\n",
    "print(position_df)"
   ]
  },
  {
   "cell_type": "code",
   "execution_count": 39,
   "metadata": {},
   "outputs": [
    {
     "data": {
      "text/html": [
       "<div>\n",
       "<style scoped>\n",
       "    .dataframe tbody tr th:only-of-type {\n",
       "        vertical-align: middle;\n",
       "    }\n",
       "\n",
       "    .dataframe tbody tr th {\n",
       "        vertical-align: top;\n",
       "    }\n",
       "\n",
       "    .dataframe thead th {\n",
       "        text-align: right;\n",
       "    }\n",
       "</style>\n",
       "<table border=\"1\" class=\"dataframe\">\n",
       "  <thead>\n",
       "    <tr style=\"text-align: right;\">\n",
       "      <th></th>\n",
       "      <th></th>\n",
       "      <th>quantity</th>\n",
       "      <th>price</th>\n",
       "      <th>commission</th>\n",
       "      <th>slip_cost</th>\n",
       "      <th>pnl</th>\n",
       "      <th>now_price</th>\n",
       "    </tr>\n",
       "    <tr>\n",
       "      <th>instrument</th>\n",
       "      <th>datetime</th>\n",
       "      <th></th>\n",
       "      <th></th>\n",
       "      <th></th>\n",
       "      <th></th>\n",
       "      <th></th>\n",
       "      <th></th>\n",
       "    </tr>\n",
       "  </thead>\n",
       "  <tbody>\n",
       "  </tbody>\n",
       "</table>\n",
       "</div>"
      ],
      "text/plain": [
       "Empty DataFrame\n",
       "Columns: [quantity, price, commission, slip_cost, pnl, now_price]\n",
       "Index: []"
      ]
     },
     "execution_count": 39,
     "metadata": {},
     "output_type": "execute_result"
    }
   ],
   "source": [
    "pi_report = tidal.metrics['PositionInfo'].report\n",
    "pi_report.iloc[pi_report.index.get_level_values('datetime') == '2022-06-14']"
   ]
  },
  {
   "cell_type": "markdown",
   "metadata": {},
   "source": [
    "### Metric - AdditionalInfo"
   ]
  },
  {
   "cell_type": "code",
   "execution_count": 40,
   "metadata": {},
   "outputs": [
    {
     "data": {
      "text/html": [
       "<div>\n",
       "<style scoped>\n",
       "    .dataframe tbody tr th:only-of-type {\n",
       "        vertical-align: middle;\n",
       "    }\n",
       "\n",
       "    .dataframe tbody tr th {\n",
       "        vertical-align: top;\n",
       "    }\n",
       "\n",
       "    .dataframe thead th {\n",
       "        text-align: right;\n",
       "    }\n",
       "</style>\n",
       "<table border=\"1\" class=\"dataframe\">\n",
       "  <thead>\n",
       "    <tr style=\"text-align: right;\">\n",
       "      <th></th>\n",
       "      <th></th>\n",
       "      <th>new</th>\n",
       "    </tr>\n",
       "    <tr>\n",
       "      <th>instrument</th>\n",
       "      <th>datetime</th>\n",
       "      <th></th>\n",
       "    </tr>\n",
       "  </thead>\n",
       "  <tbody>\n",
       "    <tr>\n",
       "      <th rowspan=\"5\" valign=\"top\">1101</th>\n",
       "      <th>2022-10-03</th>\n",
       "      <td>0.000665</td>\n",
       "    </tr>\n",
       "    <tr>\n",
       "      <th>2022-10-04</th>\n",
       "      <td>0.000618</td>\n",
       "    </tr>\n",
       "    <tr>\n",
       "      <th>2022-10-05</th>\n",
       "      <td>0.000491</td>\n",
       "    </tr>\n",
       "    <tr>\n",
       "      <th>2022-10-06</th>\n",
       "      <td>0.000574</td>\n",
       "    </tr>\n",
       "    <tr>\n",
       "      <th>2022-10-07</th>\n",
       "      <td>0.000857</td>\n",
       "    </tr>\n",
       "    <tr>\n",
       "      <th>...</th>\n",
       "      <th>...</th>\n",
       "      <td>...</td>\n",
       "    </tr>\n",
       "    <tr>\n",
       "      <th rowspan=\"5\" valign=\"top\">9958</th>\n",
       "      <th>2024-06-24</th>\n",
       "      <td>0.000682</td>\n",
       "    </tr>\n",
       "    <tr>\n",
       "      <th>2024-06-25</th>\n",
       "      <td>0.000826</td>\n",
       "    </tr>\n",
       "    <tr>\n",
       "      <th>2024-06-26</th>\n",
       "      <td>0.001590</td>\n",
       "    </tr>\n",
       "    <tr>\n",
       "      <th>2024-06-27</th>\n",
       "      <td>0.000963</td>\n",
       "    </tr>\n",
       "    <tr>\n",
       "      <th>2024-06-28</th>\n",
       "      <td>0.000365</td>\n",
       "    </tr>\n",
       "  </tbody>\n",
       "</table>\n",
       "<p>281669 rows × 1 columns</p>\n",
       "</div>"
      ],
      "text/plain": [
       "                            new\n",
       "instrument datetime            \n",
       "1101       2022-10-03  0.000665\n",
       "           2022-10-04  0.000618\n",
       "           2022-10-05  0.000491\n",
       "           2022-10-06  0.000574\n",
       "           2022-10-07  0.000857\n",
       "...                         ...\n",
       "9958       2024-06-24  0.000682\n",
       "           2024-06-25  0.000826\n",
       "           2024-06-26  0.001590\n",
       "           2024-06-27  0.000963\n",
       "           2024-06-28  0.000365\n",
       "\n",
       "[281669 rows x 1 columns]"
      ]
     },
     "execution_count": 40,
     "metadata": {},
     "output_type": "execute_result"
    }
   ],
   "source": [
    "tidal.metrics['AdditionalInfo'].report"
   ]
  },
  {
   "cell_type": "markdown",
   "metadata": {},
   "source": [
    "### Strategy Lake Submit"
   ]
  },
  {
   "cell_type": "code",
   "execution_count": 41,
   "metadata": {},
   "outputs": [
    {
     "name": "stdout",
     "output_type": "stream",
     "text": [
      "{'strategy_id': 19, 'position_date': '2024-10-16', 'position_data': [{'asset': '1229', 'buy_date': '2024-07-02', 'price': 61.74, 'quantity': 32000.0, 'now_price': 61.7}, {'asset': '1301', 'buy_date': '2024-07-03', 'price': 55.18, 'quantity': 19000.0, 'now_price': 53.5}, {'asset': '1305', 'buy_date': '2024-07-04', 'price': 16.22, 'quantity': 92000.0, 'now_price': 17.8}, {'asset': '1326', 'buy_date': '2024-09-27', 'price': 42.28, 'quantity': 22000.0, 'now_price': 43.45}, {'asset': '3227', 'buy_date': '2024-06-20', 'price': 163.23, 'quantity': 6000.0, 'now_price': nan}, {'asset': '6170', 'buy_date': '2024-06-04', 'price': 55.26, 'quantity': 24000.0, 'now_price': nan}, {'asset': '6189', 'buy_date': '2024-06-27', 'price': 87.75, 'quantity': 19000.0, 'now_price': nan}, {'asset': '6284', 'buy_date': '2024-06-28', 'price': 89.65, 'quantity': 19000.0, 'now_price': nan}, {'asset': '6585', 'buy_date': '2024-05-24', 'price': 210.86, 'quantity': 9000.0, 'now_price': nan}, {'asset': '8112', 'buy_date': '2024-06-26', 'price': 78.67, 'quantity': 25000.0, 'now_price': nan}]}\n",
      "{'message': 'error on http://10.0.10.195:8080/monitor/backtest_position/:Out of range float values are not JSON compliant'}\n"
     ]
    }
   ],
   "source": [
    "group = dict(zip(df[\"coid\"].astype(str), df[\"tejind4_c\"]))\n",
    "submit_lake_backtest_result = tidal.submit_lake_backtest(account_info=account_info, position_df=position_df, benchmark_info=benchmark_data, group=group,lake_env=\"dev\",strategy_id=19)\n",
    "print(submit_lake_backtest_result)"
   ]
  },
  {
   "cell_type": "markdown",
   "metadata": {},
   "source": [
    "### Trade Report"
   ]
  },
  {
   "cell_type": "code",
   "execution_count": 42,
   "metadata": {},
   "outputs": [
    {
     "data": {
      "text/html": [
       "<div>\n",
       "<style scoped>\n",
       "    .dataframe tbody tr th:only-of-type {\n",
       "        vertical-align: middle;\n",
       "    }\n",
       "\n",
       "    .dataframe tbody tr th {\n",
       "        vertical-align: top;\n",
       "    }\n",
       "\n",
       "    .dataframe thead th {\n",
       "        text-align: right;\n",
       "    }\n",
       "</style>\n",
       "<table border=\"1\" class=\"dataframe\">\n",
       "  <thead>\n",
       "    <tr style=\"text-align: right;\">\n",
       "      <th></th>\n",
       "      <th>win_num</th>\n",
       "      <th>lose_num</th>\n",
       "      <th>trade_num</th>\n",
       "      <th>pos_num</th>\n",
       "      <th>win_rate</th>\n",
       "      <th>profit</th>\n",
       "      <th>loss</th>\n",
       "      <th>trade_cost</th>\n",
       "      <th>pnl</th>\n",
       "    </tr>\n",
       "    <tr>\n",
       "      <th>instrument</th>\n",
       "      <th></th>\n",
       "      <th></th>\n",
       "      <th></th>\n",
       "      <th></th>\n",
       "      <th></th>\n",
       "      <th></th>\n",
       "      <th></th>\n",
       "      <th></th>\n",
       "      <th></th>\n",
       "    </tr>\n",
       "  </thead>\n",
       "  <tbody>\n",
       "    <tr>\n",
       "      <th>6245</th>\n",
       "      <td>2.0</td>\n",
       "      <td>1.0</td>\n",
       "      <td>3.0</td>\n",
       "      <td>0.0</td>\n",
       "      <td>0.666667</td>\n",
       "      <td>650831.362989</td>\n",
       "      <td>-79804.129958</td>\n",
       "      <td>1.298778e+04</td>\n",
       "      <td>571027.233030</td>\n",
       "    </tr>\n",
       "    <tr>\n",
       "      <th>6577</th>\n",
       "      <td>1.0</td>\n",
       "      <td>0.0</td>\n",
       "      <td>1.0</td>\n",
       "      <td>0.0</td>\n",
       "      <td>1.000000</td>\n",
       "      <td>565719.322189</td>\n",
       "      <td>0.000000</td>\n",
       "      <td>5.781286e+03</td>\n",
       "      <td>565719.322189</td>\n",
       "    </tr>\n",
       "    <tr>\n",
       "      <th>5508</th>\n",
       "      <td>3.0</td>\n",
       "      <td>1.0</td>\n",
       "      <td>4.0</td>\n",
       "      <td>0.0</td>\n",
       "      <td>0.750000</td>\n",
       "      <td>500761.952516</td>\n",
       "      <td>-15081.363072</td>\n",
       "      <td>1.905895e+04</td>\n",
       "      <td>485680.589443</td>\n",
       "    </tr>\n",
       "    <tr>\n",
       "      <th>6561</th>\n",
       "      <td>2.0</td>\n",
       "      <td>0.0</td>\n",
       "      <td>2.0</td>\n",
       "      <td>0.0</td>\n",
       "      <td>1.000000</td>\n",
       "      <td>459621.831765</td>\n",
       "      <td>0.000000</td>\n",
       "      <td>1.148869e+04</td>\n",
       "      <td>459621.831765</td>\n",
       "    </tr>\n",
       "    <tr>\n",
       "      <th>2916</th>\n",
       "      <td>2.0</td>\n",
       "      <td>2.0</td>\n",
       "      <td>4.0</td>\n",
       "      <td>0.0</td>\n",
       "      <td>0.500000</td>\n",
       "      <td>435083.011379</td>\n",
       "      <td>-32573.360862</td>\n",
       "      <td>2.342881e+04</td>\n",
       "      <td>402509.650516</td>\n",
       "    </tr>\n",
       "    <tr>\n",
       "      <th>...</th>\n",
       "      <td>...</td>\n",
       "      <td>...</td>\n",
       "      <td>...</td>\n",
       "      <td>...</td>\n",
       "      <td>...</td>\n",
       "      <td>...</td>\n",
       "      <td>...</td>\n",
       "      <td>...</td>\n",
       "      <td>...</td>\n",
       "    </tr>\n",
       "    <tr>\n",
       "      <th>1326</th>\n",
       "      <td>6.0</td>\n",
       "      <td>16.0</td>\n",
       "      <td>22.0</td>\n",
       "      <td>1.0</td>\n",
       "      <td>0.272727</td>\n",
       "      <td>149573.761943</td>\n",
       "      <td>-318165.546393</td>\n",
       "      <td>1.013509e+06</td>\n",
       "      <td>-168591.784451</td>\n",
       "    </tr>\n",
       "    <tr>\n",
       "      <th>6570</th>\n",
       "      <td>0.0</td>\n",
       "      <td>1.0</td>\n",
       "      <td>1.0</td>\n",
       "      <td>0.0</td>\n",
       "      <td>0.000000</td>\n",
       "      <td>0.000000</td>\n",
       "      <td>-227259.155444</td>\n",
       "      <td>5.329782e+03</td>\n",
       "      <td>-227259.155444</td>\n",
       "    </tr>\n",
       "    <tr>\n",
       "      <th>8091</th>\n",
       "      <td>3.0</td>\n",
       "      <td>7.0</td>\n",
       "      <td>10.0</td>\n",
       "      <td>0.0</td>\n",
       "      <td>0.300000</td>\n",
       "      <td>54610.093748</td>\n",
       "      <td>-309095.219002</td>\n",
       "      <td>4.505402e+04</td>\n",
       "      <td>-254485.125254</td>\n",
       "    </tr>\n",
       "    <tr>\n",
       "      <th>6189</th>\n",
       "      <td>2.0</td>\n",
       "      <td>6.0</td>\n",
       "      <td>8.0</td>\n",
       "      <td>1.0</td>\n",
       "      <td>0.250000</td>\n",
       "      <td>151743.026080</td>\n",
       "      <td>-431024.180279</td>\n",
       "      <td>1.701223e+06</td>\n",
       "      <td>-279281.154199</td>\n",
       "    </tr>\n",
       "    <tr>\n",
       "      <th>6470</th>\n",
       "      <td>1.0</td>\n",
       "      <td>2.0</td>\n",
       "      <td>3.0</td>\n",
       "      <td>0.0</td>\n",
       "      <td>0.333333</td>\n",
       "      <td>22543.533327</td>\n",
       "      <td>-338870.735186</td>\n",
       "      <td>1.056173e+04</td>\n",
       "      <td>-316327.201859</td>\n",
       "    </tr>\n",
       "  </tbody>\n",
       "</table>\n",
       "<p>97 rows × 9 columns</p>\n",
       "</div>"
      ],
      "text/plain": [
       "            win_num  lose_num  trade_num  pos_num  win_rate         profit  \\\n",
       "instrument                                                                   \n",
       "6245            2.0       1.0        3.0      0.0  0.666667  650831.362989   \n",
       "6577            1.0       0.0        1.0      0.0  1.000000  565719.322189   \n",
       "5508            3.0       1.0        4.0      0.0  0.750000  500761.952516   \n",
       "6561            2.0       0.0        2.0      0.0  1.000000  459621.831765   \n",
       "2916            2.0       2.0        4.0      0.0  0.500000  435083.011379   \n",
       "...             ...       ...        ...      ...       ...            ...   \n",
       "1326            6.0      16.0       22.0      1.0  0.272727  149573.761943   \n",
       "6570            0.0       1.0        1.0      0.0  0.000000       0.000000   \n",
       "8091            3.0       7.0       10.0      0.0  0.300000   54610.093748   \n",
       "6189            2.0       6.0        8.0      1.0  0.250000  151743.026080   \n",
       "6470            1.0       2.0        3.0      0.0  0.333333   22543.533327   \n",
       "\n",
       "                     loss    trade_cost            pnl  \n",
       "instrument                                              \n",
       "6245        -79804.129958  1.298778e+04  571027.233030  \n",
       "6577             0.000000  5.781286e+03  565719.322189  \n",
       "5508        -15081.363072  1.905895e+04  485680.589443  \n",
       "6561             0.000000  1.148869e+04  459621.831765  \n",
       "2916        -32573.360862  2.342881e+04  402509.650516  \n",
       "...                   ...           ...            ...  \n",
       "1326       -318165.546393  1.013509e+06 -168591.784451  \n",
       "6570       -227259.155444  5.329782e+03 -227259.155444  \n",
       "8091       -309095.219002  4.505402e+04 -254485.125254  \n",
       "6189       -431024.180279  1.701223e+06 -279281.154199  \n",
       "6470       -338870.735186  1.056173e+04 -316327.201859  \n",
       "\n",
       "[97 rows x 9 columns]"
      ]
     },
     "execution_count": 42,
     "metadata": {},
     "output_type": "execute_result"
    }
   ],
   "source": [
    "tidal.trade_report"
   ]
  },
  {
   "cell_type": "markdown",
   "metadata": {},
   "source": [
    "### Traded instruments"
   ]
  },
  {
   "cell_type": "code",
   "execution_count": 43,
   "metadata": {},
   "outputs": [
    {
     "data": {
      "text/plain": [
       "dict_keys(['2640', '1531', '8433', '3551', '1817', '3617', '5230', '3669', '8928', '1580', '6245', '4971', '5284', '4549', '4129', '4175', '5222', '8279', '4506', '6561', '9917', '6180', '2812', '6803', '2834', '5903', '5469', '3338', '4938', '4541', '8027', '8091', '3580', '3556', '6667', '6568', '2388', '6470', '6664', '2404', '2233', '6147', '6591', '5443', '6143', '1101', '6523', '8049', '3416', '2548', '2542', '4164', '2439', '3038', '6139', '4557', '6570', '8420', '3029', '6670', '6747', '2609', '5388', '2890', '6416', '8215', '1560', '6788', '2755', '8048', '6776', '6691', '2916', '2453', '5511', '3356', '6577', '5508', '6538', '4137', '4138', '3227', '6585', '6284', '6170', '8112', '5236', '8081', '3213', '6189', '1522', '5287', '1229', '1301', '1305', '1308', '1326'])"
      ]
     },
     "execution_count": 43,
     "metadata": {},
     "output_type": "execute_result"
    }
   ],
   "source": [
    "tidal.account.trades.keys()"
   ]
  },
  {
   "cell_type": "markdown",
   "metadata": {},
   "source": [
    "### Trading History"
   ]
  },
  {
   "cell_type": "code",
   "execution_count": 44,
   "metadata": {},
   "outputs": [],
   "source": [
    "# tidal.account.trades['3015']"
   ]
  },
  {
   "cell_type": "markdown",
   "metadata": {},
   "source": [
    "### Plot chart by using Plotly"
   ]
  },
  {
   "cell_type": "code",
   "execution_count": 45,
   "metadata": {},
   "outputs": [],
   "source": [
    "# tidal.analyzer.inst_chart(instrument='3015', metric_name='AdditionalInfo', plot_type=td.PlotType.LINE, scale=1.0)"
   ]
  },
  {
   "cell_type": "markdown",
   "metadata": {},
   "source": [
    "### Tidal Dashboard"
   ]
  },
  {
   "cell_type": "code",
   "execution_count": 46,
   "metadata": {},
   "outputs": [
    {
     "name": "stdout",
     "output_type": "stream",
     "text": [
      " * Serving Flask app 'tidal.tdboard'\n",
      " * Debug mode: off\n"
     ]
    },
    {
     "name": "stderr",
     "output_type": "stream",
     "text": [
      "INFO:werkzeug:\u001b[31m\u001b[1mWARNING: This is a development server. Do not use it in a production deployment. Use a production WSGI server instead.\u001b[0m\n",
      " * Running on all addresses (0.0.0.0)\n",
      " * Running on http://127.0.0.1:42715\n",
      " * Running on http://10.136.1.88:42715\n",
      "INFO:werkzeug:\u001b[33mPress CTRL+C to quit\u001b[0m\n",
      "INFO:werkzeug:10.0.10.82 - - [16/Oct/2024 15:29:51] \"GET / HTTP/1.1\" 200 -\n",
      "INFO:werkzeug:10.0.10.82 - - [16/Oct/2024 15:29:51] \"GET /static/js/main.d754b0a3.js HTTP/1.1\" 200 -\n",
      "INFO:werkzeug:10.0.10.82 - - [16/Oct/2024 15:29:52] \"GET /static/css/main.bf4d504b.css HTTP/1.1\" 200 -\n",
      "INFO:werkzeug:10.0.10.82 - - [16/Oct/2024 15:29:52] \"GET /images/Tidal_Logo_white.png HTTP/1.1\" 200 -\n",
      "INFO:werkzeug:10.0.10.82 - - [16/Oct/2024 15:29:53] \"GET /api/quote/inst_list HTTP/1.1\" 200 -\n",
      "INFO:werkzeug:10.0.10.82 - - [16/Oct/2024 15:29:53] \"GET /api/trade/trade_report HTTP/1.1\" 200 -\n",
      "INFO:werkzeug:10.0.10.82 - - [16/Oct/2024 15:29:53] \"GET /api/metric/metric_list HTTP/1.1\" 200 -\n",
      "INFO:werkzeug:10.0.10.82 - - [16/Oct/2024 15:29:53] \"GET /Tidal_Logo.png HTTP/1.1\" 200 -\n",
      "INFO:werkzeug:10.0.10.82 - - [16/Oct/2024 15:29:53] \"\u001b[36mGET /Tidal_Logo.png HTTP/1.1\u001b[0m\" 304 -\n",
      "INFO:werkzeug:10.0.10.82 - - [16/Oct/2024 15:29:56] \"POST /api/metric/metric_reports HTTP/1.1\" 200 -\n",
      "INFO:werkzeug:10.0.10.82 - - [16/Oct/2024 15:29:56] \"GET /static/media/primeicons.78172950b335ccdb94e2.woff2 HTTP/1.1\" 200 -\n",
      "INFO:werkzeug:10.0.10.82 - - [16/Oct/2024 15:29:56] \"GET /images/ph_arrows-out-cardinal.svg HTTP/1.1\" 200 -\n",
      "INFO:werkzeug:10.0.10.82 - - [16/Oct/2024 15:29:56] \"GET /images/ph_x.svg HTTP/1.1\" 200 -\n"
     ]
    }
   ],
   "source": [
    "tidal.tdboard()"
   ]
  },
  {
   "cell_type": "code",
   "execution_count": null,
   "metadata": {},
   "outputs": [],
   "source": [
    "tidal.account.position_history"
   ]
  }
 ],
 "metadata": {
  "kernelspec": {
   "display_name": "py38",
   "language": "python",
   "name": "python3"
  },
  "language_info": {
   "codemirror_mode": {
    "name": "ipython",
    "version": 3
   },
   "file_extension": ".py",
   "mimetype": "text/x-python",
   "name": "python",
   "nbconvert_exporter": "python",
   "pygments_lexer": "ipython3",
   "version": "3.10.15"
  }
 },
 "nbformat": 4,
 "nbformat_minor": 2
}
