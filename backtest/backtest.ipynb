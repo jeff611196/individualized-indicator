{
 "cells": [
  {
   "cell_type": "markdown",
   "metadata": {},
   "source": [
    "### Import Required Package"
   ]
  },
  {
   "cell_type": "code",
   "execution_count": 331,
   "metadata": {},
   "outputs": [],
   "source": [
    "import pandas as pd\n",
    "import talib\n",
    "import numpy as np\n",
    "import json"
   ]
  },
  {
   "cell_type": "markdown",
   "metadata": {},
   "source": [
    "### Import Tidal"
   ]
  },
  {
   "cell_type": "code",
   "execution_count": 332,
   "metadata": {},
   "outputs": [],
   "source": [
    "import tidal as td"
   ]
  },
  {
   "cell_type": "markdown",
   "metadata": {},
   "source": [
    "### Initialize Plumber"
   ]
  },
  {
   "cell_type": "code",
   "execution_count": 333,
   "metadata": {},
   "outputs": [],
   "source": [
    "from pathlib import Path\n",
    "import ssl\n",
    "ssl._create_default_https_context = ssl._create_unverified_context\n",
    "\n",
    "PLUMBER_HOST = \"https://dev-api.ddt-dst.cc/api/plumber/\"\n",
    "with open(f'{str(Path.home())}/.config/gcloud/application_default_credentials.json') as plumber_token:\n",
    "    token = json.load(plumber_token)"
   ]
  },
  {
   "cell_type": "markdown",
   "metadata": {},
   "source": [
    "### Load market data and compute technical indicators"
   ]
  },
  {
   "cell_type": "code",
   "execution_count": 334,
   "metadata": {},
   "outputs": [
    {
     "name": "stderr",
     "output_type": "stream",
     "text": [
      "/tmp/ipykernel_2424/4042907721.py:97: FutureWarning: Comparison of Timestamp with datetime.date is deprecated in order to match the standard library behavior. In a future version these will be considered non-comparable. Use 'ts == pd.Timestamp(date)' or 'ts.date() == date' instead.\n",
      "  selected_df['datetime'] = pd.to_datetime(selected_df['datetime'])\n",
      "/tmp/ipykernel_2424/4042907721.py:97: FutureWarning: Comparison of Timestamp with datetime.date is deprecated in order to match the standard library behavior. In a future version these will be considered non-comparable. Use 'ts == pd.Timestamp(date)' or 'ts.date() == date' instead.\n",
      "  selected_df['datetime'] = pd.to_datetime(selected_df['datetime'])\n",
      "/tmp/ipykernel_2424/4042907721.py:97: FutureWarning: Comparison of Timestamp with datetime.date is deprecated in order to match the standard library behavior. In a future version these will be considered non-comparable. Use 'ts == pd.Timestamp(date)' or 'ts.date() == date' instead.\n",
      "  selected_df['datetime'] = pd.to_datetime(selected_df['datetime'])\n",
      "/tmp/ipykernel_2424/4042907721.py:97: FutureWarning: Comparison of Timestamp with datetime.date is deprecated in order to match the standard library behavior. In a future version these will be considered non-comparable. Use 'ts == pd.Timestamp(date)' or 'ts.date() == date' instead.\n",
      "  selected_df['datetime'] = pd.to_datetime(selected_df['datetime'])\n",
      "/tmp/ipykernel_2424/4042907721.py:97: FutureWarning: Comparison of Timestamp with datetime.date is deprecated in order to match the standard library behavior. In a future version these will be considered non-comparable. Use 'ts == pd.Timestamp(date)' or 'ts.date() == date' instead.\n",
      "  selected_df['datetime'] = pd.to_datetime(selected_df['datetime'])\n",
      "/tmp/ipykernel_2424/4042907721.py:97: FutureWarning: Comparison of Timestamp with datetime.date is deprecated in order to match the standard library behavior. In a future version these will be considered non-comparable. Use 'ts == pd.Timestamp(date)' or 'ts.date() == date' instead.\n",
      "  selected_df['datetime'] = pd.to_datetime(selected_df['datetime'])\n",
      "/tmp/ipykernel_2424/4042907721.py:97: FutureWarning: Comparison of Timestamp with datetime.date is deprecated in order to match the standard library behavior. In a future version these will be considered non-comparable. Use 'ts == pd.Timestamp(date)' or 'ts.date() == date' instead.\n",
      "  selected_df['datetime'] = pd.to_datetime(selected_df['datetime'])\n",
      "/tmp/ipykernel_2424/4042907721.py:97: FutureWarning: Comparison of Timestamp with datetime.date is deprecated in order to match the standard library behavior. In a future version these will be considered non-comparable. Use 'ts == pd.Timestamp(date)' or 'ts.date() == date' instead.\n",
      "  selected_df['datetime'] = pd.to_datetime(selected_df['datetime'])\n",
      "/tmp/ipykernel_2424/4042907721.py:97: FutureWarning: Comparison of Timestamp with datetime.date is deprecated in order to match the standard library behavior. In a future version these will be considered non-comparable. Use 'ts == pd.Timestamp(date)' or 'ts.date() == date' instead.\n",
      "  selected_df['datetime'] = pd.to_datetime(selected_df['datetime'])\n",
      "/tmp/ipykernel_2424/4042907721.py:97: FutureWarning: Comparison of Timestamp with datetime.date is deprecated in order to match the standard library behavior. In a future version these will be considered non-comparable. Use 'ts == pd.Timestamp(date)' or 'ts.date() == date' instead.\n",
      "  selected_df['datetime'] = pd.to_datetime(selected_df['datetime'])\n",
      "/tmp/ipykernel_2424/4042907721.py:97: FutureWarning: Comparison of Timestamp with datetime.date is deprecated in order to match the standard library behavior. In a future version these will be considered non-comparable. Use 'ts == pd.Timestamp(date)' or 'ts.date() == date' instead.\n",
      "  selected_df['datetime'] = pd.to_datetime(selected_df['datetime'])\n",
      "/tmp/ipykernel_2424/4042907721.py:97: FutureWarning: Comparison of Timestamp with datetime.date is deprecated in order to match the standard library behavior. In a future version these will be considered non-comparable. Use 'ts == pd.Timestamp(date)' or 'ts.date() == date' instead.\n",
      "  selected_df['datetime'] = pd.to_datetime(selected_df['datetime'])\n",
      "/tmp/ipykernel_2424/4042907721.py:97: FutureWarning: Comparison of Timestamp with datetime.date is deprecated in order to match the standard library behavior. In a future version these will be considered non-comparable. Use 'ts == pd.Timestamp(date)' or 'ts.date() == date' instead.\n",
      "  selected_df['datetime'] = pd.to_datetime(selected_df['datetime'])\n"
     ]
    }
   ],
   "source": [
    "import os\n",
    "import pandas as pd\n",
    "\n",
    "os.chdir('/home/jovyan/individualized-indicator')\n",
    "# 定義你想要讀取檔案的目錄\n",
    "directory = './emb'\n",
    "\n",
    "start_date = \"2022-06-01\"\n",
    "end_date = \"2024-09-30\"\n",
    "\n",
    "# 初始化一個空的字典來存儲所有讀取的 DataFrame\n",
    "dataframes = {}\n",
    "\n",
    "# 遍歷目錄中的所有檔案\n",
    "for filename in os.listdir(directory):\n",
    "    if filename.endswith('.pkl'):\n",
    "        # 組合完整的檔案路徑\n",
    "        file_path = os.path.join(directory, filename)\n",
    "        # 讀取 .pkl 檔案\n",
    "        df = pd.read_pickle(file_path)\n",
    "        \n",
    "        # 使用檔案名稱（不包括副檔名）作為字典的鍵\n",
    "        variable_name = filename.split('_')[2]\n",
    "        \n",
    "        # 將 DataFrame 儲存到字典中\n",
    "        dataframes[variable_name] = df\n",
    "\n",
    "keys_list = list(dataframes.keys())\n",
    "# 將字符串轉換為 datetime 格式，然後進行排序\n",
    "sorted_dates = sorted(pd.to_datetime(keys_list))\n",
    "keys_list = [date.strftime('%Y-%m-%d') for date in sorted_dates]\n",
    "\n",
    "total_df = pd.DataFrame()\n",
    "\n",
    "for j in range(0,len(keys_list)):\n",
    "    df_name = keys_list[j]\n",
    "    selected_df = dataframes[df_name]    \n",
    "    selected_df = selected_df.reset_index()\n",
    "    stock_list = pd.DataFrame(selected_df.iloc[:,0].unique())\n",
    "    total_df = pd.concat([total_df, stock_list], ignore_index=True)\n",
    "    \n",
    "unique_values_list = list(total_df.iloc[:,0].unique())\n",
    "sorted_list = sorted(unique_values_list)\n",
    "\n",
    "total_data = pd.read_parquet(\n",
    "    f\"{PLUMBER_HOST}stocks/tw/ohlcv\",\n",
    "    storage_options={\n",
    "        \"gcp-token\": json.dumps(token),\n",
    "        \"start-date\": start_date,\n",
    "        \"end-date\": end_date,\n",
    "        \"tickers\": \",\".join([stock for stock in sorted_list]),\n",
    "    },\n",
    ")\n",
    "\n",
    "total_data.index = total_data.index.set_levels(\n",
    "    pd.to_datetime(total_data.index.levels[1]),level=1)\n",
    "\n",
    "total_data.rename_axis(index={\n",
    "    'ticker': 'instrument'\n",
    "}, inplace=True)\n",
    "\n",
    "total_data['new'] = -1\n",
    "total_data.reset_index(inplace=True)\n",
    "\n",
    "def filter_by_year_month_12(filter_data, select_year, select_mon):\n",
    "    # 計算當前篩選年份和下一個年份\n",
    "    next_year = select_year + 1\n",
    "    \n",
    "    # 構建篩選條件：當前年12月、次年1月、次年2月\n",
    "    filter_data = filter_data[\n",
    "        ((filter_data['datetime'].dt.year == next_year) & (filter_data['datetime'].dt.month == 1)) |\n",
    "        ((filter_data['datetime'].dt.year == next_year) & (filter_data['datetime'].dt.month == 2)) |\n",
    "        ((filter_data['datetime'].dt.year == next_year) & (filter_data['datetime'].dt.month == 3))\n",
    "    ]\n",
    "    \n",
    "    return filter_data\n",
    "\n",
    "concat_df = pd.DataFrame()\n",
    "\n",
    "# for i in range(0,len(keys_list)-1):\n",
    "for i in range(0,len(keys_list)):\n",
    "    df_name = keys_list[i]\n",
    "    selected_df = dataframes[df_name]\n",
    "    selected_df.reset_index(inplace=True)\n",
    "    stock_df = selected_df.iloc[:,0]\n",
    "    stock_df_unique = list(stock_df.unique())\n",
    "    result = list(set(sorted_list) - set(stock_df_unique))\n",
    "    filtered_df = total_data[total_data['instrument'].isin(result)]\n",
    "    filtered_df = filtered_df.rename(columns={'volume': 'vol'})\n",
    "    selected_df = pd.concat([selected_df, filtered_df], ignore_index=True)\n",
    "    \n",
    "    select_year = int(df_name.split('-')[0])\n",
    "    select_mon = int(df_name.split('-')[1])\n",
    "    select_mons = [(select_mon+1)%12, (select_mon+2)%12, (select_mon+3)%12]\n",
    "    select_mons = [12 if mon == 0 else mon for mon in select_mons]\n",
    "    \n",
    "    selected_df['datetime'] = pd.to_datetime(selected_df['datetime'])\n",
    "    # 過濾出所有6月的交易資料\n",
    "    filter_data = selected_df[selected_df['datetime'].dt.month.isin(select_mons)]\n",
    "\n",
    "    # 使用時，根據 select_year 和 select_mon 動態篩選數據\n",
    "        \n",
    "    if select_mon == 12:\n",
    "        filter_data = filter_by_year_month_12(filter_data, select_year, select_mon) \n",
    "\n",
    "    else:\n",
    "        filter_data = filter_data[filter_data['datetime'].dt.year == select_year]\n",
    "    \n",
    "    concat_df = pd.concat([concat_df, filter_data], ignore_index=True)\n",
    "    \n",
    "# i = len(keys_list)-1\n",
    "# df_name = keys_list[i]\n",
    "# selected_df = dataframes[df_name]\n",
    "# selected_df.reset_index(inplace=True)\n",
    "# stock_df = selected_df.iloc[:,0]\n",
    "# stock_df_unique = list(stock_df.unique())\n",
    "# result = list(set(sorted_list) - set(stock_df_unique))\n",
    "# filtered_df = total_data[total_data['instrument'].isin(result)]\n",
    "# filtered_df = filtered_df.rename(columns={'volume': 'vol'})\n",
    "# selected_df = pd.concat([selected_df, filtered_df], ignore_index=True)\n",
    "# concat_df = pd.concat([concat_df, selected_df], ignore_index=True)\n",
    "\n",
    "concat_df.sort_values(by=['instrument', 'datetime'], inplace=True)\n",
    "concat_df.reset_index(drop=True, inplace=True)\n",
    "row = np.where(concat_df.iloc[:,0] == '6251')[0]\n",
    "concat_df = concat_df.drop(index=row)\n",
    "concat_df = concat_df.reset_index(drop=True)\n",
    "row = np.where(concat_df.iloc[:,0] == '8406')[0]\n",
    "concat_df = concat_df.drop(index=row)\n",
    "concat_df = concat_df.reset_index(drop=True)\n",
    "row = np.where(concat_df.iloc[:,0] == '6548')[0]\n",
    "concat_df = concat_df.drop(index=row)\n",
    "concat_df = concat_df.reset_index(drop=True)\n",
    "quote_data = concat_df.set_index(['instrument', 'datetime'])\n",
    "quote_data.columns.values[4] = 'volume'\n",
    "\n",
    "# quote_data.to_csv('./quote_data.csv')"
   ]
  },
  {
   "cell_type": "code",
   "execution_count": 335,
   "metadata": {},
   "outputs": [],
   "source": [
    "# i = len(keys_list)-1\n",
    "# df_name = keys_list[i]\n",
    "# selected_df = dataframes[df_name]\n",
    "# selected_df.reset_index(inplace=True)\n",
    "# stock_df = selected_df.iloc[:,0]\n",
    "# stock_df_unique = list(stock_df.unique())\n",
    "# result = list(set(sorted_list) - set(stock_df_unique))\n",
    "# filtered_df = total_data[total_data['instrument'].isin(result)]\n",
    "# filtered_df = filtered_df.rename(columns={'volume': 'vol'})\n",
    "# selected_df = pd.concat([selected_df, filtered_df], ignore_index=True)\n",
    "# concat_df = pd.concat([concat_df, selected_df], ignore_index=True)"
   ]
  },
  {
   "cell_type": "markdown",
   "metadata": {},
   "source": [
    "### Strategy Lake API"
   ]
  },
  {
   "cell_type": "code",
   "execution_count": 336,
   "metadata": {},
   "outputs": [],
   "source": [
    "data_api_url = (\"https://dev-api.ddt-dst.cc/api/plumber/nextron/industry_prod_df\")\n",
    "df = pd.read_parquet(\n",
    "    data_api_url,\n",
    "    storage_options={\n",
    "        \"gcp-token\": json.dumps(token),\n",
    "    }\n",
    ")"
   ]
  },
  {
   "cell_type": "markdown",
   "metadata": {},
   "source": [
    "### Load benchmark data"
   ]
  },
  {
   "cell_type": "code",
   "execution_count": 337,
   "metadata": {},
   "outputs": [
    {
     "name": "stderr",
     "output_type": "stream",
     "text": [
      "/tmp/ipykernel_2424/1318227356.py:11: FutureWarning: inplace is deprecated and will be removed in a future version.\n",
      "  benchmark_data.index.set_levels(\n"
     ]
    },
    {
     "data": {
      "text/html": [
       "<div>\n",
       "<style scoped>\n",
       "    .dataframe tbody tr th:only-of-type {\n",
       "        vertical-align: middle;\n",
       "    }\n",
       "\n",
       "    .dataframe tbody tr th {\n",
       "        vertical-align: top;\n",
       "    }\n",
       "\n",
       "    .dataframe thead th {\n",
       "        text-align: right;\n",
       "    }\n",
       "</style>\n",
       "<table border=\"1\" class=\"dataframe\">\n",
       "  <thead>\n",
       "    <tr style=\"text-align: right;\">\n",
       "      <th></th>\n",
       "      <th></th>\n",
       "      <th>open</th>\n",
       "      <th>high</th>\n",
       "      <th>low</th>\n",
       "      <th>close</th>\n",
       "      <th>volume</th>\n",
       "    </tr>\n",
       "    <tr>\n",
       "      <th>instrument</th>\n",
       "      <th>datetime</th>\n",
       "      <th></th>\n",
       "      <th></th>\n",
       "      <th></th>\n",
       "      <th></th>\n",
       "      <th></th>\n",
       "    </tr>\n",
       "  </thead>\n",
       "  <tbody>\n",
       "    <tr>\n",
       "      <th rowspan=\"11\" valign=\"top\">Y9999</th>\n",
       "      <th>2022-06-01</th>\n",
       "      <td>16718.91</td>\n",
       "      <td>16811.04</td>\n",
       "      <td>16649.91</td>\n",
       "      <td>16675.09</td>\n",
       "      <td>5693916000</td>\n",
       "    </tr>\n",
       "    <tr>\n",
       "      <th>2022-06-02</th>\n",
       "      <td>16605.46</td>\n",
       "      <td>16617.26</td>\n",
       "      <td>16540.55</td>\n",
       "      <td>16552.57</td>\n",
       "      <td>4836099000</td>\n",
       "    </tr>\n",
       "    <tr>\n",
       "      <th>2022-06-06</th>\n",
       "      <td>16570.89</td>\n",
       "      <td>16654.12</td>\n",
       "      <td>16509.01</td>\n",
       "      <td>16605.96</td>\n",
       "      <td>5418061000</td>\n",
       "    </tr>\n",
       "    <tr>\n",
       "      <th>2022-06-07</th>\n",
       "      <td>16593.75</td>\n",
       "      <td>16593.75</td>\n",
       "      <td>16465.87</td>\n",
       "      <td>16512.88</td>\n",
       "      <td>4732466000</td>\n",
       "    </tr>\n",
       "    <tr>\n",
       "      <th>2022-06-08</th>\n",
       "      <td>16538.67</td>\n",
       "      <td>16702.99</td>\n",
       "      <td>16538.67</td>\n",
       "      <td>16670.51</td>\n",
       "      <td>4815479000</td>\n",
       "    </tr>\n",
       "    <tr>\n",
       "      <th>...</th>\n",
       "      <td>...</td>\n",
       "      <td>...</td>\n",
       "      <td>...</td>\n",
       "      <td>...</td>\n",
       "      <td>...</td>\n",
       "    </tr>\n",
       "    <tr>\n",
       "      <th>2024-09-24</th>\n",
       "      <td>22273.79</td>\n",
       "      <td>22431.78</td>\n",
       "      <td>22154.55</td>\n",
       "      <td>22431.78</td>\n",
       "      <td>7862076000</td>\n",
       "    </tr>\n",
       "    <tr>\n",
       "      <th>2024-09-25</th>\n",
       "      <td>22569.29</td>\n",
       "      <td>22785.32</td>\n",
       "      <td>22569.29</td>\n",
       "      <td>22761.60</td>\n",
       "      <td>9143783000</td>\n",
       "    </tr>\n",
       "    <tr>\n",
       "      <th>2024-09-26</th>\n",
       "      <td>22841.42</td>\n",
       "      <td>22961.77</td>\n",
       "      <td>22769.24</td>\n",
       "      <td>22858.81</td>\n",
       "      <td>9160464000</td>\n",
       "    </tr>\n",
       "    <tr>\n",
       "      <th>2024-09-27</th>\n",
       "      <td>22978.97</td>\n",
       "      <td>23079.21</td>\n",
       "      <td>22806.83</td>\n",
       "      <td>22822.79</td>\n",
       "      <td>9742471000</td>\n",
       "    </tr>\n",
       "    <tr>\n",
       "      <th>2024-09-30</th>\n",
       "      <td>22643.91</td>\n",
       "      <td>22691.23</td>\n",
       "      <td>22224.54</td>\n",
       "      <td>22224.54</td>\n",
       "      <td>9221061000</td>\n",
       "    </tr>\n",
       "  </tbody>\n",
       "</table>\n",
       "<p>569 rows × 5 columns</p>\n",
       "</div>"
      ],
      "text/plain": [
       "                           open      high       low     close      volume\n",
       "instrument datetime                                                      \n",
       "Y9999      2022-06-01  16718.91  16811.04  16649.91  16675.09  5693916000\n",
       "           2022-06-02  16605.46  16617.26  16540.55  16552.57  4836099000\n",
       "           2022-06-06  16570.89  16654.12  16509.01  16605.96  5418061000\n",
       "           2022-06-07  16593.75  16593.75  16465.87  16512.88  4732466000\n",
       "           2022-06-08  16538.67  16702.99  16538.67  16670.51  4815479000\n",
       "...                         ...       ...       ...       ...         ...\n",
       "           2024-09-24  22273.79  22431.78  22154.55  22431.78  7862076000\n",
       "           2024-09-25  22569.29  22785.32  22569.29  22761.60  9143783000\n",
       "           2024-09-26  22841.42  22961.77  22769.24  22858.81  9160464000\n",
       "           2024-09-27  22978.97  23079.21  22806.83  22822.79  9742471000\n",
       "           2024-09-30  22643.91  22691.23  22224.54  22224.54  9221061000\n",
       "\n",
       "[569 rows x 5 columns]"
      ]
     },
     "execution_count": 337,
     "metadata": {},
     "output_type": "execute_result"
    }
   ],
   "source": [
    "benchmark_inst = \"Y9999\"\n",
    "benchmark_data = pd.read_parquet(\n",
    "    f\"{PLUMBER_HOST}stocks/tw/ohlcv\",\n",
    "    storage_options={\n",
    "        \"gcp-token\": json.dumps(token),\n",
    "        \"start-date\": start_date,\n",
    "        \"end-date\": end_date,\n",
    "        \"tickers\": benchmark_inst,\n",
    "    },\n",
    ")\n",
    "benchmark_data.index.set_levels(\n",
    "    pd.to_datetime(benchmark_data.index.levels[1]),\n",
    "    level=1,\n",
    "    inplace=True,\n",
    ")\n",
    "benchmark_data.rename_axis(index={\n",
    "    'ticker': 'instrument'\n",
    "}, inplace=True)\n",
    "\n",
    "benchmark_data"
   ]
  },
  {
   "cell_type": "markdown",
   "metadata": {},
   "source": [
    "### Initialize Tidal\n",
    "1. Initialize Tidal object\n",
    "2. Add Quote data (pd.DataFrame)\n",
    "3. Set strategy object (td.BaseStrategy)\n",
    "4. Add metric objects (td.BaseMetic)"
   ]
  },
  {
   "cell_type": "code",
   "execution_count": 338,
   "metadata": {},
   "outputs": [],
   "source": [
    "# Initialize Tidal object\n",
    "tidal = td.Tidal(init_cash=50000000, slip_ticks=1, stock_config=td.StockConfig.TW, load_configs=True, reqMem=\"1000Mi\", ignore_volume_size=True)\n",
    "\n",
    "# Add quote data\n",
    "tidal.add_quote(quote_data)\n",
    "\n",
    "# Set strategy object\n",
    "tidal.set_strategy(td.strategy.TopkDropout(5, 1, 'new'))\n",
    "\n",
    "# Set metric objects\n",
    "tidal.add_metric(td.metric.AccountInfo())\n",
    "tidal.add_metric(td.metric.AdditionalInfo())\n",
    "tidal.add_metric(td.metric.PositionInfo())\n",
    "tidal.add_metric(td.metric.Portfolio(benchmark_data.loc[benchmark_inst]))"
   ]
  },
  {
   "cell_type": "markdown",
   "metadata": {},
   "source": [
    "### Stock Config"
   ]
  },
  {
   "cell_type": "code",
   "execution_count": 339,
   "metadata": {},
   "outputs": [
    {
     "data": {
      "text/plain": [
       "InstConfig {Margin:0.0, Tick Size:0.002, Tick Value:0.002, Trade Unit:1000, Commission:0.0004275, Min Commission:20.0, Transaction Tax:0.003}"
      ]
     },
     "execution_count": 339,
     "metadata": {},
     "output_type": "execute_result"
    }
   ],
   "source": [
    "tidal.exchange.stock_config"
   ]
  },
  {
   "cell_type": "markdown",
   "metadata": {},
   "source": [
    "### Instrument Configs"
   ]
  },
  {
   "cell_type": "code",
   "execution_count": 340,
   "metadata": {},
   "outputs": [
    {
     "data": {
      "text/plain": [
       "{'MTX': InstConfig {Margin:46000.0, Tick Size:1.0, Tick Value:50.0, Trade Unit:1, Commission:20.0, Min Commission:0.0, Transaction Tax:2e-05},\n",
       " 'TX': InstConfig {Margin:184000.0, Tick Size:1.0, Tick Value:200.0, Trade Unit:1, Commission:40.0, Min Commission:0.0, Transaction Tax:2e-05},\n",
       " 'NQ': InstConfig {Margin:16500.0, Tick Size:0.25, Tick Value:5.0, Trade Unit:1, Commission:1.85, Min Commission:0.0, Transaction Tax:0.0}}"
      ]
     },
     "execution_count": 340,
     "metadata": {},
     "output_type": "execute_result"
    }
   ],
   "source": [
    "tidal.exchange.inst_configs"
   ]
  },
  {
   "cell_type": "markdown",
   "metadata": {},
   "source": [
    "### Config Modification"
   ]
  },
  {
   "cell_type": "code",
   "execution_count": 341,
   "metadata": {},
   "outputs": [
    {
     "data": {
      "text/plain": [
       "InstConfig {Margin:0.0, Tick Size:0.002, Tick Value:0.002, Trade Unit:1000, Commission:0.00032775, Min Commission:20.0, Transaction Tax:0.003}"
      ]
     },
     "execution_count": 341,
     "metadata": {},
     "output_type": "execute_result"
    }
   ],
   "source": [
    "# Set commission to 77% off\n",
    "tidal.exchange.set_stock_config(commission=0.001425 * 0.23)\n",
    "tidal.exchange.stock_config"
   ]
  },
  {
   "cell_type": "markdown",
   "metadata": {},
   "source": [
    "### Add New Instrument Config"
   ]
  },
  {
   "cell_type": "code",
   "execution_count": 342,
   "metadata": {},
   "outputs": [
    {
     "data": {
      "text/plain": [
       "{'MTX': InstConfig {Margin:46000.0, Tick Size:1.0, Tick Value:50.0, Trade Unit:1, Commission:20.0, Min Commission:0.0, Transaction Tax:2e-05},\n",
       " 'TX': InstConfig {Margin:184000.0, Tick Size:1.0, Tick Value:200.0, Trade Unit:1, Commission:40.0, Min Commission:0.0, Transaction Tax:2e-05},\n",
       " 'NQ': InstConfig {Margin:16500.0, Tick Size:0.25, Tick Value:5.0, Trade Unit:1, Commission:1.85, Min Commission:0.0, Transaction Tax:0.0},\n",
       " 'MGC': InstConfig {Margin:787.0, Tick Size:0.1, Tick Value:1.0, Trade Unit:1, Commission:2.0, Min Commission:0.0, Transaction Tax:0.0}}"
      ]
     },
     "execution_count": 342,
     "metadata": {},
     "output_type": "execute_result"
    }
   ],
   "source": [
    "# Add MGC config\n",
    "tidal.exchange.set_config(instrument='MGC', margin=787., tick_size=0.1, tick_value=1., trade_unit=1, commission=2., min_commission=0., transaction_tax=0.)\n",
    "tidal.exchange.inst_configs"
   ]
  },
  {
   "cell_type": "markdown",
   "metadata": {},
   "source": [
    "### Start Backtesting"
   ]
  },
  {
   "cell_type": "code",
   "execution_count": 343,
   "metadata": {},
   "outputs": [
    {
     "name": "stderr",
     "output_type": "stream",
     "text": [
      "Tidal Backtesting: 100%|██████████| 548/548 [01:16<00:00,  7.18it/s, cash=6.63e+5, pnl=3.06e+5, position_cost=7.24e+7, value=7.33e+7] "
     ]
    },
    {
     "name": "stdout",
     "output_type": "stream",
     "text": [
      "2024-09-06 - 訂單未能執行: 5340, 可能是由於現金不足或其他原因\n"
     ]
    },
    {
     "name": "stderr",
     "output_type": "stream",
     "text": [
      "\n"
     ]
    }
   ],
   "source": [
    "tidal.backtest()\n",
    "logs = tidal.get_logs()\n",
    "for log in logs:\n",
    "    print(log)"
   ]
  },
  {
   "cell_type": "markdown",
   "metadata": {},
   "source": [
    "### Metric - AccountInfo"
   ]
  },
  {
   "cell_type": "code",
   "execution_count": 344,
   "metadata": {},
   "outputs": [
    {
     "name": "stdout",
     "output_type": "stream",
     "text": [
      "                    cash    trade_cost  position_cost     slip_cost  \\\n",
      "datetime                                                              \n",
      "2022-07-01  5.000000e+07  0.000000e+00   0.000000e+00  0.000000e+00   \n",
      "2022-07-04  5.000000e+07  0.000000e+00   0.000000e+00  0.000000e+00   \n",
      "2022-07-05  2.115685e+06  1.568894e+04   4.786863e+07  6.085181e+05   \n",
      "2022-07-06  2.115685e+06  1.568894e+04   4.786863e+07  6.085181e+05   \n",
      "2022-07-07  6.935143e+05  5.163599e+04   4.948119e+07  5.505211e+05   \n",
      "...                  ...           ...            ...           ...   \n",
      "2024-09-24  7.642060e+05  1.703291e+07   7.273263e+07  2.022175e+07   \n",
      "2024-09-25  5.657524e+05  1.707642e+07   7.233457e+07  2.025499e+07   \n",
      "2024-09-26  4.979829e+05  1.713222e+07   7.199780e+07  2.055397e+07   \n",
      "2024-09-27  6.633804e+05  1.718312e+07   7.237495e+07  2.058317e+07   \n",
      "2024-09-30  6.633804e+05  1.718312e+07   7.237495e+07  2.058317e+07   \n",
      "\n",
      "                     pnl         value  max_drawdown      turnover  \n",
      "datetime                                                            \n",
      "2022-07-01  0.000000e+00  5.000000e+07      0.000000  0.000000e+00  \n",
      "2022-07-04  0.000000e+00  5.000000e+07      0.000000  0.000000e+00  \n",
      "2022-07-05 -2.788931e+05  4.970542e+07     -0.005892  4.786863e+07  \n",
      "2022-07-06 -1.746612e+06  4.823770e+07     -0.035246  0.000000e+00  \n",
      "2022-07-07 -8.344544e+05  4.934025e+07     -0.013195  2.080503e+07  \n",
      "...                  ...           ...           ...           ...  \n",
      "2024-09-24  7.553725e+05  7.425221e+07     -0.195707  3.091878e+07  \n",
      "2024-09-25  1.126732e+06  7.402705e+07     -0.198146  2.393394e+07  \n",
      "2024-09-26  7.053039e+05  7.320108e+07     -0.207093  3.053680e+07  \n",
      "2024-09-27  1.113252e+06  7.415158e+07     -0.196797  2.767230e+07  \n",
      "2024-09-30  3.060523e+05  7.334438e+07     -0.205541  0.000000e+00  \n",
      "\n",
      "[548 rows x 8 columns]\n"
     ]
    }
   ],
   "source": [
    "account_info = tidal.metrics[\"AccountInfo\"].report\n",
    "print(account_info)"
   ]
  },
  {
   "cell_type": "markdown",
   "metadata": {},
   "source": [
    "### Metric - PositionInfo"
   ]
  },
  {
   "cell_type": "code",
   "execution_count": 345,
   "metadata": {},
   "outputs": [
    {
     "name": "stdout",
     "output_type": "stream",
     "text": [
      "                       quantity      price   commission    slip_cost  \\\n",
      "instrument datetime                                                    \n",
      "1102       2022-08-10  258000.0  37.121194  3138.949621  -39165.8964   \n",
      "           2022-08-11  258000.0  37.121194  3138.949621  -39165.8964   \n",
      "           2022-08-12  258000.0  37.121194  3138.949621  -39165.8964   \n",
      "           2022-08-15  258000.0  37.121194  3138.949621  -39165.8964   \n",
      "           2022-08-17  254000.0  38.524595  3207.114780   53948.4316   \n",
      "...                         ...        ...          ...          ...   \n",
      "9945       2024-09-23  326000.0  48.546900  5187.066351 -229210.6000   \n",
      "           2024-09-25  252000.0  47.795400  3947.565472  112240.8000   \n",
      "           2024-09-26  252000.0  47.795400  3947.565472  112240.8000   \n",
      "           2024-09-27  252000.0  47.795400  3947.565472  112240.8000   \n",
      "           2024-09-30  252000.0  47.795400  3947.565472  112240.8000   \n",
      "\n",
      "                               pnl  now_price  \n",
      "instrument datetime                            \n",
      "1102       2022-08-10  -19116.3036    37.0471  \n",
      "           2022-08-11  272294.6964    38.1766  \n",
      "           2022-08-12  202376.6964    37.9056  \n",
      "           2022-08-15  272294.6964    38.1766  \n",
      "           2022-08-17   37847.1684    38.6736  \n",
      "...                            ...        ...  \n",
      "9945       2024-09-23 -520589.4000    46.9500  \n",
      "           2024-09-25   26359.2000    47.9000  \n",
      "           2024-09-26   51559.2000    48.0000  \n",
      "           2024-09-27  101959.2000    48.2000  \n",
      "           2024-09-30  290959.2000    48.9500  \n",
      "\n",
      "[2728 rows x 6 columns]\n"
     ]
    }
   ],
   "source": [
    "position_df = tidal.metrics[\"PositionInfo\"].report\n",
    "print(position_df)"
   ]
  },
  {
   "cell_type": "code",
   "execution_count": 346,
   "metadata": {},
   "outputs": [
    {
     "data": {
      "text/html": [
       "<div>\n",
       "<style scoped>\n",
       "    .dataframe tbody tr th:only-of-type {\n",
       "        vertical-align: middle;\n",
       "    }\n",
       "\n",
       "    .dataframe tbody tr th {\n",
       "        vertical-align: top;\n",
       "    }\n",
       "\n",
       "    .dataframe thead th {\n",
       "        text-align: right;\n",
       "    }\n",
       "</style>\n",
       "<table border=\"1\" class=\"dataframe\">\n",
       "  <thead>\n",
       "    <tr style=\"text-align: right;\">\n",
       "      <th></th>\n",
       "      <th></th>\n",
       "      <th>quantity</th>\n",
       "      <th>price</th>\n",
       "      <th>commission</th>\n",
       "      <th>slip_cost</th>\n",
       "      <th>pnl</th>\n",
       "      <th>now_price</th>\n",
       "    </tr>\n",
       "    <tr>\n",
       "      <th>instrument</th>\n",
       "      <th>datetime</th>\n",
       "      <th></th>\n",
       "      <th></th>\n",
       "      <th></th>\n",
       "      <th></th>\n",
       "      <th></th>\n",
       "      <th></th>\n",
       "    </tr>\n",
       "  </thead>\n",
       "  <tbody>\n",
       "  </tbody>\n",
       "</table>\n",
       "</div>"
      ],
      "text/plain": [
       "Empty DataFrame\n",
       "Columns: [quantity, price, commission, slip_cost, pnl, now_price]\n",
       "Index: []"
      ]
     },
     "execution_count": 346,
     "metadata": {},
     "output_type": "execute_result"
    }
   ],
   "source": [
    "pi_report = tidal.metrics['PositionInfo'].report\n",
    "pi_report.iloc[pi_report.index.get_level_values('datetime') == '2022-06-14']"
   ]
  },
  {
   "cell_type": "markdown",
   "metadata": {},
   "source": [
    "### Metric - AdditionalInfo"
   ]
  },
  {
   "cell_type": "code",
   "execution_count": 347,
   "metadata": {},
   "outputs": [
    {
     "data": {
      "text/html": [
       "<div>\n",
       "<style scoped>\n",
       "    .dataframe tbody tr th:only-of-type {\n",
       "        vertical-align: middle;\n",
       "    }\n",
       "\n",
       "    .dataframe tbody tr th {\n",
       "        vertical-align: top;\n",
       "    }\n",
       "\n",
       "    .dataframe thead th {\n",
       "        text-align: right;\n",
       "    }\n",
       "</style>\n",
       "<table border=\"1\" class=\"dataframe\">\n",
       "  <thead>\n",
       "    <tr style=\"text-align: right;\">\n",
       "      <th></th>\n",
       "      <th></th>\n",
       "      <th>new</th>\n",
       "    </tr>\n",
       "    <tr>\n",
       "      <th>instrument</th>\n",
       "      <th>datetime</th>\n",
       "      <th></th>\n",
       "    </tr>\n",
       "  </thead>\n",
       "  <tbody>\n",
       "    <tr>\n",
       "      <th rowspan=\"5\" valign=\"top\">1101</th>\n",
       "      <th>2022-07-01</th>\n",
       "      <td>0.000423</td>\n",
       "    </tr>\n",
       "    <tr>\n",
       "      <th>2022-07-04</th>\n",
       "      <td>-0.002125</td>\n",
       "    </tr>\n",
       "    <tr>\n",
       "      <th>2022-07-05</th>\n",
       "      <td>0.000366</td>\n",
       "    </tr>\n",
       "    <tr>\n",
       "      <th>2022-07-06</th>\n",
       "      <td>-0.003043</td>\n",
       "    </tr>\n",
       "    <tr>\n",
       "      <th>2022-07-07</th>\n",
       "      <td>0.001127</td>\n",
       "    </tr>\n",
       "    <tr>\n",
       "      <th>...</th>\n",
       "      <th>...</th>\n",
       "      <td>...</td>\n",
       "    </tr>\n",
       "    <tr>\n",
       "      <th rowspan=\"5\" valign=\"top\">9958</th>\n",
       "      <th>2024-09-24</th>\n",
       "      <td>0.000538</td>\n",
       "    </tr>\n",
       "    <tr>\n",
       "      <th>2024-09-25</th>\n",
       "      <td>0.000034</td>\n",
       "    </tr>\n",
       "    <tr>\n",
       "      <th>2024-09-26</th>\n",
       "      <td>0.000216</td>\n",
       "    </tr>\n",
       "    <tr>\n",
       "      <th>2024-09-27</th>\n",
       "      <td>0.000183</td>\n",
       "    </tr>\n",
       "    <tr>\n",
       "      <th>2024-09-30</th>\n",
       "      <td>0.000111</td>\n",
       "    </tr>\n",
       "  </tbody>\n",
       "</table>\n",
       "<p>342085 rows × 1 columns</p>\n",
       "</div>"
      ],
      "text/plain": [
       "                            new\n",
       "instrument datetime            \n",
       "1101       2022-07-01  0.000423\n",
       "           2022-07-04 -0.002125\n",
       "           2022-07-05  0.000366\n",
       "           2022-07-06 -0.003043\n",
       "           2022-07-07  0.001127\n",
       "...                         ...\n",
       "9958       2024-09-24  0.000538\n",
       "           2024-09-25  0.000034\n",
       "           2024-09-26  0.000216\n",
       "           2024-09-27  0.000183\n",
       "           2024-09-30  0.000111\n",
       "\n",
       "[342085 rows x 1 columns]"
      ]
     },
     "execution_count": 347,
     "metadata": {},
     "output_type": "execute_result"
    }
   ],
   "source": [
    "tidal.metrics['AdditionalInfo'].report"
   ]
  },
  {
   "cell_type": "markdown",
   "metadata": {},
   "source": [
    "### Strategy Lake Submit"
   ]
  },
  {
   "cell_type": "code",
   "execution_count": 348,
   "metadata": {},
   "outputs": [
    {
     "name": "stdout",
     "output_type": "stream",
     "text": [
      "update lake backtest data success\n"
     ]
    }
   ],
   "source": [
    "group = dict(zip(df[\"coid\"].astype(str), df[\"tejind4_c\"]))\n",
    "submit_lake_backtest_result = tidal.submit_lake_backtest(account_info=account_info, position_df=position_df, benchmark_info=benchmark_data, group=group,lake_env=\"dev\",strategy_id=19)\n",
    "print(submit_lake_backtest_result)"
   ]
  },
  {
   "cell_type": "markdown",
   "metadata": {},
   "source": [
    "### Trade Report"
   ]
  },
  {
   "cell_type": "code",
   "execution_count": 349,
   "metadata": {},
   "outputs": [
    {
     "data": {
      "text/html": [
       "<div>\n",
       "<style scoped>\n",
       "    .dataframe tbody tr th:only-of-type {\n",
       "        vertical-align: middle;\n",
       "    }\n",
       "\n",
       "    .dataframe tbody tr th {\n",
       "        vertical-align: top;\n",
       "    }\n",
       "\n",
       "    .dataframe thead th {\n",
       "        text-align: right;\n",
       "    }\n",
       "</style>\n",
       "<table border=\"1\" class=\"dataframe\">\n",
       "  <thead>\n",
       "    <tr style=\"text-align: right;\">\n",
       "      <th></th>\n",
       "      <th>win_num</th>\n",
       "      <th>lose_num</th>\n",
       "      <th>trade_num</th>\n",
       "      <th>pos_num</th>\n",
       "      <th>win_rate</th>\n",
       "      <th>profit</th>\n",
       "      <th>loss</th>\n",
       "      <th>trade_cost</th>\n",
       "      <th>pnl</th>\n",
       "    </tr>\n",
       "    <tr>\n",
       "      <th>instrument</th>\n",
       "      <th></th>\n",
       "      <th></th>\n",
       "      <th></th>\n",
       "      <th></th>\n",
       "      <th></th>\n",
       "      <th></th>\n",
       "      <th></th>\n",
       "      <th></th>\n",
       "      <th></th>\n",
       "    </tr>\n",
       "  </thead>\n",
       "  <tbody>\n",
       "    <tr>\n",
       "      <th>1522</th>\n",
       "      <td>2.0</td>\n",
       "      <td>0.0</td>\n",
       "      <td>2.0</td>\n",
       "      <td>0.0</td>\n",
       "      <td>1.000000</td>\n",
       "      <td>8.941292e+06</td>\n",
       "      <td>0.000000e+00</td>\n",
       "      <td>1.845774e+05</td>\n",
       "      <td>8.941292e+06</td>\n",
       "    </tr>\n",
       "    <tr>\n",
       "      <th>2392</th>\n",
       "      <td>2.0</td>\n",
       "      <td>0.0</td>\n",
       "      <td>2.0</td>\n",
       "      <td>0.0</td>\n",
       "      <td>1.000000</td>\n",
       "      <td>7.220887e+06</td>\n",
       "      <td>0.000000e+00</td>\n",
       "      <td>1.248068e+05</td>\n",
       "      <td>7.220887e+06</td>\n",
       "    </tr>\n",
       "    <tr>\n",
       "      <th>2059</th>\n",
       "      <td>1.0</td>\n",
       "      <td>1.0</td>\n",
       "      <td>2.0</td>\n",
       "      <td>0.0</td>\n",
       "      <td>0.500000</td>\n",
       "      <td>7.082477e+06</td>\n",
       "      <td>-9.230628e+05</td>\n",
       "      <td>1.481028e+05</td>\n",
       "      <td>6.159415e+06</td>\n",
       "    </tr>\n",
       "    <tr>\n",
       "      <th>3029</th>\n",
       "      <td>2.0</td>\n",
       "      <td>0.0</td>\n",
       "      <td>2.0</td>\n",
       "      <td>0.0</td>\n",
       "      <td>1.000000</td>\n",
       "      <td>4.376486e+06</td>\n",
       "      <td>0.000000e+00</td>\n",
       "      <td>8.940971e+04</td>\n",
       "      <td>4.376486e+06</td>\n",
       "    </tr>\n",
       "    <tr>\n",
       "      <th>6538</th>\n",
       "      <td>3.0</td>\n",
       "      <td>0.0</td>\n",
       "      <td>3.0</td>\n",
       "      <td>0.0</td>\n",
       "      <td>1.000000</td>\n",
       "      <td>4.331982e+06</td>\n",
       "      <td>0.000000e+00</td>\n",
       "      <td>2.281262e+05</td>\n",
       "      <td>4.331982e+06</td>\n",
       "    </tr>\n",
       "    <tr>\n",
       "      <th>...</th>\n",
       "      <td>...</td>\n",
       "      <td>...</td>\n",
       "      <td>...</td>\n",
       "      <td>...</td>\n",
       "      <td>...</td>\n",
       "      <td>...</td>\n",
       "      <td>...</td>\n",
       "      <td>...</td>\n",
       "      <td>...</td>\n",
       "    </tr>\n",
       "    <tr>\n",
       "      <th>3022</th>\n",
       "      <td>1.0</td>\n",
       "      <td>2.0</td>\n",
       "      <td>3.0</td>\n",
       "      <td>0.0</td>\n",
       "      <td>0.333333</td>\n",
       "      <td>8.413904e+04</td>\n",
       "      <td>-3.253491e+06</td>\n",
       "      <td>1.570743e+05</td>\n",
       "      <td>-3.169352e+06</td>\n",
       "    </tr>\n",
       "    <tr>\n",
       "      <th>4919</th>\n",
       "      <td>2.0</td>\n",
       "      <td>3.0</td>\n",
       "      <td>5.0</td>\n",
       "      <td>1.0</td>\n",
       "      <td>0.400000</td>\n",
       "      <td>7.132841e+05</td>\n",
       "      <td>-3.931905e+06</td>\n",
       "      <td>1.549499e+07</td>\n",
       "      <td>-3.218620e+06</td>\n",
       "    </tr>\n",
       "    <tr>\n",
       "      <th>9945</th>\n",
       "      <td>2.0</td>\n",
       "      <td>3.0</td>\n",
       "      <td>5.0</td>\n",
       "      <td>1.0</td>\n",
       "      <td>0.400000</td>\n",
       "      <td>5.263231e+05</td>\n",
       "      <td>-3.774537e+06</td>\n",
       "      <td>1.231467e+07</td>\n",
       "      <td>-3.248214e+06</td>\n",
       "    </tr>\n",
       "    <tr>\n",
       "      <th>6741</th>\n",
       "      <td>1.0</td>\n",
       "      <td>3.0</td>\n",
       "      <td>4.0</td>\n",
       "      <td>0.0</td>\n",
       "      <td>0.250000</td>\n",
       "      <td>5.426727e+05</td>\n",
       "      <td>-3.808179e+06</td>\n",
       "      <td>2.273799e+05</td>\n",
       "      <td>-3.265507e+06</td>\n",
       "    </tr>\n",
       "    <tr>\n",
       "      <th>6579</th>\n",
       "      <td>2.0</td>\n",
       "      <td>6.0</td>\n",
       "      <td>8.0</td>\n",
       "      <td>1.0</td>\n",
       "      <td>0.250000</td>\n",
       "      <td>8.542441e+05</td>\n",
       "      <td>-4.817712e+06</td>\n",
       "      <td>1.415783e+07</td>\n",
       "      <td>-3.963468e+06</td>\n",
       "    </tr>\n",
       "  </tbody>\n",
       "</table>\n",
       "<p>90 rows × 9 columns</p>\n",
       "</div>"
      ],
      "text/plain": [
       "            win_num  lose_num  trade_num  pos_num  win_rate        profit  \\\n",
       "instrument                                                                  \n",
       "1522            2.0       0.0        2.0      0.0  1.000000  8.941292e+06   \n",
       "2392            2.0       0.0        2.0      0.0  1.000000  7.220887e+06   \n",
       "2059            1.0       1.0        2.0      0.0  0.500000  7.082477e+06   \n",
       "3029            2.0       0.0        2.0      0.0  1.000000  4.376486e+06   \n",
       "6538            3.0       0.0        3.0      0.0  1.000000  4.331982e+06   \n",
       "...             ...       ...        ...      ...       ...           ...   \n",
       "3022            1.0       2.0        3.0      0.0  0.333333  8.413904e+04   \n",
       "4919            2.0       3.0        5.0      1.0  0.400000  7.132841e+05   \n",
       "9945            2.0       3.0        5.0      1.0  0.400000  5.263231e+05   \n",
       "6741            1.0       3.0        4.0      0.0  0.250000  5.426727e+05   \n",
       "6579            2.0       6.0        8.0      1.0  0.250000  8.542441e+05   \n",
       "\n",
       "                    loss    trade_cost           pnl  \n",
       "instrument                                            \n",
       "1522        0.000000e+00  1.845774e+05  8.941292e+06  \n",
       "2392        0.000000e+00  1.248068e+05  7.220887e+06  \n",
       "2059       -9.230628e+05  1.481028e+05  6.159415e+06  \n",
       "3029        0.000000e+00  8.940971e+04  4.376486e+06  \n",
       "6538        0.000000e+00  2.281262e+05  4.331982e+06  \n",
       "...                  ...           ...           ...  \n",
       "3022       -3.253491e+06  1.570743e+05 -3.169352e+06  \n",
       "4919       -3.931905e+06  1.549499e+07 -3.218620e+06  \n",
       "9945       -3.774537e+06  1.231467e+07 -3.248214e+06  \n",
       "6741       -3.808179e+06  2.273799e+05 -3.265507e+06  \n",
       "6579       -4.817712e+06  1.415783e+07 -3.963468e+06  \n",
       "\n",
       "[90 rows x 9 columns]"
      ]
     },
     "execution_count": 349,
     "metadata": {},
     "output_type": "execute_result"
    }
   ],
   "source": [
    "tidal.trade_report"
   ]
  },
  {
   "cell_type": "markdown",
   "metadata": {},
   "source": [
    "### Traded instruments"
   ]
  },
  {
   "cell_type": "code",
   "execution_count": 350,
   "metadata": {},
   "outputs": [
    {
     "data": {
      "text/plain": [
       "dict_keys(['2834', '2542', '3552', '6274', '8436', '6683', '8924', '8081', '6712', '2812', '2207', '1102', '6409', '1537', '2640', '6533', '6591', '3551', '5522', '3008', '2409', '6669', '5274', '5434', '2723', '3029', '4104', '6470', '4966', '6605', '6188', '3529', '2458', '2233', '5607', '8086', '8210', '3260', '2474', '3661', '3006', '6290', '1580', '6284', '6176', '2059', '1712', '3038', '6288', '8422', '6139', '4979', '3044', '8048', '4137', '2453', '2916', '6577', '5508', '6691', '4138', '5511', '6538', '6776', '6170', '1522', '8112', '3213', '6523', '3227', '6189', '6585', '5236', '2392', '3338', '9927', '3712', '3622', '4933', '6741', '3624', '6579', '2352', '4919', '5309', '9945', '3022', '6672', '8255', '5340'])"
      ]
     },
     "execution_count": 350,
     "metadata": {},
     "output_type": "execute_result"
    }
   ],
   "source": [
    "tidal.account.trades.keys()"
   ]
  },
  {
   "cell_type": "markdown",
   "metadata": {},
   "source": [
    "### Trading History"
   ]
  },
  {
   "cell_type": "code",
   "execution_count": 351,
   "metadata": {},
   "outputs": [],
   "source": [
    "# tidal.account.trades['3015']"
   ]
  },
  {
   "cell_type": "markdown",
   "metadata": {},
   "source": [
    "### Plot chart by using Plotly"
   ]
  },
  {
   "cell_type": "code",
   "execution_count": 352,
   "metadata": {},
   "outputs": [],
   "source": [
    "# tidal.analyzer.inst_chart(instrument='3015', metric_name='AdditionalInfo', plot_type=td.PlotType.LINE, scale=1.0)"
   ]
  },
  {
   "cell_type": "markdown",
   "metadata": {},
   "source": [
    "### Tidal Dashboard"
   ]
  },
  {
   "cell_type": "code",
   "execution_count": 353,
   "metadata": {},
   "outputs": [
    {
     "name": "stdout",
     "output_type": "stream",
     "text": [
      " * Serving Flask app 'tidal.tdboard'\n",
      " * Debug mode: off\n"
     ]
    },
    {
     "name": "stderr",
     "output_type": "stream",
     "text": [
      "INFO:werkzeug:\u001b[31m\u001b[1mWARNING: This is a development server. Do not use it in a production deployment. Use a production WSGI server instead.\u001b[0m\n",
      " * Running on all addresses (0.0.0.0)\n",
      " * Running on http://127.0.0.1:39057\n",
      " * Running on http://10.136.13.64:39057\n",
      "INFO:werkzeug:\u001b[33mPress CTRL+C to quit\u001b[0m\n",
      "INFO:werkzeug:10.0.10.82 - - [22/Oct/2024 15:47:29] \"GET / HTTP/1.1\" 200 -\n",
      "INFO:werkzeug:10.0.10.82 - - [22/Oct/2024 15:47:29] \"GET /static/js/main.d754b0a3.js HTTP/1.1\" 200 -\n",
      "INFO:werkzeug:10.0.10.82 - - [22/Oct/2024 15:47:30] \"GET /static/css/main.bf4d504b.css HTTP/1.1\" 200 -\n",
      "INFO:werkzeug:10.0.10.82 - - [22/Oct/2024 15:47:30] \"GET /images/Tidal_Logo_white.png HTTP/1.1\" 200 -\n",
      "INFO:werkzeug:10.0.10.82 - - [22/Oct/2024 15:47:30] \"GET /api/quote/inst_list HTTP/1.1\" 200 -\n",
      "INFO:werkzeug:10.0.10.82 - - [22/Oct/2024 15:47:30] \"GET /api/metric/metric_list HTTP/1.1\" 200 -\n",
      "INFO:werkzeug:10.0.10.82 - - [22/Oct/2024 15:47:30] \"GET /api/trade/trade_report HTTP/1.1\" 200 -\n",
      "INFO:werkzeug:10.0.10.82 - - [22/Oct/2024 15:47:30] \"GET /Tidal_Logo.png HTTP/1.1\" 200 -\n",
      "INFO:werkzeug:10.0.10.82 - - [22/Oct/2024 15:47:30] \"\u001b[36mGET /Tidal_Logo.png HTTP/1.1\u001b[0m\" 304 -\n",
      "INFO:werkzeug:10.0.10.82 - - [22/Oct/2024 15:47:34] \"POST /api/metric/metric_reports HTTP/1.1\" 200 -\n",
      "INFO:werkzeug:10.0.10.82 - - [22/Oct/2024 15:47:34] \"GET /static/media/primeicons.78172950b335ccdb94e2.woff2 HTTP/1.1\" 200 -\n",
      "INFO:werkzeug:10.0.10.82 - - [22/Oct/2024 15:47:34] \"GET /images/ph_arrows-out-cardinal.svg HTTP/1.1\" 200 -\n",
      "INFO:werkzeug:10.0.10.82 - - [22/Oct/2024 15:47:34] \"GET /images/ph_x.svg HTTP/1.1\" 200 -\n",
      "INFO:werkzeug:10.0.10.82 - - [22/Oct/2024 15:47:35] \"POST /api/metric/metric_reports HTTP/1.1\" 200 -\n"
     ]
    }
   ],
   "source": [
    "tidal.tdboard()"
   ]
  },
  {
   "cell_type": "code",
   "execution_count": null,
   "metadata": {},
   "outputs": [],
   "source": [
    "tidal.account.position_history"
   ]
  }
 ],
 "metadata": {
  "kernelspec": {
   "display_name": "py38",
   "language": "python",
   "name": "python3"
  },
  "language_info": {
   "codemirror_mode": {
    "name": "ipython",
    "version": 3
   },
   "file_extension": ".py",
   "mimetype": "text/x-python",
   "name": "python",
   "nbconvert_exporter": "python",
   "pygments_lexer": "ipython3",
   "version": "3.10.15"
  }
 },
 "nbformat": 4,
 "nbformat_minor": 2
}
