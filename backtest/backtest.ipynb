{
 "cells": [
  {
   "cell_type": "markdown",
   "metadata": {},
   "source": [
    "### Import Required Package"
   ]
  },
  {
   "cell_type": "code",
   "execution_count": 1,
   "metadata": {},
   "outputs": [],
   "source": [
    "import pandas as pd\n",
    "import talib\n",
    "import numpy as np\n",
    "import json"
   ]
  },
  {
   "cell_type": "markdown",
   "metadata": {},
   "source": [
    "### Import Tidal"
   ]
  },
  {
   "cell_type": "code",
   "execution_count": 2,
   "metadata": {},
   "outputs": [],
   "source": [
    "import tidal as td"
   ]
  },
  {
   "cell_type": "markdown",
   "metadata": {},
   "source": [
    "### Initialize Plumber"
   ]
  },
  {
   "cell_type": "code",
   "execution_count": 3,
   "metadata": {},
   "outputs": [],
   "source": [
    "from pathlib import Path\n",
    "import ssl\n",
    "ssl._create_default_https_context = ssl._create_unverified_context\n",
    "\n",
    "PLUMBER_HOST = \"https://dev-api.ddt-dst.cc/api/plumber/\"\n",
    "with open(f'{str(Path.home())}/.config/gcloud/application_default_credentials.json') as plumber_token:\n",
    "    token = json.load(plumber_token)"
   ]
  },
  {
   "cell_type": "markdown",
   "metadata": {},
   "source": [
    "### Load market data and compute technical indicators"
   ]
  },
  {
   "cell_type": "code",
   "execution_count": 4,
   "metadata": {},
   "outputs": [
    {
     "name": "stderr",
     "output_type": "stream",
     "text": [
      "/tmp/ipykernel_50401/4042907721.py:97: FutureWarning: Comparison of Timestamp with datetime.date is deprecated in order to match the standard library behavior. In a future version these will be considered non-comparable. Use 'ts == pd.Timestamp(date)' or 'ts.date() == date' instead.\n",
      "  selected_df['datetime'] = pd.to_datetime(selected_df['datetime'])\n",
      "/tmp/ipykernel_50401/4042907721.py:97: FutureWarning: Comparison of Timestamp with datetime.date is deprecated in order to match the standard library behavior. In a future version these will be considered non-comparable. Use 'ts == pd.Timestamp(date)' or 'ts.date() == date' instead.\n",
      "  selected_df['datetime'] = pd.to_datetime(selected_df['datetime'])\n",
      "/tmp/ipykernel_50401/4042907721.py:97: FutureWarning: Comparison of Timestamp with datetime.date is deprecated in order to match the standard library behavior. In a future version these will be considered non-comparable. Use 'ts == pd.Timestamp(date)' or 'ts.date() == date' instead.\n",
      "  selected_df['datetime'] = pd.to_datetime(selected_df['datetime'])\n",
      "/tmp/ipykernel_50401/4042907721.py:97: FutureWarning: Comparison of Timestamp with datetime.date is deprecated in order to match the standard library behavior. In a future version these will be considered non-comparable. Use 'ts == pd.Timestamp(date)' or 'ts.date() == date' instead.\n",
      "  selected_df['datetime'] = pd.to_datetime(selected_df['datetime'])\n",
      "/tmp/ipykernel_50401/4042907721.py:97: FutureWarning: Comparison of Timestamp with datetime.date is deprecated in order to match the standard library behavior. In a future version these will be considered non-comparable. Use 'ts == pd.Timestamp(date)' or 'ts.date() == date' instead.\n",
      "  selected_df['datetime'] = pd.to_datetime(selected_df['datetime'])\n",
      "/tmp/ipykernel_50401/4042907721.py:97: FutureWarning: Comparison of Timestamp with datetime.date is deprecated in order to match the standard library behavior. In a future version these will be considered non-comparable. Use 'ts == pd.Timestamp(date)' or 'ts.date() == date' instead.\n",
      "  selected_df['datetime'] = pd.to_datetime(selected_df['datetime'])\n",
      "/tmp/ipykernel_50401/4042907721.py:97: FutureWarning: Comparison of Timestamp with datetime.date is deprecated in order to match the standard library behavior. In a future version these will be considered non-comparable. Use 'ts == pd.Timestamp(date)' or 'ts.date() == date' instead.\n",
      "  selected_df['datetime'] = pd.to_datetime(selected_df['datetime'])\n",
      "/tmp/ipykernel_50401/4042907721.py:97: FutureWarning: Comparison of Timestamp with datetime.date is deprecated in order to match the standard library behavior. In a future version these will be considered non-comparable. Use 'ts == pd.Timestamp(date)' or 'ts.date() == date' instead.\n",
      "  selected_df['datetime'] = pd.to_datetime(selected_df['datetime'])\n",
      "/tmp/ipykernel_50401/4042907721.py:97: FutureWarning: Comparison of Timestamp with datetime.date is deprecated in order to match the standard library behavior. In a future version these will be considered non-comparable. Use 'ts == pd.Timestamp(date)' or 'ts.date() == date' instead.\n",
      "  selected_df['datetime'] = pd.to_datetime(selected_df['datetime'])\n",
      "/tmp/ipykernel_50401/4042907721.py:97: FutureWarning: Comparison of Timestamp with datetime.date is deprecated in order to match the standard library behavior. In a future version these will be considered non-comparable. Use 'ts == pd.Timestamp(date)' or 'ts.date() == date' instead.\n",
      "  selected_df['datetime'] = pd.to_datetime(selected_df['datetime'])\n"
     ]
    }
   ],
   "source": [
    "import os\n",
    "import pandas as pd\n",
    "\n",
    "os.chdir('/home/jovyan/individualized-indicator')\n",
    "# 定義你想要讀取檔案的目錄\n",
    "directory = './emb'\n",
    "\n",
    "start_date = \"2022-06-01\"\n",
    "end_date = \"2024-09-30\"\n",
    "\n",
    "# 初始化一個空的字典來存儲所有讀取的 DataFrame\n",
    "dataframes = {}\n",
    "\n",
    "# 遍歷目錄中的所有檔案\n",
    "for filename in os.listdir(directory):\n",
    "    if filename.endswith('.pkl'):\n",
    "        # 組合完整的檔案路徑\n",
    "        file_path = os.path.join(directory, filename)\n",
    "        # 讀取 .pkl 檔案\n",
    "        df = pd.read_pickle(file_path)\n",
    "        \n",
    "        # 使用檔案名稱（不包括副檔名）作為字典的鍵\n",
    "        variable_name = filename.split('_')[2]\n",
    "        \n",
    "        # 將 DataFrame 儲存到字典中\n",
    "        dataframes[variable_name] = df\n",
    "\n",
    "keys_list = list(dataframes.keys())\n",
    "# 將字符串轉換為 datetime 格式，然後進行排序\n",
    "sorted_dates = sorted(pd.to_datetime(keys_list))\n",
    "keys_list = [date.strftime('%Y-%m-%d') for date in sorted_dates]\n",
    "\n",
    "total_df = pd.DataFrame()\n",
    "\n",
    "for j in range(0,len(keys_list)):\n",
    "    df_name = keys_list[j]\n",
    "    selected_df = dataframes[df_name]    \n",
    "    selected_df = selected_df.reset_index()\n",
    "    stock_list = pd.DataFrame(selected_df.iloc[:,0].unique())\n",
    "    total_df = pd.concat([total_df, stock_list], ignore_index=True)\n",
    "    \n",
    "unique_values_list = list(total_df.iloc[:,0].unique())\n",
    "sorted_list = sorted(unique_values_list)\n",
    "\n",
    "total_data = pd.read_parquet(\n",
    "    f\"{PLUMBER_HOST}stocks/tw/ohlcv\",\n",
    "    storage_options={\n",
    "        \"gcp-token\": json.dumps(token),\n",
    "        \"start-date\": start_date,\n",
    "        \"end-date\": end_date,\n",
    "        \"tickers\": \",\".join([stock for stock in sorted_list]),\n",
    "    },\n",
    ")\n",
    "\n",
    "total_data.index = total_data.index.set_levels(\n",
    "    pd.to_datetime(total_data.index.levels[1]),level=1)\n",
    "\n",
    "total_data.rename_axis(index={\n",
    "    'ticker': 'instrument'\n",
    "}, inplace=True)\n",
    "\n",
    "total_data['new'] = -1\n",
    "total_data.reset_index(inplace=True)\n",
    "\n",
    "def filter_by_year_month_12(filter_data, select_year, select_mon):\n",
    "    # 計算當前篩選年份和下一個年份\n",
    "    next_year = select_year + 1\n",
    "    \n",
    "    # 構建篩選條件：當前年12月、次年1月、次年2月\n",
    "    filter_data = filter_data[\n",
    "        ((filter_data['datetime'].dt.year == next_year) & (filter_data['datetime'].dt.month == 1)) |\n",
    "        ((filter_data['datetime'].dt.year == next_year) & (filter_data['datetime'].dt.month == 2)) |\n",
    "        ((filter_data['datetime'].dt.year == next_year) & (filter_data['datetime'].dt.month == 3))\n",
    "    ]\n",
    "    \n",
    "    return filter_data\n",
    "\n",
    "concat_df = pd.DataFrame()\n",
    "\n",
    "# for i in range(0,len(keys_list)-1):\n",
    "for i in range(0,len(keys_list)):\n",
    "    df_name = keys_list[i]\n",
    "    selected_df = dataframes[df_name]\n",
    "    selected_df.reset_index(inplace=True)\n",
    "    stock_df = selected_df.iloc[:,0]\n",
    "    stock_df_unique = list(stock_df.unique())\n",
    "    result = list(set(sorted_list) - set(stock_df_unique))\n",
    "    filtered_df = total_data[total_data['instrument'].isin(result)]\n",
    "    filtered_df = filtered_df.rename(columns={'volume': 'vol'})\n",
    "    selected_df = pd.concat([selected_df, filtered_df], ignore_index=True)\n",
    "    \n",
    "    select_year = int(df_name.split('-')[0])\n",
    "    select_mon = int(df_name.split('-')[1])\n",
    "    select_mons = [(select_mon+1)%12, (select_mon+2)%12, (select_mon+3)%12]\n",
    "    select_mons = [12 if mon == 0 else mon for mon in select_mons]\n",
    "    \n",
    "    selected_df['datetime'] = pd.to_datetime(selected_df['datetime'])\n",
    "    # 過濾出所有6月的交易資料\n",
    "    filter_data = selected_df[selected_df['datetime'].dt.month.isin(select_mons)]\n",
    "\n",
    "    # 使用時，根據 select_year 和 select_mon 動態篩選數據\n",
    "        \n",
    "    if select_mon == 12:\n",
    "        filter_data = filter_by_year_month_12(filter_data, select_year, select_mon) \n",
    "\n",
    "    else:\n",
    "        filter_data = filter_data[filter_data['datetime'].dt.year == select_year]\n",
    "    \n",
    "    concat_df = pd.concat([concat_df, filter_data], ignore_index=True)\n",
    "    \n",
    "# i = len(keys_list)-1\n",
    "# df_name = keys_list[i]\n",
    "# selected_df = dataframes[df_name]\n",
    "# selected_df.reset_index(inplace=True)\n",
    "# stock_df = selected_df.iloc[:,0]\n",
    "# stock_df_unique = list(stock_df.unique())\n",
    "# result = list(set(sorted_list) - set(stock_df_unique))\n",
    "# filtered_df = total_data[total_data['instrument'].isin(result)]\n",
    "# filtered_df = filtered_df.rename(columns={'volume': 'vol'})\n",
    "# selected_df = pd.concat([selected_df, filtered_df], ignore_index=True)\n",
    "# concat_df = pd.concat([concat_df, selected_df], ignore_index=True)\n",
    "\n",
    "concat_df.sort_values(by=['instrument', 'datetime'], inplace=True)\n",
    "concat_df.reset_index(drop=True, inplace=True)\n",
    "row = np.where(concat_df.iloc[:,0] == '6251')[0]\n",
    "concat_df = concat_df.drop(index=row)\n",
    "concat_df = concat_df.reset_index(drop=True)\n",
    "row = np.where(concat_df.iloc[:,0] == '8406')[0]\n",
    "concat_df = concat_df.drop(index=row)\n",
    "concat_df = concat_df.reset_index(drop=True)\n",
    "row = np.where(concat_df.iloc[:,0] == '6548')[0]\n",
    "concat_df = concat_df.drop(index=row)\n",
    "concat_df = concat_df.reset_index(drop=True)\n",
    "quote_data = concat_df.set_index(['instrument', 'datetime'])\n",
    "quote_data.columns.values[4] = 'volume'\n",
    "\n",
    "# quote_data.to_csv('./quote_data.csv')"
   ]
  },
  {
   "cell_type": "code",
   "execution_count": 5,
   "metadata": {},
   "outputs": [],
   "source": [
    "# i = len(keys_list)-1\n",
    "# df_name = keys_list[i]\n",
    "# selected_df = dataframes[df_name]\n",
    "# selected_df.reset_index(inplace=True)\n",
    "# stock_df = selected_df.iloc[:,0]\n",
    "# stock_df_unique = list(stock_df.unique())\n",
    "# result = list(set(sorted_list) - set(stock_df_unique))\n",
    "# filtered_df = total_data[total_data['instrument'].isin(result)]\n",
    "# filtered_df = filtered_df.rename(columns={'volume': 'vol'})\n",
    "# selected_df = pd.concat([selected_df, filtered_df], ignore_index=True)\n",
    "# concat_df = pd.concat([concat_df, selected_df], ignore_index=True)"
   ]
  },
  {
   "cell_type": "markdown",
   "metadata": {},
   "source": [
    "### Strategy Lake API"
   ]
  },
  {
   "cell_type": "code",
   "execution_count": 6,
   "metadata": {},
   "outputs": [],
   "source": [
    "data_api_url = (\"https://dev-api.ddt-dst.cc/api/plumber/nextron/industry_prod_df\")\n",
    "df = pd.read_parquet(\n",
    "    data_api_url,\n",
    "    storage_options={\n",
    "        \"gcp-token\": json.dumps(token),\n",
    "    }\n",
    ")"
   ]
  },
  {
   "cell_type": "markdown",
   "metadata": {},
   "source": [
    "### Load benchmark data"
   ]
  },
  {
   "cell_type": "code",
   "execution_count": 7,
   "metadata": {},
   "outputs": [
    {
     "name": "stderr",
     "output_type": "stream",
     "text": [
      "/tmp/ipykernel_50401/2173060872.py:11: FutureWarning: inplace is deprecated and will be removed in a future version.\n",
      "  benchmark_data.index.set_levels(\n"
     ]
    },
    {
     "data": {
      "text/html": [
       "<div>\n",
       "<style scoped>\n",
       "    .dataframe tbody tr th:only-of-type {\n",
       "        vertical-align: middle;\n",
       "    }\n",
       "\n",
       "    .dataframe tbody tr th {\n",
       "        vertical-align: top;\n",
       "    }\n",
       "\n",
       "    .dataframe thead th {\n",
       "        text-align: right;\n",
       "    }\n",
       "</style>\n",
       "<table border=\"1\" class=\"dataframe\">\n",
       "  <thead>\n",
       "    <tr style=\"text-align: right;\">\n",
       "      <th></th>\n",
       "      <th></th>\n",
       "      <th>open</th>\n",
       "      <th>high</th>\n",
       "      <th>low</th>\n",
       "      <th>close</th>\n",
       "      <th>volume</th>\n",
       "    </tr>\n",
       "    <tr>\n",
       "      <th>instrument</th>\n",
       "      <th>datetime</th>\n",
       "      <th></th>\n",
       "      <th></th>\n",
       "      <th></th>\n",
       "      <th></th>\n",
       "      <th></th>\n",
       "    </tr>\n",
       "  </thead>\n",
       "  <tbody>\n",
       "    <tr>\n",
       "      <th rowspan=\"11\" valign=\"top\">0050</th>\n",
       "      <th>2022-06-01</th>\n",
       "      <td>119.2856</td>\n",
       "      <td>119.9775</td>\n",
       "      <td>119.0089</td>\n",
       "      <td>119.1473</td>\n",
       "      <td>6730117</td>\n",
       "    </tr>\n",
       "    <tr>\n",
       "      <th>2022-06-02</th>\n",
       "      <td>118.5015</td>\n",
       "      <td>118.5015</td>\n",
       "      <td>117.7173</td>\n",
       "      <td>117.9018</td>\n",
       "      <td>4721923</td>\n",
       "    </tr>\n",
       "    <tr>\n",
       "      <th>2022-06-06</th>\n",
       "      <td>118.3170</td>\n",
       "      <td>119.0089</td>\n",
       "      <td>117.5789</td>\n",
       "      <td>118.7321</td>\n",
       "      <td>4292361</td>\n",
       "    </tr>\n",
       "    <tr>\n",
       "      <th>2022-06-07</th>\n",
       "      <td>118.0402</td>\n",
       "      <td>118.0402</td>\n",
       "      <td>117.0254</td>\n",
       "      <td>117.5328</td>\n",
       "      <td>5160242</td>\n",
       "    </tr>\n",
       "    <tr>\n",
       "      <th>2022-06-08</th>\n",
       "      <td>118.5476</td>\n",
       "      <td>119.1011</td>\n",
       "      <td>118.2247</td>\n",
       "      <td>118.8244</td>\n",
       "      <td>4110313</td>\n",
       "    </tr>\n",
       "    <tr>\n",
       "      <th>...</th>\n",
       "      <td>...</td>\n",
       "      <td>...</td>\n",
       "      <td>...</td>\n",
       "      <td>...</td>\n",
       "      <td>...</td>\n",
       "    </tr>\n",
       "    <tr>\n",
       "      <th>2024-09-24</th>\n",
       "      <td>183.2000</td>\n",
       "      <td>185.0000</td>\n",
       "      <td>182.1000</td>\n",
       "      <td>185.0000</td>\n",
       "      <td>10476465</td>\n",
       "    </tr>\n",
       "    <tr>\n",
       "      <th>2024-09-25</th>\n",
       "      <td>187.7000</td>\n",
       "      <td>188.0000</td>\n",
       "      <td>187.3500</td>\n",
       "      <td>187.7500</td>\n",
       "      <td>12464313</td>\n",
       "    </tr>\n",
       "    <tr>\n",
       "      <th>2024-09-26</th>\n",
       "      <td>189.6000</td>\n",
       "      <td>190.0000</td>\n",
       "      <td>188.7500</td>\n",
       "      <td>189.3000</td>\n",
       "      <td>17369543</td>\n",
       "    </tr>\n",
       "    <tr>\n",
       "      <th>2024-09-27</th>\n",
       "      <td>190.2000</td>\n",
       "      <td>191.2500</td>\n",
       "      <td>188.6000</td>\n",
       "      <td>188.9000</td>\n",
       "      <td>11999510</td>\n",
       "    </tr>\n",
       "    <tr>\n",
       "      <th>2024-09-30</th>\n",
       "      <td>186.5500</td>\n",
       "      <td>187.2000</td>\n",
       "      <td>183.9500</td>\n",
       "      <td>183.9500</td>\n",
       "      <td>14461065</td>\n",
       "    </tr>\n",
       "  </tbody>\n",
       "</table>\n",
       "<p>569 rows × 5 columns</p>\n",
       "</div>"
      ],
      "text/plain": [
       "                           open      high       low     close    volume\n",
       "instrument datetime                                                    \n",
       "0050       2022-06-01  119.2856  119.9775  119.0089  119.1473   6730117\n",
       "           2022-06-02  118.5015  118.5015  117.7173  117.9018   4721923\n",
       "           2022-06-06  118.3170  119.0089  117.5789  118.7321   4292361\n",
       "           2022-06-07  118.0402  118.0402  117.0254  117.5328   5160242\n",
       "           2022-06-08  118.5476  119.1011  118.2247  118.8244   4110313\n",
       "...                         ...       ...       ...       ...       ...\n",
       "           2024-09-24  183.2000  185.0000  182.1000  185.0000  10476465\n",
       "           2024-09-25  187.7000  188.0000  187.3500  187.7500  12464313\n",
       "           2024-09-26  189.6000  190.0000  188.7500  189.3000  17369543\n",
       "           2024-09-27  190.2000  191.2500  188.6000  188.9000  11999510\n",
       "           2024-09-30  186.5500  187.2000  183.9500  183.9500  14461065\n",
       "\n",
       "[569 rows x 5 columns]"
      ]
     },
     "execution_count": 7,
     "metadata": {},
     "output_type": "execute_result"
    }
   ],
   "source": [
    "benchmark_inst = \"0050\"\n",
    "benchmark_data = pd.read_parquet(\n",
    "    f\"{PLUMBER_HOST}stocks/tw/ohlcv\",\n",
    "    storage_options={\n",
    "        \"gcp-token\": json.dumps(token),\n",
    "        \"start-date\": start_date,\n",
    "        \"end-date\": end_date,\n",
    "        \"tickers\": benchmark_inst,\n",
    "    },\n",
    ")\n",
    "benchmark_data.index.set_levels(\n",
    "    pd.to_datetime(benchmark_data.index.levels[1]),\n",
    "    level=1,\n",
    "    inplace=True,\n",
    ")\n",
    "benchmark_data.rename_axis(index={\n",
    "    'ticker': 'instrument'\n",
    "}, inplace=True)\n",
    "\n",
    "benchmark_data"
   ]
  },
  {
   "cell_type": "markdown",
   "metadata": {},
   "source": [
    "### Initialize Tidal\n",
    "1. Initialize Tidal object\n",
    "2. Add Quote data (pd.DataFrame)\n",
    "3. Set strategy object (td.BaseStrategy)\n",
    "4. Add metric objects (td.BaseMetic)"
   ]
  },
  {
   "cell_type": "code",
   "execution_count": 8,
   "metadata": {},
   "outputs": [],
   "source": [
    "# Initialize Tidal object\n",
    "tidal = td.Tidal(init_cash=50000000, slip_ticks=1, stock_config=td.StockConfig.TW, load_configs=True, reqMem=\"1000Mi\", ignore_volume_size=True)\n",
    "\n",
    "# Add quote data\n",
    "tidal.add_quote(quote_data)\n",
    "\n",
    "# Set strategy object\n",
    "tidal.set_strategy(td.strategy.TopkDropout(10, 1, 'new'))\n",
    "\n",
    "# Set metric objects\n",
    "tidal.add_metric(td.metric.AccountInfo())\n",
    "tidal.add_metric(td.metric.AdditionalInfo())\n",
    "tidal.add_metric(td.metric.PositionInfo())\n",
    "tidal.add_metric(td.metric.Portfolio(benchmark_data.loc[benchmark_inst]))"
   ]
  },
  {
   "cell_type": "markdown",
   "metadata": {},
   "source": [
    "### Stock Config"
   ]
  },
  {
   "cell_type": "code",
   "execution_count": 9,
   "metadata": {},
   "outputs": [
    {
     "data": {
      "text/plain": [
       "InstConfig {Margin:0.0, Tick Size:0.002, Tick Value:0.002, Trade Unit:1000, Commission:0.0004275, Min Commission:20.0, Transaction Tax:0.003}"
      ]
     },
     "execution_count": 9,
     "metadata": {},
     "output_type": "execute_result"
    }
   ],
   "source": [
    "tidal.exchange.stock_config"
   ]
  },
  {
   "cell_type": "markdown",
   "metadata": {},
   "source": [
    "### Instrument Configs"
   ]
  },
  {
   "cell_type": "code",
   "execution_count": 10,
   "metadata": {},
   "outputs": [
    {
     "data": {
      "text/plain": [
       "{'TX': InstConfig {Margin:184000.0, Tick Size:1.0, Tick Value:200.0, Trade Unit:1, Commission:40.0, Min Commission:0.0, Transaction Tax:2e-05},\n",
       " 'MTX': InstConfig {Margin:46000.0, Tick Size:1.0, Tick Value:50.0, Trade Unit:1, Commission:20.0, Min Commission:0.0, Transaction Tax:2e-05},\n",
       " 'NQ': InstConfig {Margin:16500.0, Tick Size:0.25, Tick Value:5.0, Trade Unit:1, Commission:1.85, Min Commission:0.0, Transaction Tax:0.0}}"
      ]
     },
     "execution_count": 10,
     "metadata": {},
     "output_type": "execute_result"
    }
   ],
   "source": [
    "tidal.exchange.inst_configs"
   ]
  },
  {
   "cell_type": "markdown",
   "metadata": {},
   "source": [
    "### Config Modification"
   ]
  },
  {
   "cell_type": "code",
   "execution_count": 11,
   "metadata": {},
   "outputs": [
    {
     "data": {
      "text/plain": [
       "InstConfig {Margin:0.0, Tick Size:0.002, Tick Value:0.002, Trade Unit:1000, Commission:0.00032775, Min Commission:20.0, Transaction Tax:0.003}"
      ]
     },
     "execution_count": 11,
     "metadata": {},
     "output_type": "execute_result"
    }
   ],
   "source": [
    "# Set commission to 77% off\n",
    "tidal.exchange.set_stock_config(commission=0.001425 * 0.23)\n",
    "tidal.exchange.stock_config"
   ]
  },
  {
   "cell_type": "markdown",
   "metadata": {},
   "source": [
    "### Add New Instrument Config"
   ]
  },
  {
   "cell_type": "code",
   "execution_count": 12,
   "metadata": {},
   "outputs": [
    {
     "data": {
      "text/plain": [
       "{'TX': InstConfig {Margin:184000.0, Tick Size:1.0, Tick Value:200.0, Trade Unit:1, Commission:40.0, Min Commission:0.0, Transaction Tax:2e-05},\n",
       " 'MTX': InstConfig {Margin:46000.0, Tick Size:1.0, Tick Value:50.0, Trade Unit:1, Commission:20.0, Min Commission:0.0, Transaction Tax:2e-05},\n",
       " 'NQ': InstConfig {Margin:16500.0, Tick Size:0.25, Tick Value:5.0, Trade Unit:1, Commission:1.85, Min Commission:0.0, Transaction Tax:0.0},\n",
       " 'MGC': InstConfig {Margin:787.0, Tick Size:0.1, Tick Value:1.0, Trade Unit:1, Commission:2.0, Min Commission:0.0, Transaction Tax:0.0}}"
      ]
     },
     "execution_count": 12,
     "metadata": {},
     "output_type": "execute_result"
    }
   ],
   "source": [
    "# Add MGC config\n",
    "tidal.exchange.set_config(instrument='MGC', margin=787., tick_size=0.1, tick_value=1., trade_unit=1, commission=2., min_commission=0., transaction_tax=0.)\n",
    "tidal.exchange.inst_configs"
   ]
  },
  {
   "cell_type": "markdown",
   "metadata": {},
   "source": [
    "### Start Backtesting"
   ]
  },
  {
   "cell_type": "code",
   "execution_count": 13,
   "metadata": {},
   "outputs": [
    {
     "name": "stderr",
     "output_type": "stream",
     "text": [
      "Tidal Backtesting: 100%|██████████| 548/548 [01:07<00:00,  8.18it/s, cash=3.81e+5, pnl=-3.28e+4, position_cost=6.89e+7, value=6.93e+7]"
     ]
    },
    {
     "name": "stdout",
     "output_type": "stream",
     "text": [
      "2023-10-17 - 警告：強制以開盤價 26.8733 賣出 5220，因為當天交易量為0\n",
      "2024-08-27 - 訂單未能執行: 6591, 可能是由於現金不足或其他原因\n"
     ]
    },
    {
     "name": "stderr",
     "output_type": "stream",
     "text": [
      "\n"
     ]
    }
   ],
   "source": [
    "tidal.backtest()\n",
    "logs = tidal.get_logs()\n",
    "for log in logs:\n",
    "    print(log)"
   ]
  },
  {
   "cell_type": "markdown",
   "metadata": {},
   "source": [
    "### Metric - AccountInfo"
   ]
  },
  {
   "cell_type": "code",
   "execution_count": 14,
   "metadata": {},
   "outputs": [
    {
     "name": "stdout",
     "output_type": "stream",
     "text": [
      "                    cash    trade_cost  position_cost     slip_cost  \\\n",
      "datetime                                                              \n",
      "2022-07-01  5.000000e+07  0.000000e+00   0.000000e+00  0.000000e+00   \n",
      "2022-07-04  2.970415e+06  1.540890e+04   4.701418e+07 -1.921235e+05   \n",
      "2022-07-05  3.253694e+05  3.359008e+04   4.967433e+07 -1.311099e+05   \n",
      "2022-07-06  3.606799e+05  6.031053e+04   4.956252e+07 -1.340187e+05   \n",
      "2022-07-07  2.746189e+05  7.765470e+04   4.961224e+07 -1.661709e+05   \n",
      "...                  ...           ...            ...           ...   \n",
      "2024-09-24  2.710724e+05  1.131490e+07   6.880320e+07  8.122316e+06   \n",
      "2024-09-25  2.710724e+05  1.131490e+07   6.880320e+07  8.122316e+06   \n",
      "2024-09-26  2.322401e+05  1.133276e+07   6.874147e+07  8.161841e+06   \n",
      "2024-09-27  5.523450e+05  1.135925e+07   6.886268e+07  8.062241e+06   \n",
      "2024-09-30  3.814914e+05  1.138438e+07   6.893566e+07  8.113671e+06   \n",
      "\n",
      "                     pnl         value  max_drawdown      turnover  \n",
      "datetime                                                            \n",
      "2022-07-01  0.000000e+00  5.000000e+07      0.000000  0.000000e+00  \n",
      "2022-07-04  1.975033e+05  5.018209e+07      0.000000  4.701418e+07  \n",
      "2022-07-05  1.121588e+06  5.112128e+07      0.000000  1.210312e+07  \n",
      "2022-07-06  3.643012e+05  5.028750e+07     -0.016310  1.456840e+07  \n",
      "2022-07-07  1.065965e+06  5.095283e+07     -0.003295  9.545750e+06  \n",
      "...                  ...           ...           ...           ...  \n",
      "2024-09-24  1.619502e+06  7.069377e+07     -0.071716  9.984455e+06  \n",
      "2024-09-25  1.406902e+06  7.048117e+07     -0.074507  0.000000e+00  \n",
      "2024-09-26  6.113251e+05  6.958504e+07     -0.086275  9.787403e+06  \n",
      "2024-09-27 -1.842950e+04  6.939659e+07     -0.088749  1.421160e+07  \n",
      "2024-09-30 -3.281250e+04  6.928434e+07     -0.090223  1.386524e+07  \n",
      "\n",
      "[548 rows x 8 columns]\n"
     ]
    }
   ],
   "source": [
    "account_info = tidal.metrics[\"AccountInfo\"].report\n",
    "print(account_info)"
   ]
  },
  {
   "cell_type": "markdown",
   "metadata": {},
   "source": [
    "### Metric - PositionInfo"
   ]
  },
  {
   "cell_type": "code",
   "execution_count": 15,
   "metadata": {},
   "outputs": [
    {
     "name": "stdout",
     "output_type": "stream",
     "text": [
      "                       quantity       price   commission    slip_cost  \\\n",
      "instrument datetime                                                     \n",
      "1319       2024-04-30   49000.0  119.221667  1914.670173   35361.7026   \n",
      "           2024-05-21   54000.0  125.755100  2225.676637  182827.8000   \n",
      "           2024-06-05   59000.0  114.375194  2211.701716   70540.0342   \n",
      "           2024-06-12   68000.0  116.313763  2592.284840   81563.4976   \n",
      "           2024-06-13   68000.0  116.313763  2592.284840   81563.4976   \n",
      "...                         ...         ...          ...          ...   \n",
      "9942       2024-04-10   46000.0  127.972200  1929.372873       0.0000   \n",
      "           2024-04-11   46000.0  127.972200  1929.372873       0.0000   \n",
      "           2024-04-12   46000.0  127.972200  1929.372873       0.0000   \n",
      "           2024-04-15   46000.0  127.972200  1929.372873       0.0000   \n",
      "           2024-04-16   46000.0  127.972200  1929.372873       0.0000   \n",
      "\n",
      "                               pnl  now_price  \n",
      "instrument datetime                            \n",
      "1319       2024-04-30 -201261.0026   115.1143  \n",
      "           2024-05-21 -313421.4000   119.9510  \n",
      "           2024-06-05 -184687.3342   111.2449  \n",
      "           2024-06-12  -15787.0976   116.0816  \n",
      "           2024-06-13  -81563.4976   115.1143  \n",
      "...                            ...        ...  \n",
      "9942       2024-04-10 -130336.4000   125.1388  \n",
      "           2024-04-11 -217225.8000   123.2499  \n",
      "           2024-04-12 -195500.0000   123.7222  \n",
      "           2024-04-15 -195500.0000   123.7222  \n",
      "           2024-04-16 -325836.4000   120.8888  \n",
      "\n",
      "[5468 rows x 6 columns]\n"
     ]
    }
   ],
   "source": [
    "position_df = tidal.metrics[\"PositionInfo\"].report\n",
    "print(position_df)"
   ]
  },
  {
   "cell_type": "code",
   "execution_count": 16,
   "metadata": {},
   "outputs": [
    {
     "data": {
      "text/html": [
       "<div>\n",
       "<style scoped>\n",
       "    .dataframe tbody tr th:only-of-type {\n",
       "        vertical-align: middle;\n",
       "    }\n",
       "\n",
       "    .dataframe tbody tr th {\n",
       "        vertical-align: top;\n",
       "    }\n",
       "\n",
       "    .dataframe thead th {\n",
       "        text-align: right;\n",
       "    }\n",
       "</style>\n",
       "<table border=\"1\" class=\"dataframe\">\n",
       "  <thead>\n",
       "    <tr style=\"text-align: right;\">\n",
       "      <th></th>\n",
       "      <th></th>\n",
       "      <th>quantity</th>\n",
       "      <th>price</th>\n",
       "      <th>commission</th>\n",
       "      <th>slip_cost</th>\n",
       "      <th>pnl</th>\n",
       "      <th>now_price</th>\n",
       "    </tr>\n",
       "    <tr>\n",
       "      <th>instrument</th>\n",
       "      <th>datetime</th>\n",
       "      <th></th>\n",
       "      <th></th>\n",
       "      <th></th>\n",
       "      <th></th>\n",
       "      <th></th>\n",
       "      <th></th>\n",
       "    </tr>\n",
       "  </thead>\n",
       "  <tbody>\n",
       "  </tbody>\n",
       "</table>\n",
       "</div>"
      ],
      "text/plain": [
       "Empty DataFrame\n",
       "Columns: [quantity, price, commission, slip_cost, pnl, now_price]\n",
       "Index: []"
      ]
     },
     "execution_count": 16,
     "metadata": {},
     "output_type": "execute_result"
    }
   ],
   "source": [
    "pi_report = tidal.metrics['PositionInfo'].report\n",
    "pi_report.iloc[pi_report.index.get_level_values('datetime') == '2022-06-14']"
   ]
  },
  {
   "cell_type": "markdown",
   "metadata": {},
   "source": [
    "### Metric - AdditionalInfo"
   ]
  },
  {
   "cell_type": "code",
   "execution_count": 17,
   "metadata": {},
   "outputs": [
    {
     "data": {
      "text/html": [
       "<div>\n",
       "<style scoped>\n",
       "    .dataframe tbody tr th:only-of-type {\n",
       "        vertical-align: middle;\n",
       "    }\n",
       "\n",
       "    .dataframe tbody tr th {\n",
       "        vertical-align: top;\n",
       "    }\n",
       "\n",
       "    .dataframe thead th {\n",
       "        text-align: right;\n",
       "    }\n",
       "</style>\n",
       "<table border=\"1\" class=\"dataframe\">\n",
       "  <thead>\n",
       "    <tr style=\"text-align: right;\">\n",
       "      <th></th>\n",
       "      <th></th>\n",
       "      <th>new</th>\n",
       "    </tr>\n",
       "    <tr>\n",
       "      <th>instrument</th>\n",
       "      <th>datetime</th>\n",
       "      <th></th>\n",
       "    </tr>\n",
       "  </thead>\n",
       "  <tbody>\n",
       "    <tr>\n",
       "      <th rowspan=\"5\" valign=\"top\">1101</th>\n",
       "      <th>2022-07-01</th>\n",
       "      <td>0.000566</td>\n",
       "    </tr>\n",
       "    <tr>\n",
       "      <th>2022-07-04</th>\n",
       "      <td>0.000193</td>\n",
       "    </tr>\n",
       "    <tr>\n",
       "      <th>2022-07-05</th>\n",
       "      <td>0.000557</td>\n",
       "    </tr>\n",
       "    <tr>\n",
       "      <th>2022-07-06</th>\n",
       "      <td>0.000054</td>\n",
       "    </tr>\n",
       "    <tr>\n",
       "      <th>2022-07-07</th>\n",
       "      <td>0.000682</td>\n",
       "    </tr>\n",
       "    <tr>\n",
       "      <th>...</th>\n",
       "      <th>...</th>\n",
       "      <td>...</td>\n",
       "    </tr>\n",
       "    <tr>\n",
       "      <th rowspan=\"5\" valign=\"top\">9958</th>\n",
       "      <th>2024-09-24</th>\n",
       "      <td>0.001409</td>\n",
       "    </tr>\n",
       "    <tr>\n",
       "      <th>2024-09-25</th>\n",
       "      <td>0.000066</td>\n",
       "    </tr>\n",
       "    <tr>\n",
       "      <th>2024-09-26</th>\n",
       "      <td>0.000557</td>\n",
       "    </tr>\n",
       "    <tr>\n",
       "      <th>2024-09-27</th>\n",
       "      <td>0.000468</td>\n",
       "    </tr>\n",
       "    <tr>\n",
       "      <th>2024-09-30</th>\n",
       "      <td>0.000280</td>\n",
       "    </tr>\n",
       "  </tbody>\n",
       "</table>\n",
       "<p>332693 rows × 1 columns</p>\n",
       "</div>"
      ],
      "text/plain": [
       "                            new\n",
       "instrument datetime            \n",
       "1101       2022-07-01  0.000566\n",
       "           2022-07-04  0.000193\n",
       "           2022-07-05  0.000557\n",
       "           2022-07-06  0.000054\n",
       "           2022-07-07  0.000682\n",
       "...                         ...\n",
       "9958       2024-09-24  0.001409\n",
       "           2024-09-25  0.000066\n",
       "           2024-09-26  0.000557\n",
       "           2024-09-27  0.000468\n",
       "           2024-09-30  0.000280\n",
       "\n",
       "[332693 rows x 1 columns]"
      ]
     },
     "execution_count": 17,
     "metadata": {},
     "output_type": "execute_result"
    }
   ],
   "source": [
    "tidal.metrics['AdditionalInfo'].report"
   ]
  },
  {
   "cell_type": "markdown",
   "metadata": {},
   "source": [
    "### Strategy Lake Submit"
   ]
  },
  {
   "cell_type": "code",
   "execution_count": 18,
   "metadata": {},
   "outputs": [
    {
     "name": "stdout",
     "output_type": "stream",
     "text": [
      "update lake backtest data success\n"
     ]
    }
   ],
   "source": [
    "group = dict(zip(df[\"coid\"].astype(str), df[\"tejind4_c\"]))\n",
    "submit_lake_backtest_result = tidal.submit_lake_backtest(account_info=account_info, position_df=position_df, benchmark_info=benchmark_data, group=group,lake_env=\"dev\",strategy_id=19)\n",
    "print(submit_lake_backtest_result)"
   ]
  },
  {
   "cell_type": "markdown",
   "metadata": {},
   "source": [
    "### Trade Report"
   ]
  },
  {
   "cell_type": "code",
   "execution_count": 19,
   "metadata": {},
   "outputs": [
    {
     "data": {
      "text/html": [
       "<div>\n",
       "<style scoped>\n",
       "    .dataframe tbody tr th:only-of-type {\n",
       "        vertical-align: middle;\n",
       "    }\n",
       "\n",
       "    .dataframe tbody tr th {\n",
       "        vertical-align: top;\n",
       "    }\n",
       "\n",
       "    .dataframe thead th {\n",
       "        text-align: right;\n",
       "    }\n",
       "</style>\n",
       "<table border=\"1\" class=\"dataframe\">\n",
       "  <thead>\n",
       "    <tr style=\"text-align: right;\">\n",
       "      <th></th>\n",
       "      <th>win_num</th>\n",
       "      <th>lose_num</th>\n",
       "      <th>trade_num</th>\n",
       "      <th>pos_num</th>\n",
       "      <th>win_rate</th>\n",
       "      <th>profit</th>\n",
       "      <th>loss</th>\n",
       "      <th>trade_cost</th>\n",
       "      <th>pnl</th>\n",
       "    </tr>\n",
       "    <tr>\n",
       "      <th>instrument</th>\n",
       "      <th></th>\n",
       "      <th></th>\n",
       "      <th></th>\n",
       "      <th></th>\n",
       "      <th></th>\n",
       "      <th></th>\n",
       "      <th></th>\n",
       "      <th></th>\n",
       "      <th></th>\n",
       "    </tr>\n",
       "  </thead>\n",
       "  <tbody>\n",
       "    <tr>\n",
       "      <th>3617</th>\n",
       "      <td>6.0</td>\n",
       "      <td>6.0</td>\n",
       "      <td>12.0</td>\n",
       "      <td>0.0</td>\n",
       "      <td>0.500000</td>\n",
       "      <td>5.024968e+06</td>\n",
       "      <td>-1.034990e+06</td>\n",
       "      <td>2.726606e+05</td>\n",
       "      <td>3.989978e+06</td>\n",
       "    </tr>\n",
       "    <tr>\n",
       "      <th>6139</th>\n",
       "      <td>2.0</td>\n",
       "      <td>1.0</td>\n",
       "      <td>3.0</td>\n",
       "      <td>0.0</td>\n",
       "      <td>0.666667</td>\n",
       "      <td>4.214472e+06</td>\n",
       "      <td>-3.701885e+05</td>\n",
       "      <td>7.972088e+04</td>\n",
       "      <td>3.844283e+06</td>\n",
       "    </tr>\n",
       "    <tr>\n",
       "      <th>2392</th>\n",
       "      <td>2.0</td>\n",
       "      <td>0.0</td>\n",
       "      <td>2.0</td>\n",
       "      <td>0.0</td>\n",
       "      <td>1.000000</td>\n",
       "      <td>3.462684e+06</td>\n",
       "      <td>0.000000e+00</td>\n",
       "      <td>5.508740e+04</td>\n",
       "      <td>3.462684e+06</td>\n",
       "    </tr>\n",
       "    <tr>\n",
       "      <th>4129</th>\n",
       "      <td>7.0</td>\n",
       "      <td>9.0</td>\n",
       "      <td>16.0</td>\n",
       "      <td>0.0</td>\n",
       "      <td>0.437500</td>\n",
       "      <td>3.539798e+06</td>\n",
       "      <td>-1.153831e+06</td>\n",
       "      <td>3.433937e+05</td>\n",
       "      <td>2.385967e+06</td>\n",
       "    </tr>\n",
       "    <tr>\n",
       "      <th>3622</th>\n",
       "      <td>2.0</td>\n",
       "      <td>3.0</td>\n",
       "      <td>5.0</td>\n",
       "      <td>0.0</td>\n",
       "      <td>0.400000</td>\n",
       "      <td>3.106928e+06</td>\n",
       "      <td>-8.699483e+05</td>\n",
       "      <td>1.323184e+05</td>\n",
       "      <td>2.236980e+06</td>\n",
       "    </tr>\n",
       "    <tr>\n",
       "      <th>...</th>\n",
       "      <td>...</td>\n",
       "      <td>...</td>\n",
       "      <td>...</td>\n",
       "      <td>...</td>\n",
       "      <td>...</td>\n",
       "      <td>...</td>\n",
       "      <td>...</td>\n",
       "      <td>...</td>\n",
       "      <td>...</td>\n",
       "    </tr>\n",
       "    <tr>\n",
       "      <th>6570</th>\n",
       "      <td>2.0</td>\n",
       "      <td>3.0</td>\n",
       "      <td>5.0</td>\n",
       "      <td>0.0</td>\n",
       "      <td>0.400000</td>\n",
       "      <td>4.643381e+05</td>\n",
       "      <td>-1.474715e+06</td>\n",
       "      <td>1.260974e+05</td>\n",
       "      <td>-1.010377e+06</td>\n",
       "    </tr>\n",
       "    <tr>\n",
       "      <th>6788</th>\n",
       "      <td>4.0</td>\n",
       "      <td>8.0</td>\n",
       "      <td>12.0</td>\n",
       "      <td>0.0</td>\n",
       "      <td>0.333333</td>\n",
       "      <td>6.821306e+05</td>\n",
       "      <td>-1.771387e+06</td>\n",
       "      <td>2.587858e+05</td>\n",
       "      <td>-1.089256e+06</td>\n",
       "    </tr>\n",
       "    <tr>\n",
       "      <th>6667</th>\n",
       "      <td>0.0</td>\n",
       "      <td>7.0</td>\n",
       "      <td>7.0</td>\n",
       "      <td>0.0</td>\n",
       "      <td>0.000000</td>\n",
       "      <td>0.000000e+00</td>\n",
       "      <td>-1.167516e+06</td>\n",
       "      <td>1.290260e+05</td>\n",
       "      <td>-1.167516e+06</td>\n",
       "    </tr>\n",
       "    <tr>\n",
       "      <th>8420</th>\n",
       "      <td>0.0</td>\n",
       "      <td>2.0</td>\n",
       "      <td>2.0</td>\n",
       "      <td>0.0</td>\n",
       "      <td>0.000000</td>\n",
       "      <td>0.000000e+00</td>\n",
       "      <td>-1.832329e+06</td>\n",
       "      <td>3.602896e+04</td>\n",
       "      <td>-1.832329e+06</td>\n",
       "    </tr>\n",
       "    <tr>\n",
       "      <th>5309</th>\n",
       "      <td>1.0</td>\n",
       "      <td>8.0</td>\n",
       "      <td>9.0</td>\n",
       "      <td>1.0</td>\n",
       "      <td>0.111111</td>\n",
       "      <td>3.905418e+04</td>\n",
       "      <td>-2.512507e+06</td>\n",
       "      <td>5.098837e+06</td>\n",
       "      <td>-2.473453e+06</td>\n",
       "    </tr>\n",
       "  </tbody>\n",
       "</table>\n",
       "<p>111 rows × 9 columns</p>\n",
       "</div>"
      ],
      "text/plain": [
       "            win_num  lose_num  trade_num  pos_num  win_rate        profit  \\\n",
       "instrument                                                                  \n",
       "3617            6.0       6.0       12.0      0.0  0.500000  5.024968e+06   \n",
       "6139            2.0       1.0        3.0      0.0  0.666667  4.214472e+06   \n",
       "2392            2.0       0.0        2.0      0.0  1.000000  3.462684e+06   \n",
       "4129            7.0       9.0       16.0      0.0  0.437500  3.539798e+06   \n",
       "3622            2.0       3.0        5.0      0.0  0.400000  3.106928e+06   \n",
       "...             ...       ...        ...      ...       ...           ...   \n",
       "6570            2.0       3.0        5.0      0.0  0.400000  4.643381e+05   \n",
       "6788            4.0       8.0       12.0      0.0  0.333333  6.821306e+05   \n",
       "6667            0.0       7.0        7.0      0.0  0.000000  0.000000e+00   \n",
       "8420            0.0       2.0        2.0      0.0  0.000000  0.000000e+00   \n",
       "5309            1.0       8.0        9.0      1.0  0.111111  3.905418e+04   \n",
       "\n",
       "                    loss    trade_cost           pnl  \n",
       "instrument                                            \n",
       "3617       -1.034990e+06  2.726606e+05  3.989978e+06  \n",
       "6139       -3.701885e+05  7.972088e+04  3.844283e+06  \n",
       "2392        0.000000e+00  5.508740e+04  3.462684e+06  \n",
       "4129       -1.153831e+06  3.433937e+05  2.385967e+06  \n",
       "3622       -8.699483e+05  1.323184e+05  2.236980e+06  \n",
       "...                  ...           ...           ...  \n",
       "6570       -1.474715e+06  1.260974e+05 -1.010377e+06  \n",
       "6788       -1.771387e+06  2.587858e+05 -1.089256e+06  \n",
       "6667       -1.167516e+06  1.290260e+05 -1.167516e+06  \n",
       "8420       -1.832329e+06  3.602896e+04 -1.832329e+06  \n",
       "5309       -2.512507e+06  5.098837e+06 -2.473453e+06  \n",
       "\n",
       "[111 rows x 9 columns]"
      ]
     },
     "execution_count": 19,
     "metadata": {},
     "output_type": "execute_result"
    }
   ],
   "source": [
    "tidal.trade_report"
   ]
  },
  {
   "cell_type": "markdown",
   "metadata": {},
   "source": [
    "### Traded instruments"
   ]
  },
  {
   "cell_type": "code",
   "execution_count": 20,
   "metadata": {},
   "outputs": [
    {
     "data": {
      "text/plain": [
       "dict_keys(['3669', '2640', '3617', '8433', '6245', '1817', '4549', '5230', '1531', '1580', '8928', '4129', '4971', '3551', '6829', '6568', '8027', '1533', '8109', '6667', '3556', '3567', '1565', '8091', '5220', '5439', '4945', '3141', '4506', '6591', '8279', '3611', '4541', '5903', '4175', '4938', '5284', '8942', '2404', '6664', '6788', '6470', '3413', '4927', '1589', '6670', '4961', '3264', '6143', '5443', '8049', '8420', '6570', '8210', '3038', '3029', '6139', '4557', '6691', '5511', '4137', '2916', '5508', '8048', '3356', '6782', '4138', '6776', '6538', '6523', '6284', '9942', '6585', '5236', '6189', '8112', '6592', '3227', '2211', '4105', '8081', '1522', '6170', '3213', '2392', '2636', '9927', '3338', '6605', '2371', '3622', '3712', '8054', '1532', '6546', '3211', '4915', '1319', '5309', '6290', '8255', '3689', '3357', '3624', '3045', '1722', '5340', '6579', '3289', '6741', '3147'])"
      ]
     },
     "execution_count": 20,
     "metadata": {},
     "output_type": "execute_result"
    }
   ],
   "source": [
    "tidal.account.trades.keys()"
   ]
  },
  {
   "cell_type": "markdown",
   "metadata": {},
   "source": [
    "### Trading History"
   ]
  },
  {
   "cell_type": "code",
   "execution_count": 21,
   "metadata": {},
   "outputs": [],
   "source": [
    "# tidal.account.trades['3015']"
   ]
  },
  {
   "cell_type": "markdown",
   "metadata": {},
   "source": [
    "### Plot chart by using Plotly"
   ]
  },
  {
   "cell_type": "code",
   "execution_count": 22,
   "metadata": {},
   "outputs": [],
   "source": [
    "# tidal.analyzer.inst_chart(instrument='3015', metric_name='AdditionalInfo', plot_type=td.PlotType.LINE, scale=1.0)"
   ]
  },
  {
   "cell_type": "markdown",
   "metadata": {},
   "source": [
    "### Tidal Dashboard"
   ]
  },
  {
   "cell_type": "code",
   "execution_count": 23,
   "metadata": {},
   "outputs": [
    {
     "name": "stdout",
     "output_type": "stream",
     "text": [
      " * Serving Flask app 'tidal.tdboard'\n",
      " * Debug mode: off\n"
     ]
    },
    {
     "name": "stderr",
     "output_type": "stream",
     "text": [
      "INFO:werkzeug:\u001b[31m\u001b[1mWARNING: This is a development server. Do not use it in a production deployment. Use a production WSGI server instead.\u001b[0m\n",
      " * Running on all addresses (0.0.0.0)\n",
      " * Running on http://127.0.0.1:33175\n",
      " * Running on http://10.136.14.60:33175\n",
      "INFO:werkzeug:\u001b[33mPress CTRL+C to quit\u001b[0m\n",
      "INFO:werkzeug:10.0.10.82 - - [05/Nov/2024 10:47:32] \"GET / HTTP/1.1\" 200 -\n",
      "INFO:werkzeug:10.0.10.82 - - [05/Nov/2024 10:47:33] \"GET /static/js/main.d754b0a3.js HTTP/1.1\" 200 -\n",
      "INFO:werkzeug:10.0.10.82 - - [05/Nov/2024 10:47:33] \"GET /static/css/main.bf4d504b.css HTTP/1.1\" 200 -\n",
      "INFO:werkzeug:10.0.10.82 - - [05/Nov/2024 10:47:34] \"GET /images/Tidal_Logo_white.png HTTP/1.1\" 200 -\n",
      "INFO:werkzeug:10.0.10.82 - - [05/Nov/2024 10:47:34] \"GET /api/metric/metric_list HTTP/1.1\" 200 -\n",
      "INFO:werkzeug:10.0.10.82 - - [05/Nov/2024 10:47:34] \"GET /api/trade/trade_report HTTP/1.1\" 200 -\n",
      "INFO:werkzeug:10.0.10.82 - - [05/Nov/2024 10:47:34] \"GET /api/quote/inst_list HTTP/1.1\" 200 -\n",
      "INFO:werkzeug:10.0.10.82 - - [05/Nov/2024 10:47:34] \"GET /Tidal_Logo.png HTTP/1.1\" 200 -\n",
      "INFO:werkzeug:10.0.10.82 - - [05/Nov/2024 10:47:34] \"\u001b[36mGET /Tidal_Logo.png HTTP/1.1\u001b[0m\" 304 -\n",
      "INFO:werkzeug:10.0.10.82 - - [05/Nov/2024 10:47:38] \"POST /api/metric/metric_reports HTTP/1.1\" 200 -\n",
      "INFO:werkzeug:10.0.10.82 - - [05/Nov/2024 10:47:38] \"GET /static/media/primeicons.78172950b335ccdb94e2.woff2 HTTP/1.1\" 200 -\n",
      "INFO:werkzeug:10.0.10.82 - - [05/Nov/2024 10:47:38] \"GET /images/ph_arrows-out-cardinal.svg HTTP/1.1\" 200 -\n",
      "INFO:werkzeug:10.0.10.82 - - [05/Nov/2024 10:47:38] \"GET /images/ph_x.svg HTTP/1.1\" 200 -\n",
      "INFO:werkzeug:10.0.10.82 - - [05/Nov/2024 10:47:38] \"POST /api/metric/metric_reports HTTP/1.1\" 200 -\n"
     ]
    }
   ],
   "source": [
    "tidal.tdboard()"
   ]
  },
  {
   "cell_type": "code",
   "execution_count": null,
   "metadata": {},
   "outputs": [],
   "source": [
    "tidal.account.position_history"
   ]
  }
 ],
 "metadata": {
  "kernelspec": {
   "display_name": "py38",
   "language": "python",
   "name": "python3"
  },
  "language_info": {
   "codemirror_mode": {
    "name": "ipython",
    "version": 3
   },
   "file_extension": ".py",
   "mimetype": "text/x-python",
   "name": "python",
   "nbconvert_exporter": "python",
   "pygments_lexer": "ipython3",
   "version": "3.10.15"
  }
 },
 "nbformat": 4,
 "nbformat_minor": 2
}
