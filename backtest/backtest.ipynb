{
 "cells": [
  {
   "cell_type": "markdown",
   "metadata": {},
   "source": [
    "### Import Required Package"
   ]
  },
  {
   "cell_type": "code",
   "execution_count": 70,
   "metadata": {},
   "outputs": [],
   "source": [
    "import pandas as pd\n",
    "import talib\n",
    "import numpy as np\n",
    "import json"
   ]
  },
  {
   "cell_type": "markdown",
   "metadata": {},
   "source": [
    "### Import Tidal"
   ]
  },
  {
   "cell_type": "code",
   "execution_count": 71,
   "metadata": {},
   "outputs": [],
   "source": [
    "import tidal as td"
   ]
  },
  {
   "cell_type": "markdown",
   "metadata": {},
   "source": [
    "### Initialize Plumber"
   ]
  },
  {
   "cell_type": "code",
   "execution_count": 72,
   "metadata": {},
   "outputs": [],
   "source": [
    "from pathlib import Path\n",
    "import ssl\n",
    "ssl._create_default_https_context = ssl._create_unverified_context\n",
    "\n",
    "PLUMBER_HOST = \"https://dev-api.ddt-dst.cc/api/plumber/\"\n",
    "with open(f'{str(Path.home())}/.config/gcloud/application_default_credentials.json') as plumber_token:\n",
    "    token = json.load(plumber_token)"
   ]
  },
  {
   "cell_type": "markdown",
   "metadata": {},
   "source": [
    "### Load market data and compute technical indicators"
   ]
  },
  {
   "cell_type": "code",
   "execution_count": 73,
   "metadata": {},
   "outputs": [
    {
     "name": "stderr",
     "output_type": "stream",
     "text": [
      "/tmp/ipykernel_56642/4042907721.py:97: FutureWarning: Comparison of Timestamp with datetime.date is deprecated in order to match the standard library behavior. In a future version these will be considered non-comparable. Use 'ts == pd.Timestamp(date)' or 'ts.date() == date' instead.\n",
      "  selected_df['datetime'] = pd.to_datetime(selected_df['datetime'])\n",
      "/tmp/ipykernel_56642/4042907721.py:97: FutureWarning: Comparison of Timestamp with datetime.date is deprecated in order to match the standard library behavior. In a future version these will be considered non-comparable. Use 'ts == pd.Timestamp(date)' or 'ts.date() == date' instead.\n",
      "  selected_df['datetime'] = pd.to_datetime(selected_df['datetime'])\n",
      "/tmp/ipykernel_56642/4042907721.py:97: FutureWarning: Comparison of Timestamp with datetime.date is deprecated in order to match the standard library behavior. In a future version these will be considered non-comparable. Use 'ts == pd.Timestamp(date)' or 'ts.date() == date' instead.\n",
      "  selected_df['datetime'] = pd.to_datetime(selected_df['datetime'])\n",
      "/tmp/ipykernel_56642/4042907721.py:97: FutureWarning: Comparison of Timestamp with datetime.date is deprecated in order to match the standard library behavior. In a future version these will be considered non-comparable. Use 'ts == pd.Timestamp(date)' or 'ts.date() == date' instead.\n",
      "  selected_df['datetime'] = pd.to_datetime(selected_df['datetime'])\n",
      "/tmp/ipykernel_56642/4042907721.py:97: FutureWarning: Comparison of Timestamp with datetime.date is deprecated in order to match the standard library behavior. In a future version these will be considered non-comparable. Use 'ts == pd.Timestamp(date)' or 'ts.date() == date' instead.\n",
      "  selected_df['datetime'] = pd.to_datetime(selected_df['datetime'])\n",
      "/tmp/ipykernel_56642/4042907721.py:97: FutureWarning: Comparison of Timestamp with datetime.date is deprecated in order to match the standard library behavior. In a future version these will be considered non-comparable. Use 'ts == pd.Timestamp(date)' or 'ts.date() == date' instead.\n",
      "  selected_df['datetime'] = pd.to_datetime(selected_df['datetime'])\n",
      "/tmp/ipykernel_56642/4042907721.py:97: FutureWarning: Comparison of Timestamp with datetime.date is deprecated in order to match the standard library behavior. In a future version these will be considered non-comparable. Use 'ts == pd.Timestamp(date)' or 'ts.date() == date' instead.\n",
      "  selected_df['datetime'] = pd.to_datetime(selected_df['datetime'])\n",
      "/tmp/ipykernel_56642/4042907721.py:97: FutureWarning: Comparison of Timestamp with datetime.date is deprecated in order to match the standard library behavior. In a future version these will be considered non-comparable. Use 'ts == pd.Timestamp(date)' or 'ts.date() == date' instead.\n",
      "  selected_df['datetime'] = pd.to_datetime(selected_df['datetime'])\n",
      "/tmp/ipykernel_56642/4042907721.py:97: FutureWarning: Comparison of Timestamp with datetime.date is deprecated in order to match the standard library behavior. In a future version these will be considered non-comparable. Use 'ts == pd.Timestamp(date)' or 'ts.date() == date' instead.\n",
      "  selected_df['datetime'] = pd.to_datetime(selected_df['datetime'])\n",
      "/tmp/ipykernel_56642/4042907721.py:97: FutureWarning: Comparison of Timestamp with datetime.date is deprecated in order to match the standard library behavior. In a future version these will be considered non-comparable. Use 'ts == pd.Timestamp(date)' or 'ts.date() == date' instead.\n",
      "  selected_df['datetime'] = pd.to_datetime(selected_df['datetime'])\n"
     ]
    }
   ],
   "source": [
    "import os\n",
    "import pandas as pd\n",
    "\n",
    "os.chdir('/home/jovyan/individualized-indicator')\n",
    "# 定義你想要讀取檔案的目錄\n",
    "directory = './emb'\n",
    "\n",
    "start_date = \"2022-06-01\"\n",
    "end_date = \"2024-09-30\"\n",
    "\n",
    "# 初始化一個空的字典來存儲所有讀取的 DataFrame\n",
    "dataframes = {}\n",
    "\n",
    "# 遍歷目錄中的所有檔案\n",
    "for filename in os.listdir(directory):\n",
    "    if filename.endswith('.pkl'):\n",
    "        # 組合完整的檔案路徑\n",
    "        file_path = os.path.join(directory, filename)\n",
    "        # 讀取 .pkl 檔案\n",
    "        df = pd.read_pickle(file_path)\n",
    "        \n",
    "        # 使用檔案名稱（不包括副檔名）作為字典的鍵\n",
    "        variable_name = filename.split('_')[2]\n",
    "        \n",
    "        # 將 DataFrame 儲存到字典中\n",
    "        dataframes[variable_name] = df\n",
    "\n",
    "keys_list = list(dataframes.keys())\n",
    "# 將字符串轉換為 datetime 格式，然後進行排序\n",
    "sorted_dates = sorted(pd.to_datetime(keys_list))\n",
    "keys_list = [date.strftime('%Y-%m-%d') for date in sorted_dates]\n",
    "\n",
    "total_df = pd.DataFrame()\n",
    "\n",
    "for j in range(0,len(keys_list)):\n",
    "    df_name = keys_list[j]\n",
    "    selected_df = dataframes[df_name]    \n",
    "    selected_df = selected_df.reset_index()\n",
    "    stock_list = pd.DataFrame(selected_df.iloc[:,0].unique())\n",
    "    total_df = pd.concat([total_df, stock_list], ignore_index=True)\n",
    "    \n",
    "unique_values_list = list(total_df.iloc[:,0].unique())\n",
    "sorted_list = sorted(unique_values_list)\n",
    "\n",
    "total_data = pd.read_parquet(\n",
    "    f\"{PLUMBER_HOST}stocks/tw/ohlcv\",\n",
    "    storage_options={\n",
    "        \"gcp-token\": json.dumps(token),\n",
    "        \"start-date\": start_date,\n",
    "        \"end-date\": end_date,\n",
    "        \"tickers\": \",\".join([stock for stock in sorted_list]),\n",
    "    },\n",
    ")\n",
    "\n",
    "total_data.index = total_data.index.set_levels(\n",
    "    pd.to_datetime(total_data.index.levels[1]),level=1)\n",
    "\n",
    "total_data.rename_axis(index={\n",
    "    'ticker': 'instrument'\n",
    "}, inplace=True)\n",
    "\n",
    "total_data['new'] = -1\n",
    "total_data.reset_index(inplace=True)\n",
    "\n",
    "def filter_by_year_month_12(filter_data, select_year, select_mon):\n",
    "    # 計算當前篩選年份和下一個年份\n",
    "    next_year = select_year + 1\n",
    "    \n",
    "    # 構建篩選條件：當前年12月、次年1月、次年2月\n",
    "    filter_data = filter_data[\n",
    "        ((filter_data['datetime'].dt.year == next_year) & (filter_data['datetime'].dt.month == 1)) |\n",
    "        ((filter_data['datetime'].dt.year == next_year) & (filter_data['datetime'].dt.month == 2)) |\n",
    "        ((filter_data['datetime'].dt.year == next_year) & (filter_data['datetime'].dt.month == 3))\n",
    "    ]\n",
    "    \n",
    "    return filter_data\n",
    "\n",
    "concat_df = pd.DataFrame()\n",
    "\n",
    "# for i in range(0,len(keys_list)-1):\n",
    "for i in range(0,len(keys_list)):\n",
    "    df_name = keys_list[i]\n",
    "    selected_df = dataframes[df_name]\n",
    "    selected_df.reset_index(inplace=True)\n",
    "    stock_df = selected_df.iloc[:,0]\n",
    "    stock_df_unique = list(stock_df.unique())\n",
    "    result = list(set(sorted_list) - set(stock_df_unique))\n",
    "    filtered_df = total_data[total_data['instrument'].isin(result)]\n",
    "    filtered_df = filtered_df.rename(columns={'volume': 'vol'})\n",
    "    selected_df = pd.concat([selected_df, filtered_df], ignore_index=True)\n",
    "    \n",
    "    select_year = int(df_name.split('-')[0])\n",
    "    select_mon = int(df_name.split('-')[1])\n",
    "    select_mons = [(select_mon+1)%12, (select_mon+2)%12, (select_mon+3)%12]\n",
    "    select_mons = [12 if mon == 0 else mon for mon in select_mons]\n",
    "    \n",
    "    selected_df['datetime'] = pd.to_datetime(selected_df['datetime'])\n",
    "    # 過濾出所有6月的交易資料\n",
    "    filter_data = selected_df[selected_df['datetime'].dt.month.isin(select_mons)]\n",
    "\n",
    "    # 使用時，根據 select_year 和 select_mon 動態篩選數據\n",
    "        \n",
    "    if select_mon == 12:\n",
    "        filter_data = filter_by_year_month_12(filter_data, select_year, select_mon) \n",
    "\n",
    "    else:\n",
    "        filter_data = filter_data[filter_data['datetime'].dt.year == select_year]\n",
    "    \n",
    "    concat_df = pd.concat([concat_df, filter_data], ignore_index=True)\n",
    "    \n",
    "# i = len(keys_list)-1\n",
    "# df_name = keys_list[i]\n",
    "# selected_df = dataframes[df_name]\n",
    "# selected_df.reset_index(inplace=True)\n",
    "# stock_df = selected_df.iloc[:,0]\n",
    "# stock_df_unique = list(stock_df.unique())\n",
    "# result = list(set(sorted_list) - set(stock_df_unique))\n",
    "# filtered_df = total_data[total_data['instrument'].isin(result)]\n",
    "# filtered_df = filtered_df.rename(columns={'volume': 'vol'})\n",
    "# selected_df = pd.concat([selected_df, filtered_df], ignore_index=True)\n",
    "# concat_df = pd.concat([concat_df, selected_df], ignore_index=True)\n",
    "\n",
    "concat_df.sort_values(by=['instrument', 'datetime'], inplace=True)\n",
    "concat_df.reset_index(drop=True, inplace=True)\n",
    "row = np.where(concat_df.iloc[:,0] == '6251')[0]\n",
    "concat_df = concat_df.drop(index=row)\n",
    "concat_df = concat_df.reset_index(drop=True)\n",
    "row = np.where(concat_df.iloc[:,0] == '8406')[0]\n",
    "concat_df = concat_df.drop(index=row)\n",
    "concat_df = concat_df.reset_index(drop=True)\n",
    "row = np.where(concat_df.iloc[:,0] == '6548')[0]\n",
    "concat_df = concat_df.drop(index=row)\n",
    "concat_df = concat_df.reset_index(drop=True)\n",
    "quote_data = concat_df.set_index(['instrument', 'datetime'])\n",
    "quote_data.columns.values[4] = 'volume'\n",
    "\n",
    "# quote_data.to_csv('./quote_data.csv')"
   ]
  },
  {
   "cell_type": "code",
   "execution_count": 74,
   "metadata": {},
   "outputs": [],
   "source": [
    "# i = len(keys_list)-1\n",
    "# df_name = keys_list[i]\n",
    "# selected_df = dataframes[df_name]\n",
    "# selected_df.reset_index(inplace=True)\n",
    "# stock_df = selected_df.iloc[:,0]\n",
    "# stock_df_unique = list(stock_df.unique())\n",
    "# result = list(set(sorted_list) - set(stock_df_unique))\n",
    "# filtered_df = total_data[total_data['instrument'].isin(result)]\n",
    "# filtered_df = filtered_df.rename(columns={'volume': 'vol'})\n",
    "# selected_df = pd.concat([selected_df, filtered_df], ignore_index=True)\n",
    "# concat_df = pd.concat([concat_df, selected_df], ignore_index=True)"
   ]
  },
  {
   "cell_type": "markdown",
   "metadata": {},
   "source": [
    "### Strategy Lake API"
   ]
  },
  {
   "cell_type": "code",
   "execution_count": 75,
   "metadata": {},
   "outputs": [],
   "source": [
    "data_api_url = (\"https://dev-api.ddt-dst.cc/api/plumber/nextron/industry_prod_df\")\n",
    "df = pd.read_parquet(\n",
    "    data_api_url,\n",
    "    storage_options={\n",
    "        \"gcp-token\": json.dumps(token),\n",
    "    }\n",
    ")"
   ]
  },
  {
   "cell_type": "markdown",
   "metadata": {},
   "source": [
    "### Load benchmark data"
   ]
  },
  {
   "cell_type": "code",
   "execution_count": 76,
   "metadata": {},
   "outputs": [
    {
     "name": "stderr",
     "output_type": "stream",
     "text": [
      "/tmp/ipykernel_56642/1318227356.py:11: FutureWarning: inplace is deprecated and will be removed in a future version.\n",
      "  benchmark_data.index.set_levels(\n"
     ]
    },
    {
     "data": {
      "text/html": [
       "<div>\n",
       "<style scoped>\n",
       "    .dataframe tbody tr th:only-of-type {\n",
       "        vertical-align: middle;\n",
       "    }\n",
       "\n",
       "    .dataframe tbody tr th {\n",
       "        vertical-align: top;\n",
       "    }\n",
       "\n",
       "    .dataframe thead th {\n",
       "        text-align: right;\n",
       "    }\n",
       "</style>\n",
       "<table border=\"1\" class=\"dataframe\">\n",
       "  <thead>\n",
       "    <tr style=\"text-align: right;\">\n",
       "      <th></th>\n",
       "      <th></th>\n",
       "      <th>open</th>\n",
       "      <th>high</th>\n",
       "      <th>low</th>\n",
       "      <th>close</th>\n",
       "      <th>volume</th>\n",
       "    </tr>\n",
       "    <tr>\n",
       "      <th>instrument</th>\n",
       "      <th>datetime</th>\n",
       "      <th></th>\n",
       "      <th></th>\n",
       "      <th></th>\n",
       "      <th></th>\n",
       "      <th></th>\n",
       "    </tr>\n",
       "  </thead>\n",
       "  <tbody>\n",
       "    <tr>\n",
       "      <th rowspan=\"11\" valign=\"top\">Y9999</th>\n",
       "      <th>2022-06-01</th>\n",
       "      <td>16718.91</td>\n",
       "      <td>16811.04</td>\n",
       "      <td>16649.91</td>\n",
       "      <td>16675.09</td>\n",
       "      <td>5693916000</td>\n",
       "    </tr>\n",
       "    <tr>\n",
       "      <th>2022-06-02</th>\n",
       "      <td>16605.46</td>\n",
       "      <td>16617.26</td>\n",
       "      <td>16540.55</td>\n",
       "      <td>16552.57</td>\n",
       "      <td>4836099000</td>\n",
       "    </tr>\n",
       "    <tr>\n",
       "      <th>2022-06-06</th>\n",
       "      <td>16570.89</td>\n",
       "      <td>16654.12</td>\n",
       "      <td>16509.01</td>\n",
       "      <td>16605.96</td>\n",
       "      <td>5418061000</td>\n",
       "    </tr>\n",
       "    <tr>\n",
       "      <th>2022-06-07</th>\n",
       "      <td>16593.75</td>\n",
       "      <td>16593.75</td>\n",
       "      <td>16465.87</td>\n",
       "      <td>16512.88</td>\n",
       "      <td>4732466000</td>\n",
       "    </tr>\n",
       "    <tr>\n",
       "      <th>2022-06-08</th>\n",
       "      <td>16538.67</td>\n",
       "      <td>16702.99</td>\n",
       "      <td>16538.67</td>\n",
       "      <td>16670.51</td>\n",
       "      <td>4815479000</td>\n",
       "    </tr>\n",
       "    <tr>\n",
       "      <th>...</th>\n",
       "      <td>...</td>\n",
       "      <td>...</td>\n",
       "      <td>...</td>\n",
       "      <td>...</td>\n",
       "      <td>...</td>\n",
       "    </tr>\n",
       "    <tr>\n",
       "      <th>2024-09-24</th>\n",
       "      <td>22273.79</td>\n",
       "      <td>22431.78</td>\n",
       "      <td>22154.55</td>\n",
       "      <td>22431.78</td>\n",
       "      <td>7862076000</td>\n",
       "    </tr>\n",
       "    <tr>\n",
       "      <th>2024-09-25</th>\n",
       "      <td>22569.29</td>\n",
       "      <td>22785.32</td>\n",
       "      <td>22569.29</td>\n",
       "      <td>22761.60</td>\n",
       "      <td>9143783000</td>\n",
       "    </tr>\n",
       "    <tr>\n",
       "      <th>2024-09-26</th>\n",
       "      <td>22841.42</td>\n",
       "      <td>22961.77</td>\n",
       "      <td>22769.24</td>\n",
       "      <td>22858.81</td>\n",
       "      <td>9160464000</td>\n",
       "    </tr>\n",
       "    <tr>\n",
       "      <th>2024-09-27</th>\n",
       "      <td>22978.97</td>\n",
       "      <td>23079.21</td>\n",
       "      <td>22806.83</td>\n",
       "      <td>22822.79</td>\n",
       "      <td>9742471000</td>\n",
       "    </tr>\n",
       "    <tr>\n",
       "      <th>2024-09-30</th>\n",
       "      <td>22643.91</td>\n",
       "      <td>22691.23</td>\n",
       "      <td>22224.54</td>\n",
       "      <td>22224.54</td>\n",
       "      <td>9221061000</td>\n",
       "    </tr>\n",
       "  </tbody>\n",
       "</table>\n",
       "<p>569 rows × 5 columns</p>\n",
       "</div>"
      ],
      "text/plain": [
       "                           open      high       low     close      volume\n",
       "instrument datetime                                                      \n",
       "Y9999      2022-06-01  16718.91  16811.04  16649.91  16675.09  5693916000\n",
       "           2022-06-02  16605.46  16617.26  16540.55  16552.57  4836099000\n",
       "           2022-06-06  16570.89  16654.12  16509.01  16605.96  5418061000\n",
       "           2022-06-07  16593.75  16593.75  16465.87  16512.88  4732466000\n",
       "           2022-06-08  16538.67  16702.99  16538.67  16670.51  4815479000\n",
       "...                         ...       ...       ...       ...         ...\n",
       "           2024-09-24  22273.79  22431.78  22154.55  22431.78  7862076000\n",
       "           2024-09-25  22569.29  22785.32  22569.29  22761.60  9143783000\n",
       "           2024-09-26  22841.42  22961.77  22769.24  22858.81  9160464000\n",
       "           2024-09-27  22978.97  23079.21  22806.83  22822.79  9742471000\n",
       "           2024-09-30  22643.91  22691.23  22224.54  22224.54  9221061000\n",
       "\n",
       "[569 rows x 5 columns]"
      ]
     },
     "execution_count": 76,
     "metadata": {},
     "output_type": "execute_result"
    }
   ],
   "source": [
    "benchmark_inst = \"Y9999\"\n",
    "benchmark_data = pd.read_parquet(\n",
    "    f\"{PLUMBER_HOST}stocks/tw/ohlcv\",\n",
    "    storage_options={\n",
    "        \"gcp-token\": json.dumps(token),\n",
    "        \"start-date\": start_date,\n",
    "        \"end-date\": end_date,\n",
    "        \"tickers\": benchmark_inst,\n",
    "    },\n",
    ")\n",
    "benchmark_data.index.set_levels(\n",
    "    pd.to_datetime(benchmark_data.index.levels[1]),\n",
    "    level=1,\n",
    "    inplace=True,\n",
    ")\n",
    "benchmark_data.rename_axis(index={\n",
    "    'ticker': 'instrument'\n",
    "}, inplace=True)\n",
    "\n",
    "benchmark_data"
   ]
  },
  {
   "cell_type": "markdown",
   "metadata": {},
   "source": [
    "### Initialize Tidal\n",
    "1. Initialize Tidal object\n",
    "2. Add Quote data (pd.DataFrame)\n",
    "3. Set strategy object (td.BaseStrategy)\n",
    "4. Add metric objects (td.BaseMetic)"
   ]
  },
  {
   "cell_type": "code",
   "execution_count": 77,
   "metadata": {},
   "outputs": [],
   "source": [
    "# Initialize Tidal object\n",
    "tidal = td.Tidal(init_cash=50000000, slip_ticks=1, stock_config=td.StockConfig.TW, load_configs=True, reqMem=\"1000Mi\", ignore_volume_size=True)\n",
    "\n",
    "# Add quote data\n",
    "tidal.add_quote(quote_data)\n",
    "\n",
    "# Set strategy object\n",
    "tidal.set_strategy(td.strategy.TopkDropout(15, 2, 'new'))\n",
    "\n",
    "# Set metric objects\n",
    "tidal.add_metric(td.metric.AccountInfo())\n",
    "tidal.add_metric(td.metric.AdditionalInfo())\n",
    "tidal.add_metric(td.metric.PositionInfo())\n",
    "tidal.add_metric(td.metric.Portfolio(benchmark_data.loc[benchmark_inst]))"
   ]
  },
  {
   "cell_type": "markdown",
   "metadata": {},
   "source": [
    "### Stock Config"
   ]
  },
  {
   "cell_type": "code",
   "execution_count": 78,
   "metadata": {},
   "outputs": [
    {
     "data": {
      "text/plain": [
       "InstConfig {Margin:0.0, Tick Size:0.002, Tick Value:0.002, Trade Unit:1000, Commission:0.0004275, Min Commission:20.0, Transaction Tax:0.003}"
      ]
     },
     "execution_count": 78,
     "metadata": {},
     "output_type": "execute_result"
    }
   ],
   "source": [
    "tidal.exchange.stock_config"
   ]
  },
  {
   "cell_type": "markdown",
   "metadata": {},
   "source": [
    "### Instrument Configs"
   ]
  },
  {
   "cell_type": "code",
   "execution_count": 79,
   "metadata": {},
   "outputs": [
    {
     "data": {
      "text/plain": [
       "{'MTX': InstConfig {Margin:46000.0, Tick Size:1.0, Tick Value:50.0, Trade Unit:1, Commission:20.0, Min Commission:0.0, Transaction Tax:2e-05},\n",
       " 'TX': InstConfig {Margin:184000.0, Tick Size:1.0, Tick Value:200.0, Trade Unit:1, Commission:40.0, Min Commission:0.0, Transaction Tax:2e-05},\n",
       " 'NQ': InstConfig {Margin:16500.0, Tick Size:0.25, Tick Value:5.0, Trade Unit:1, Commission:1.85, Min Commission:0.0, Transaction Tax:0.0}}"
      ]
     },
     "execution_count": 79,
     "metadata": {},
     "output_type": "execute_result"
    }
   ],
   "source": [
    "tidal.exchange.inst_configs"
   ]
  },
  {
   "cell_type": "markdown",
   "metadata": {},
   "source": [
    "### Config Modification"
   ]
  },
  {
   "cell_type": "code",
   "execution_count": 80,
   "metadata": {},
   "outputs": [
    {
     "data": {
      "text/plain": [
       "InstConfig {Margin:0.0, Tick Size:0.002, Tick Value:0.002, Trade Unit:1000, Commission:0.00032775, Min Commission:20.0, Transaction Tax:0.003}"
      ]
     },
     "execution_count": 80,
     "metadata": {},
     "output_type": "execute_result"
    }
   ],
   "source": [
    "# Set commission to 77% off\n",
    "tidal.exchange.set_stock_config(commission=0.001425 * 0.23)\n",
    "tidal.exchange.stock_config"
   ]
  },
  {
   "cell_type": "markdown",
   "metadata": {},
   "source": [
    "### Add New Instrument Config"
   ]
  },
  {
   "cell_type": "code",
   "execution_count": 81,
   "metadata": {},
   "outputs": [
    {
     "data": {
      "text/plain": [
       "{'MTX': InstConfig {Margin:46000.0, Tick Size:1.0, Tick Value:50.0, Trade Unit:1, Commission:20.0, Min Commission:0.0, Transaction Tax:2e-05},\n",
       " 'TX': InstConfig {Margin:184000.0, Tick Size:1.0, Tick Value:200.0, Trade Unit:1, Commission:40.0, Min Commission:0.0, Transaction Tax:2e-05},\n",
       " 'NQ': InstConfig {Margin:16500.0, Tick Size:0.25, Tick Value:5.0, Trade Unit:1, Commission:1.85, Min Commission:0.0, Transaction Tax:0.0},\n",
       " 'MGC': InstConfig {Margin:787.0, Tick Size:0.1, Tick Value:1.0, Trade Unit:1, Commission:2.0, Min Commission:0.0, Transaction Tax:0.0}}"
      ]
     },
     "execution_count": 81,
     "metadata": {},
     "output_type": "execute_result"
    }
   ],
   "source": [
    "# Add MGC config\n",
    "tidal.exchange.set_config(instrument='MGC', margin=787., tick_size=0.1, tick_value=1., trade_unit=1, commission=2., min_commission=0., transaction_tax=0.)\n",
    "tidal.exchange.inst_configs"
   ]
  },
  {
   "cell_type": "markdown",
   "metadata": {},
   "source": [
    "### Start Backtesting"
   ]
  },
  {
   "cell_type": "code",
   "execution_count": 82,
   "metadata": {},
   "outputs": [
    {
     "name": "stderr",
     "output_type": "stream",
     "text": [
      "Tidal Backtesting: 100%|██████████| 548/548 [01:06<00:00,  8.30it/s, cash=4.84e+5, pnl=6.19e+5, position_cost=6.34e+7, value=6.45e+7] "
     ]
    },
    {
     "name": "stdout",
     "output_type": "stream",
     "text": [
      "2023-10-17 - 警告：強制以開盤價 26.8733 賣出 5220，因為當天交易量為0\n"
     ]
    },
    {
     "name": "stderr",
     "output_type": "stream",
     "text": [
      "\n"
     ]
    }
   ],
   "source": [
    "tidal.backtest()\n",
    "logs = tidal.get_logs()\n",
    "for log in logs:\n",
    "    print(log)"
   ]
  },
  {
   "cell_type": "markdown",
   "metadata": {},
   "source": [
    "### Metric - AccountInfo"
   ]
  },
  {
   "cell_type": "code",
   "execution_count": 83,
   "metadata": {},
   "outputs": [
    {
     "name": "stdout",
     "output_type": "stream",
     "text": [
      "                    cash    trade_cost  position_cost     slip_cost  \\\n",
      "datetime                                                              \n",
      "2022-07-01  5.000000e+07  0.000000e+00   0.000000e+00  0.000000e+00   \n",
      "2022-07-04  5.000000e+07  0.000000e+00   0.000000e+00  0.000000e+00   \n",
      "2022-07-05  2.342548e+06  1.561461e+04   4.764184e+07  5.906313e+05   \n",
      "2022-07-06  2.342548e+06  1.561461e+04   4.764184e+07  5.906313e+05   \n",
      "2022-07-07  2.498338e+05  2.757563e+04   4.963455e+07  6.334381e+05   \n",
      "...                  ...           ...            ...           ...   \n",
      "2024-09-24  4.959362e+05  1.047721e+07   6.356097e+07  1.204556e+07   \n",
      "2024-09-25  5.595247e+05  1.050759e+07   6.365230e+07  1.206648e+07   \n",
      "2024-09-26  3.760204e+05  1.053648e+07   6.363830e+07  1.211084e+07   \n",
      "2024-09-27  4.839932e+05  1.056619e+07   6.341688e+07  1.210665e+07   \n",
      "2024-09-30  4.839932e+05  1.056619e+07   6.341688e+07  1.210665e+07   \n",
      "\n",
      "                     pnl         value  max_drawdown      turnover  \n",
      "datetime                                                            \n",
      "2022-07-01  0.000000e+00  5.000000e+07      0.000000  0.000000e+00  \n",
      "2022-07-04  0.000000e+00  5.000000e+07      0.000000  0.000000e+00  \n",
      "2022-07-05  8.580268e+04  5.007019e+07      0.000000  4.764184e+07  \n",
      "2022-07-06 -8.470236e+05  4.913736e+07     -0.018630  0.000000e+00  \n",
      "2022-07-07  2.140676e+05  5.009845e+07      0.000000  8.251757e+06  \n",
      "...                  ...           ...           ...           ...  \n",
      "2024-09-24  2.296311e+06  6.635322e+07     -0.062141  1.581290e+07  \n",
      "2024-09-25  2.129650e+06  6.634148e+07     -0.062307  1.654109e+07  \n",
      "2024-09-26  1.316133e+06  6.533045e+07     -0.076597  1.593183e+07  \n",
      "2024-09-27  8.136270e+05  6.471450e+07     -0.085303  1.614369e+07  \n",
      "2024-09-30  6.187972e+05  6.451967e+07     -0.088057  0.000000e+00  \n",
      "\n",
      "[548 rows x 8 columns]\n"
     ]
    }
   ],
   "source": [
    "account_info = tidal.metrics[\"AccountInfo\"].report\n",
    "print(account_info)"
   ]
  },
  {
   "cell_type": "markdown",
   "metadata": {},
   "source": [
    "### Metric - PositionInfo"
   ]
  },
  {
   "cell_type": "code",
   "execution_count": 84,
   "metadata": {},
   "outputs": [
    {
     "name": "stdout",
     "output_type": "stream",
     "text": [
      "                       quantity       price   commission   slip_cost  \\\n",
      "instrument datetime                                                    \n",
      "1102       2023-10-12   98000.0   38.557561  1238.449587  12216.7976   \n",
      "1308       2023-07-19  155000.0   24.775953  1258.649382  29365.2150   \n",
      "           2023-07-20  155000.0   24.775953  1258.649382  29365.2150   \n",
      "           2023-07-28  206000.0   25.210700  1702.138227  10073.4000   \n",
      "           2023-07-31  206000.0   25.210700  1702.138227  10073.4000   \n",
      "...                         ...         ...          ...         ...   \n",
      "9942       2024-04-30   32000.0  119.944400  1257.976867  30224.0000   \n",
      "           2024-05-02   32000.0  119.944400  1257.976867  30224.0000   \n",
      "           2024-05-03   32000.0  119.944400  1257.976867  30224.0000   \n",
      "           2024-05-06   32000.0  119.944400  1257.976867  30224.0000   \n",
      "           2024-05-07   32000.0  119.944400  1257.976867  30224.0000   \n",
      "\n",
      "                               pnl  now_price  \n",
      "instrument datetime                            \n",
      "1102       2023-10-12    6452.2024    38.6234  \n",
      "1308       2023-07-19    6796.2850    24.8198  \n",
      "           2023-07-20    6796.2850    24.8198  \n",
      "           2023-07-28  -40273.0000    25.0152  \n",
      "           2023-07-31   20126.2000    25.3084  \n",
      "...                            ...        ...  \n",
      "9942       2024-04-30   75555.2000   122.3055  \n",
      "           2024-05-02   90665.6000   122.7777  \n",
      "           2024-05-03   75555.2000   122.3055  \n",
      "           2024-05-06  105776.0000   123.2499  \n",
      "           2024-05-07  105776.0000   123.2499  \n",
      "\n",
      "[8189 rows x 6 columns]\n"
     ]
    }
   ],
   "source": [
    "position_df = tidal.metrics[\"PositionInfo\"].report\n",
    "print(position_df)"
   ]
  },
  {
   "cell_type": "code",
   "execution_count": 85,
   "metadata": {},
   "outputs": [
    {
     "data": {
      "text/html": [
       "<div>\n",
       "<style scoped>\n",
       "    .dataframe tbody tr th:only-of-type {\n",
       "        vertical-align: middle;\n",
       "    }\n",
       "\n",
       "    .dataframe tbody tr th {\n",
       "        vertical-align: top;\n",
       "    }\n",
       "\n",
       "    .dataframe thead th {\n",
       "        text-align: right;\n",
       "    }\n",
       "</style>\n",
       "<table border=\"1\" class=\"dataframe\">\n",
       "  <thead>\n",
       "    <tr style=\"text-align: right;\">\n",
       "      <th></th>\n",
       "      <th></th>\n",
       "      <th>quantity</th>\n",
       "      <th>price</th>\n",
       "      <th>commission</th>\n",
       "      <th>slip_cost</th>\n",
       "      <th>pnl</th>\n",
       "      <th>now_price</th>\n",
       "    </tr>\n",
       "    <tr>\n",
       "      <th>instrument</th>\n",
       "      <th>datetime</th>\n",
       "      <th></th>\n",
       "      <th></th>\n",
       "      <th></th>\n",
       "      <th></th>\n",
       "      <th></th>\n",
       "      <th></th>\n",
       "    </tr>\n",
       "  </thead>\n",
       "  <tbody>\n",
       "  </tbody>\n",
       "</table>\n",
       "</div>"
      ],
      "text/plain": [
       "Empty DataFrame\n",
       "Columns: [quantity, price, commission, slip_cost, pnl, now_price]\n",
       "Index: []"
      ]
     },
     "execution_count": 85,
     "metadata": {},
     "output_type": "execute_result"
    }
   ],
   "source": [
    "pi_report = tidal.metrics['PositionInfo'].report\n",
    "pi_report.iloc[pi_report.index.get_level_values('datetime') == '2022-06-14']"
   ]
  },
  {
   "cell_type": "markdown",
   "metadata": {},
   "source": [
    "### Metric - AdditionalInfo"
   ]
  },
  {
   "cell_type": "code",
   "execution_count": 86,
   "metadata": {},
   "outputs": [
    {
     "data": {
      "text/html": [
       "<div>\n",
       "<style scoped>\n",
       "    .dataframe tbody tr th:only-of-type {\n",
       "        vertical-align: middle;\n",
       "    }\n",
       "\n",
       "    .dataframe tbody tr th {\n",
       "        vertical-align: top;\n",
       "    }\n",
       "\n",
       "    .dataframe thead th {\n",
       "        text-align: right;\n",
       "    }\n",
       "</style>\n",
       "<table border=\"1\" class=\"dataframe\">\n",
       "  <thead>\n",
       "    <tr style=\"text-align: right;\">\n",
       "      <th></th>\n",
       "      <th></th>\n",
       "      <th>new</th>\n",
       "    </tr>\n",
       "    <tr>\n",
       "      <th>instrument</th>\n",
       "      <th>datetime</th>\n",
       "      <th></th>\n",
       "    </tr>\n",
       "  </thead>\n",
       "  <tbody>\n",
       "    <tr>\n",
       "      <th rowspan=\"5\" valign=\"top\">1101</th>\n",
       "      <th>2022-07-01</th>\n",
       "      <td>0.000566</td>\n",
       "    </tr>\n",
       "    <tr>\n",
       "      <th>2022-07-04</th>\n",
       "      <td>0.000193</td>\n",
       "    </tr>\n",
       "    <tr>\n",
       "      <th>2022-07-05</th>\n",
       "      <td>0.000557</td>\n",
       "    </tr>\n",
       "    <tr>\n",
       "      <th>2022-07-06</th>\n",
       "      <td>0.000054</td>\n",
       "    </tr>\n",
       "    <tr>\n",
       "      <th>2022-07-07</th>\n",
       "      <td>0.000682</td>\n",
       "    </tr>\n",
       "    <tr>\n",
       "      <th>...</th>\n",
       "      <th>...</th>\n",
       "      <td>...</td>\n",
       "    </tr>\n",
       "    <tr>\n",
       "      <th rowspan=\"5\" valign=\"top\">9958</th>\n",
       "      <th>2024-09-24</th>\n",
       "      <td>0.001409</td>\n",
       "    </tr>\n",
       "    <tr>\n",
       "      <th>2024-09-25</th>\n",
       "      <td>0.000066</td>\n",
       "    </tr>\n",
       "    <tr>\n",
       "      <th>2024-09-26</th>\n",
       "      <td>0.000557</td>\n",
       "    </tr>\n",
       "    <tr>\n",
       "      <th>2024-09-27</th>\n",
       "      <td>0.000468</td>\n",
       "    </tr>\n",
       "    <tr>\n",
       "      <th>2024-09-30</th>\n",
       "      <td>0.000280</td>\n",
       "    </tr>\n",
       "  </tbody>\n",
       "</table>\n",
       "<p>332693 rows × 1 columns</p>\n",
       "</div>"
      ],
      "text/plain": [
       "                            new\n",
       "instrument datetime            \n",
       "1101       2022-07-01  0.000566\n",
       "           2022-07-04  0.000193\n",
       "           2022-07-05  0.000557\n",
       "           2022-07-06  0.000054\n",
       "           2022-07-07  0.000682\n",
       "...                         ...\n",
       "9958       2024-09-24  0.001409\n",
       "           2024-09-25  0.000066\n",
       "           2024-09-26  0.000557\n",
       "           2024-09-27  0.000468\n",
       "           2024-09-30  0.000280\n",
       "\n",
       "[332693 rows x 1 columns]"
      ]
     },
     "execution_count": 86,
     "metadata": {},
     "output_type": "execute_result"
    }
   ],
   "source": [
    "tidal.metrics['AdditionalInfo'].report"
   ]
  },
  {
   "cell_type": "markdown",
   "metadata": {},
   "source": [
    "### Strategy Lake Submit"
   ]
  },
  {
   "cell_type": "code",
   "execution_count": 87,
   "metadata": {},
   "outputs": [],
   "source": [
    "# group = dict(zip(df[\"coid\"].astype(str), df[\"tejind4_c\"]))\n",
    "# submit_lake_backtest_result = tidal.submit_lake_backtest(account_info=account_info, position_df=position_df, benchmark_info=benchmark_data, group=group,lake_env=\"dev\",strategy_id=19)\n",
    "# print(submit_lake_backtest_result)"
   ]
  },
  {
   "cell_type": "markdown",
   "metadata": {},
   "source": [
    "### Trade Report"
   ]
  },
  {
   "cell_type": "code",
   "execution_count": 88,
   "metadata": {},
   "outputs": [
    {
     "data": {
      "text/html": [
       "<div>\n",
       "<style scoped>\n",
       "    .dataframe tbody tr th:only-of-type {\n",
       "        vertical-align: middle;\n",
       "    }\n",
       "\n",
       "    .dataframe tbody tr th {\n",
       "        vertical-align: top;\n",
       "    }\n",
       "\n",
       "    .dataframe thead th {\n",
       "        text-align: right;\n",
       "    }\n",
       "</style>\n",
       "<table border=\"1\" class=\"dataframe\">\n",
       "  <thead>\n",
       "    <tr style=\"text-align: right;\">\n",
       "      <th></th>\n",
       "      <th>win_num</th>\n",
       "      <th>lose_num</th>\n",
       "      <th>trade_num</th>\n",
       "      <th>pos_num</th>\n",
       "      <th>win_rate</th>\n",
       "      <th>profit</th>\n",
       "      <th>loss</th>\n",
       "      <th>trade_cost</th>\n",
       "      <th>pnl</th>\n",
       "    </tr>\n",
       "    <tr>\n",
       "      <th>instrument</th>\n",
       "      <th></th>\n",
       "      <th></th>\n",
       "      <th></th>\n",
       "      <th></th>\n",
       "      <th></th>\n",
       "      <th></th>\n",
       "      <th></th>\n",
       "      <th></th>\n",
       "      <th></th>\n",
       "    </tr>\n",
       "  </thead>\n",
       "  <tbody>\n",
       "    <tr>\n",
       "      <th>6139</th>\n",
       "      <td>5.0</td>\n",
       "      <td>2.0</td>\n",
       "      <td>7.0</td>\n",
       "      <td>0.0</td>\n",
       "      <td>0.714286</td>\n",
       "      <td>5.295425e+06</td>\n",
       "      <td>-2.655211e+05</td>\n",
       "      <td>1.147235e+05</td>\n",
       "      <td>5.029903e+06</td>\n",
       "    </tr>\n",
       "    <tr>\n",
       "      <th>2392</th>\n",
       "      <td>2.0</td>\n",
       "      <td>0.0</td>\n",
       "      <td>2.0</td>\n",
       "      <td>0.0</td>\n",
       "      <td>1.000000</td>\n",
       "      <td>2.453756e+06</td>\n",
       "      <td>0.000000e+00</td>\n",
       "      <td>3.817314e+04</td>\n",
       "      <td>2.453756e+06</td>\n",
       "    </tr>\n",
       "    <tr>\n",
       "      <th>3617</th>\n",
       "      <td>4.0</td>\n",
       "      <td>5.0</td>\n",
       "      <td>9.0</td>\n",
       "      <td>0.0</td>\n",
       "      <td>0.444444</td>\n",
       "      <td>2.386635e+06</td>\n",
       "      <td>-4.475813e+05</td>\n",
       "      <td>1.244981e+05</td>\n",
       "      <td>1.939054e+06</td>\n",
       "    </tr>\n",
       "    <tr>\n",
       "      <th>3551</th>\n",
       "      <td>11.0</td>\n",
       "      <td>8.0</td>\n",
       "      <td>19.0</td>\n",
       "      <td>0.0</td>\n",
       "      <td>0.578947</td>\n",
       "      <td>2.495493e+06</td>\n",
       "      <td>-5.939452e+05</td>\n",
       "      <td>2.664059e+05</td>\n",
       "      <td>1.901548e+06</td>\n",
       "    </tr>\n",
       "    <tr>\n",
       "      <th>4129</th>\n",
       "      <td>3.0</td>\n",
       "      <td>1.0</td>\n",
       "      <td>4.0</td>\n",
       "      <td>0.0</td>\n",
       "      <td>0.750000</td>\n",
       "      <td>1.741897e+06</td>\n",
       "      <td>-8.098819e+02</td>\n",
       "      <td>5.427837e+04</td>\n",
       "      <td>1.741087e+06</td>\n",
       "    </tr>\n",
       "    <tr>\n",
       "      <th>...</th>\n",
       "      <td>...</td>\n",
       "      <td>...</td>\n",
       "      <td>...</td>\n",
       "      <td>...</td>\n",
       "      <td>...</td>\n",
       "      <td>...</td>\n",
       "      <td>...</td>\n",
       "      <td>...</td>\n",
       "      <td>...</td>\n",
       "    </tr>\n",
       "    <tr>\n",
       "      <th>3038</th>\n",
       "      <td>0.0</td>\n",
       "      <td>10.0</td>\n",
       "      <td>10.0</td>\n",
       "      <td>0.0</td>\n",
       "      <td>0.000000</td>\n",
       "      <td>0.000000e+00</td>\n",
       "      <td>-1.400797e+06</td>\n",
       "      <td>1.400088e+05</td>\n",
       "      <td>-1.400797e+06</td>\n",
       "    </tr>\n",
       "    <tr>\n",
       "      <th>4961</th>\n",
       "      <td>5.0</td>\n",
       "      <td>15.0</td>\n",
       "      <td>20.0</td>\n",
       "      <td>0.0</td>\n",
       "      <td>0.250000</td>\n",
       "      <td>1.044265e+06</td>\n",
       "      <td>-2.583664e+06</td>\n",
       "      <td>2.611685e+05</td>\n",
       "      <td>-1.539399e+06</td>\n",
       "    </tr>\n",
       "    <tr>\n",
       "      <th>6829</th>\n",
       "      <td>3.0</td>\n",
       "      <td>12.0</td>\n",
       "      <td>15.0</td>\n",
       "      <td>0.0</td>\n",
       "      <td>0.200000</td>\n",
       "      <td>6.686880e+05</td>\n",
       "      <td>-2.400360e+06</td>\n",
       "      <td>2.048908e+05</td>\n",
       "      <td>-1.731672e+06</td>\n",
       "    </tr>\n",
       "    <tr>\n",
       "      <th>1319</th>\n",
       "      <td>0.0</td>\n",
       "      <td>9.0</td>\n",
       "      <td>9.0</td>\n",
       "      <td>0.0</td>\n",
       "      <td>0.000000</td>\n",
       "      <td>0.000000e+00</td>\n",
       "      <td>-2.037022e+06</td>\n",
       "      <td>1.369752e+05</td>\n",
       "      <td>-2.037022e+06</td>\n",
       "    </tr>\n",
       "    <tr>\n",
       "      <th>4967</th>\n",
       "      <td>1.0</td>\n",
       "      <td>8.0</td>\n",
       "      <td>9.0</td>\n",
       "      <td>1.0</td>\n",
       "      <td>0.111111</td>\n",
       "      <td>1.445068e+05</td>\n",
       "      <td>-2.205793e+06</td>\n",
       "      <td>4.094861e+06</td>\n",
       "      <td>-2.061286e+06</td>\n",
       "    </tr>\n",
       "  </tbody>\n",
       "</table>\n",
       "<p>169 rows × 9 columns</p>\n",
       "</div>"
      ],
      "text/plain": [
       "            win_num  lose_num  trade_num  pos_num  win_rate        profit  \\\n",
       "instrument                                                                  \n",
       "6139            5.0       2.0        7.0      0.0  0.714286  5.295425e+06   \n",
       "2392            2.0       0.0        2.0      0.0  1.000000  2.453756e+06   \n",
       "3617            4.0       5.0        9.0      0.0  0.444444  2.386635e+06   \n",
       "3551           11.0       8.0       19.0      0.0  0.578947  2.495493e+06   \n",
       "4129            3.0       1.0        4.0      0.0  0.750000  1.741897e+06   \n",
       "...             ...       ...        ...      ...       ...           ...   \n",
       "3038            0.0      10.0       10.0      0.0  0.000000  0.000000e+00   \n",
       "4961            5.0      15.0       20.0      0.0  0.250000  1.044265e+06   \n",
       "6829            3.0      12.0       15.0      0.0  0.200000  6.686880e+05   \n",
       "1319            0.0       9.0        9.0      0.0  0.000000  0.000000e+00   \n",
       "4967            1.0       8.0        9.0      1.0  0.111111  1.445068e+05   \n",
       "\n",
       "                    loss    trade_cost           pnl  \n",
       "instrument                                            \n",
       "6139       -2.655211e+05  1.147235e+05  5.029903e+06  \n",
       "2392        0.000000e+00  3.817314e+04  2.453756e+06  \n",
       "3617       -4.475813e+05  1.244981e+05  1.939054e+06  \n",
       "3551       -5.939452e+05  2.664059e+05  1.901548e+06  \n",
       "4129       -8.098819e+02  5.427837e+04  1.741087e+06  \n",
       "...                  ...           ...           ...  \n",
       "3038       -1.400797e+06  1.400088e+05 -1.400797e+06  \n",
       "4961       -2.583664e+06  2.611685e+05 -1.539399e+06  \n",
       "6829       -2.400360e+06  2.048908e+05 -1.731672e+06  \n",
       "1319       -2.037022e+06  1.369752e+05 -2.037022e+06  \n",
       "4967       -2.205793e+06  4.094861e+06 -2.061286e+06  \n",
       "\n",
       "[169 rows x 9 columns]"
      ]
     },
     "execution_count": 88,
     "metadata": {},
     "output_type": "execute_result"
    }
   ],
   "source": [
    "tidal.trade_report"
   ]
  },
  {
   "cell_type": "markdown",
   "metadata": {},
   "source": [
    "### Traded instruments"
   ]
  },
  {
   "cell_type": "code",
   "execution_count": 89,
   "metadata": {},
   "outputs": [
    {
     "data": {
      "text/plain": [
       "dict_keys(['3669', '2640', '3617', '8433', '6245', '1817', '4549', '5230', '1531', '1580', '3551', '8928', '4129', '2441', '2207', '4971', '4961', '6612', '2030', '6533', '2850', '6284', '8478', '6829', '6568', '8027', '5439', '8091', '3567', '1533', '1565', '8109', '3556', '6667', '5220', '3141', '3006', '4945', '8942', '4576', '6747', '3479', '6591', '4506', '3611', '8279', '5903', '4175', '4541', '4162', '6803', '4938', '2455', '3218', '6589', '5284', '2404', '6470', '6664', '6788', '4927', '6670', '3413', '6143', '1589', '4931', '3484', '3264', '8049', '1504', '3189', '6416', '6269', '4721', '2421', '1712', '5443', '2337', '8420', '6570', '8210', '3038', '6139', '3029', '4953', '1308', '2729', '6125', '3227', '4557', '4104', '6691', '5511', '4137', '8048', '4138', '2916', '3356', '6577', '5508', '1102', '6776', '4163', '6538', '6732', '6782', '6523', '5236', '9942', '8112', '6189', '6585', '2211', '4766', '8081', '6592', '4105', '4968', '8436', '6446', '6170', '1522', '3213', '5880', '2392', '3338', '2636', '6605', '9927', '1532', '2371', '6290', '6546', '3622', '3211', '3712', '1319', '8054', '8255', '3526', '5309', '4915', '5371', '4147', '6443', '5340', '3689', '3357', '3624', '3045', '1722', '6579', '3289', '6741', '8147', '3019', '3491', '3147', '4967', '2467', '3450', '1513', '6187', '4958', '2354', '2344', '9939', '6830', '5009'])"
      ]
     },
     "execution_count": 89,
     "metadata": {},
     "output_type": "execute_result"
    }
   ],
   "source": [
    "tidal.account.trades.keys()"
   ]
  },
  {
   "cell_type": "markdown",
   "metadata": {},
   "source": [
    "### Trading History"
   ]
  },
  {
   "cell_type": "code",
   "execution_count": 90,
   "metadata": {},
   "outputs": [],
   "source": [
    "# tidal.account.trades['3015']"
   ]
  },
  {
   "cell_type": "markdown",
   "metadata": {},
   "source": [
    "### Plot chart by using Plotly"
   ]
  },
  {
   "cell_type": "code",
   "execution_count": 91,
   "metadata": {},
   "outputs": [],
   "source": [
    "# tidal.analyzer.inst_chart(instrument='3015', metric_name='AdditionalInfo', plot_type=td.PlotType.LINE, scale=1.0)"
   ]
  },
  {
   "cell_type": "markdown",
   "metadata": {},
   "source": [
    "### Tidal Dashboard"
   ]
  },
  {
   "cell_type": "code",
   "execution_count": 92,
   "metadata": {},
   "outputs": [
    {
     "name": "stdout",
     "output_type": "stream",
     "text": [
      " * Serving Flask app 'tidal.tdboard'\n",
      " * Debug mode: off\n"
     ]
    },
    {
     "name": "stderr",
     "output_type": "stream",
     "text": [
      "INFO:werkzeug:\u001b[31m\u001b[1mWARNING: This is a development server. Do not use it in a production deployment. Use a production WSGI server instead.\u001b[0m\n",
      " * Running on all addresses (0.0.0.0)\n",
      " * Running on http://127.0.0.1:34887\n",
      " * Running on http://10.136.13.69:34887\n",
      "INFO:werkzeug:\u001b[33mPress CTRL+C to quit\u001b[0m\n",
      "INFO:werkzeug:10.0.10.82 - - [24/Oct/2024 13:56:15] \"GET / HTTP/1.1\" 200 -\n",
      "INFO:werkzeug:10.0.10.82 - - [24/Oct/2024 13:56:15] \"GET /static/js/main.d754b0a3.js HTTP/1.1\" 200 -\n",
      "INFO:werkzeug:10.0.10.82 - - [24/Oct/2024 13:56:16] \"GET /static/css/main.bf4d504b.css HTTP/1.1\" 200 -\n",
      "INFO:werkzeug:10.0.10.82 - - [24/Oct/2024 13:56:16] \"GET /images/Tidal_Logo_white.png HTTP/1.1\" 200 -\n",
      "INFO:werkzeug:10.0.10.82 - - [24/Oct/2024 13:56:17] \"GET /api/quote/inst_list HTTP/1.1\" 200 -\n",
      "INFO:werkzeug:10.0.10.82 - - [24/Oct/2024 13:56:17] \"GET /api/trade/trade_report HTTP/1.1\" 200 -\n",
      "INFO:werkzeug:10.0.10.82 - - [24/Oct/2024 13:56:17] \"GET /api/metric/metric_list HTTP/1.1\" 200 -\n",
      "INFO:werkzeug:10.0.10.82 - - [24/Oct/2024 13:56:17] \"GET /Tidal_Logo.png HTTP/1.1\" 200 -\n",
      "INFO:werkzeug:10.0.10.82 - - [24/Oct/2024 13:56:17] \"\u001b[36mGET /Tidal_Logo.png HTTP/1.1\u001b[0m\" 304 -\n",
      "INFO:werkzeug:10.0.10.82 - - [24/Oct/2024 13:56:19] \"POST /api/metric/metric_reports HTTP/1.1\" 200 -\n",
      "INFO:werkzeug:10.0.10.82 - - [24/Oct/2024 13:56:19] \"GET /static/media/primeicons.78172950b335ccdb94e2.woff2 HTTP/1.1\" 200 -\n",
      "INFO:werkzeug:10.0.10.82 - - [24/Oct/2024 13:56:19] \"GET /images/ph_arrows-out-cardinal.svg HTTP/1.1\" 200 -\n",
      "INFO:werkzeug:10.0.10.82 - - [24/Oct/2024 13:56:19] \"GET /images/ph_x.svg HTTP/1.1\" 200 -\n",
      "INFO:werkzeug:10.0.10.82 - - [24/Oct/2024 13:56:20] \"POST /api/metric/metric_reports HTTP/1.1\" 200 -\n"
     ]
    }
   ],
   "source": [
    "tidal.tdboard()"
   ]
  },
  {
   "cell_type": "code",
   "execution_count": null,
   "metadata": {},
   "outputs": [],
   "source": [
    "tidal.account.position_history"
   ]
  }
 ],
 "metadata": {
  "kernelspec": {
   "display_name": "py38",
   "language": "python",
   "name": "python3"
  },
  "language_info": {
   "codemirror_mode": {
    "name": "ipython",
    "version": 3
   },
   "file_extension": ".py",
   "mimetype": "text/x-python",
   "name": "python",
   "nbconvert_exporter": "python",
   "pygments_lexer": "ipython3",
   "version": "3.10.15"
  }
 },
 "nbformat": 4,
 "nbformat_minor": 2
}
