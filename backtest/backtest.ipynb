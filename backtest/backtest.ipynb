{
 "cells": [
  {
   "cell_type": "markdown",
   "metadata": {},
   "source": [
    "### Import Required Package"
   ]
  },
  {
   "cell_type": "code",
   "execution_count": 93,
   "metadata": {},
   "outputs": [],
   "source": [
    "import pandas as pd\n",
    "import talib\n",
    "import numpy as np\n",
    "import json"
   ]
  },
  {
   "cell_type": "markdown",
   "metadata": {},
   "source": [
    "### Import Tidal"
   ]
  },
  {
   "cell_type": "code",
   "execution_count": 94,
   "metadata": {},
   "outputs": [],
   "source": [
    "import tidal as td"
   ]
  },
  {
   "cell_type": "markdown",
   "metadata": {},
   "source": [
    "### Initialize Plumber"
   ]
  },
  {
   "cell_type": "code",
   "execution_count": 95,
   "metadata": {},
   "outputs": [],
   "source": [
    "from pathlib import Path\n",
    "import ssl\n",
    "ssl._create_default_https_context = ssl._create_unverified_context\n",
    "\n",
    "PLUMBER_HOST = \"https://dev-api.ddt-dst.cc/api/plumber/\"\n",
    "with open(f'{str(Path.home())}/.config/gcloud/application_default_credentials.json') as plumber_token:\n",
    "    token = json.load(plumber_token)"
   ]
  },
  {
   "cell_type": "markdown",
   "metadata": {},
   "source": [
    "### Load market data and compute technical indicators"
   ]
  },
  {
   "cell_type": "code",
   "execution_count": 96,
   "metadata": {},
   "outputs": [
    {
     "name": "stderr",
     "output_type": "stream",
     "text": [
      "/tmp/ipykernel_23154/2042523340.py:97: FutureWarning: Comparison of Timestamp with datetime.date is deprecated in order to match the standard library behavior. In a future version these will be considered non-comparable. Use 'ts == pd.Timestamp(date)' or 'ts.date() == date' instead.\n",
      "  selected_df['datetime'] = pd.to_datetime(selected_df['datetime'])\n",
      "/tmp/ipykernel_23154/2042523340.py:97: FutureWarning: Comparison of Timestamp with datetime.date is deprecated in order to match the standard library behavior. In a future version these will be considered non-comparable. Use 'ts == pd.Timestamp(date)' or 'ts.date() == date' instead.\n",
      "  selected_df['datetime'] = pd.to_datetime(selected_df['datetime'])\n",
      "/tmp/ipykernel_23154/2042523340.py:97: FutureWarning: Comparison of Timestamp with datetime.date is deprecated in order to match the standard library behavior. In a future version these will be considered non-comparable. Use 'ts == pd.Timestamp(date)' or 'ts.date() == date' instead.\n",
      "  selected_df['datetime'] = pd.to_datetime(selected_df['datetime'])\n",
      "/tmp/ipykernel_23154/2042523340.py:97: FutureWarning: Comparison of Timestamp with datetime.date is deprecated in order to match the standard library behavior. In a future version these will be considered non-comparable. Use 'ts == pd.Timestamp(date)' or 'ts.date() == date' instead.\n",
      "  selected_df['datetime'] = pd.to_datetime(selected_df['datetime'])\n",
      "/tmp/ipykernel_23154/2042523340.py:97: FutureWarning: Comparison of Timestamp with datetime.date is deprecated in order to match the standard library behavior. In a future version these will be considered non-comparable. Use 'ts == pd.Timestamp(date)' or 'ts.date() == date' instead.\n",
      "  selected_df['datetime'] = pd.to_datetime(selected_df['datetime'])\n",
      "/tmp/ipykernel_23154/2042523340.py:97: FutureWarning: Comparison of Timestamp with datetime.date is deprecated in order to match the standard library behavior. In a future version these will be considered non-comparable. Use 'ts == pd.Timestamp(date)' or 'ts.date() == date' instead.\n",
      "  selected_df['datetime'] = pd.to_datetime(selected_df['datetime'])\n",
      "/tmp/ipykernel_23154/2042523340.py:97: FutureWarning: Comparison of Timestamp with datetime.date is deprecated in order to match the standard library behavior. In a future version these will be considered non-comparable. Use 'ts == pd.Timestamp(date)' or 'ts.date() == date' instead.\n",
      "  selected_df['datetime'] = pd.to_datetime(selected_df['datetime'])\n",
      "/tmp/ipykernel_23154/2042523340.py:97: FutureWarning: Comparison of Timestamp with datetime.date is deprecated in order to match the standard library behavior. In a future version these will be considered non-comparable. Use 'ts == pd.Timestamp(date)' or 'ts.date() == date' instead.\n",
      "  selected_df['datetime'] = pd.to_datetime(selected_df['datetime'])\n",
      "/tmp/ipykernel_23154/2042523340.py:97: FutureWarning: Comparison of Timestamp with datetime.date is deprecated in order to match the standard library behavior. In a future version these will be considered non-comparable. Use 'ts == pd.Timestamp(date)' or 'ts.date() == date' instead.\n",
      "  selected_df['datetime'] = pd.to_datetime(selected_df['datetime'])\n",
      "/tmp/ipykernel_23154/2042523340.py:97: FutureWarning: Comparison of Timestamp with datetime.date is deprecated in order to match the standard library behavior. In a future version these will be considered non-comparable. Use 'ts == pd.Timestamp(date)' or 'ts.date() == date' instead.\n",
      "  selected_df['datetime'] = pd.to_datetime(selected_df['datetime'])\n"
     ]
    }
   ],
   "source": [
    "import os\n",
    "import pandas as pd\n",
    "\n",
    "os.chdir('/home/jovyan/individualized-indicator')\n",
    "# 定義你想要讀取檔案的目錄\n",
    "directory = './emb/spearman'\n",
    "\n",
    "start_date = \"2022-06-01\"\n",
    "end_date = \"2024-09-30\"\n",
    "\n",
    "# 初始化一個空的字典來存儲所有讀取的 DataFrame\n",
    "dataframes = {}\n",
    "\n",
    "# 遍歷目錄中的所有檔案\n",
    "for filename in os.listdir(directory):\n",
    "    if filename.endswith('.pkl'):\n",
    "        # 組合完整的檔案路徑\n",
    "        file_path = os.path.join(directory, filename)\n",
    "        # 讀取 .pkl 檔案\n",
    "        df = pd.read_pickle(file_path)\n",
    "        \n",
    "        # 使用檔案名稱（不包括副檔名）作為字典的鍵\n",
    "        variable_name = filename.split('_')[2]\n",
    "        \n",
    "        # 將 DataFrame 儲存到字典中\n",
    "        dataframes[variable_name] = df\n",
    "\n",
    "keys_list = list(dataframes.keys())\n",
    "# 將字符串轉換為 datetime 格式，然後進行排序\n",
    "sorted_dates = sorted(pd.to_datetime(keys_list))\n",
    "keys_list = [date.strftime('%Y-%m-%d') for date in sorted_dates]\n",
    "\n",
    "total_df = pd.DataFrame()\n",
    "\n",
    "for j in range(0,len(keys_list)):\n",
    "    df_name = keys_list[j]\n",
    "    selected_df = dataframes[df_name]    \n",
    "    selected_df = selected_df.reset_index()\n",
    "    stock_list = pd.DataFrame(selected_df.iloc[:,0].unique())\n",
    "    total_df = pd.concat([total_df, stock_list], ignore_index=True)\n",
    "    \n",
    "unique_values_list = list(total_df.iloc[:,0].unique())\n",
    "sorted_list = sorted(unique_values_list)\n",
    "\n",
    "total_data = pd.read_parquet(\n",
    "    f\"{PLUMBER_HOST}stocks/tw/ohlcv\",\n",
    "    storage_options={\n",
    "        \"gcp-token\": json.dumps(token),\n",
    "        \"start-date\": start_date,\n",
    "        \"end-date\": end_date,\n",
    "        \"tickers\": \",\".join([stock for stock in sorted_list]),\n",
    "    },\n",
    ")\n",
    "\n",
    "total_data.index = total_data.index.set_levels(\n",
    "    pd.to_datetime(total_data.index.levels[1]),level=1)\n",
    "\n",
    "total_data.rename_axis(index={\n",
    "    'ticker': 'instrument'\n",
    "}, inplace=True)\n",
    "\n",
    "total_data['new'] = -1\n",
    "total_data.reset_index(inplace=True)\n",
    "\n",
    "def filter_by_year_month_12(filter_data, select_year, select_mon):\n",
    "    # 計算當前篩選年份和下一個年份\n",
    "    next_year = select_year + 1\n",
    "    \n",
    "    # 構建篩選條件：當前年12月、次年1月、次年2月\n",
    "    filter_data = filter_data[\n",
    "        ((filter_data['datetime'].dt.year == next_year) & (filter_data['datetime'].dt.month == 1)) |\n",
    "        ((filter_data['datetime'].dt.year == next_year) & (filter_data['datetime'].dt.month == 2)) |\n",
    "        ((filter_data['datetime'].dt.year == next_year) & (filter_data['datetime'].dt.month == 3))\n",
    "    ]\n",
    "    \n",
    "    return filter_data\n",
    "\n",
    "concat_df = pd.DataFrame()\n",
    "\n",
    "# for i in range(0,len(keys_list)-1):\n",
    "for i in range(0,len(keys_list)):\n",
    "    df_name = keys_list[i]\n",
    "    selected_df = dataframes[df_name]\n",
    "    selected_df.reset_index(inplace=True)\n",
    "    stock_df = selected_df.iloc[:,0]\n",
    "    stock_df_unique = list(stock_df.unique())\n",
    "    result = list(set(sorted_list) - set(stock_df_unique))\n",
    "    filtered_df = total_data[total_data['instrument'].isin(result)]\n",
    "    filtered_df = filtered_df.rename(columns={'volume': 'vol'})\n",
    "    selected_df = pd.concat([selected_df, filtered_df], ignore_index=True)\n",
    "    \n",
    "    select_year = int(df_name.split('-')[0])\n",
    "    select_mon = int(df_name.split('-')[1])\n",
    "    select_mons = [(select_mon+1)%12, (select_mon+2)%12, (select_mon+3)%12]\n",
    "    select_mons = [12 if mon == 0 else mon for mon in select_mons]\n",
    "    \n",
    "    selected_df['datetime'] = pd.to_datetime(selected_df['datetime'])\n",
    "    # 過濾出所有6月的交易資料\n",
    "    filter_data = selected_df[selected_df['datetime'].dt.month.isin(select_mons)]\n",
    "\n",
    "    # 使用時，根據 select_year 和 select_mon 動態篩選數據\n",
    "        \n",
    "    if select_mon == 12:\n",
    "        filter_data = filter_by_year_month_12(filter_data, select_year, select_mon) \n",
    "\n",
    "    else:\n",
    "        filter_data = filter_data[filter_data['datetime'].dt.year == select_year]\n",
    "    \n",
    "    concat_df = pd.concat([concat_df, filter_data], ignore_index=True)\n",
    "    \n",
    "# i = len(keys_list)-1\n",
    "# df_name = keys_list[i]\n",
    "# selected_df = dataframes[df_name]\n",
    "# selected_df.reset_index(inplace=True)\n",
    "# stock_df = selected_df.iloc[:,0]\n",
    "# stock_df_unique = list(stock_df.unique())\n",
    "# result = list(set(sorted_list) - set(stock_df_unique))\n",
    "# filtered_df = total_data[total_data['instrument'].isin(result)]\n",
    "# filtered_df = filtered_df.rename(columns={'volume': 'vol'})\n",
    "# selected_df = pd.concat([selected_df, filtered_df], ignore_index=True)\n",
    "# concat_df = pd.concat([concat_df, selected_df], ignore_index=True)\n",
    "\n",
    "concat_df.sort_values(by=['instrument', 'datetime'], inplace=True)\n",
    "concat_df.reset_index(drop=True, inplace=True)\n",
    "row = np.where(concat_df.iloc[:,0] == '6251')[0]\n",
    "concat_df = concat_df.drop(index=row)\n",
    "concat_df = concat_df.reset_index(drop=True)\n",
    "row = np.where(concat_df.iloc[:,0] == '8406')[0]\n",
    "concat_df = concat_df.drop(index=row)\n",
    "concat_df = concat_df.reset_index(drop=True)\n",
    "row = np.where(concat_df.iloc[:,0] == '6548')[0]\n",
    "concat_df = concat_df.drop(index=row)\n",
    "concat_df = concat_df.reset_index(drop=True)\n",
    "quote_data = concat_df.set_index(['instrument', 'datetime'])\n",
    "quote_data.columns.values[4] = 'volume'\n",
    "\n",
    "# quote_data.to_csv('./quote_data.csv')"
   ]
  },
  {
   "cell_type": "code",
   "execution_count": 97,
   "metadata": {},
   "outputs": [],
   "source": [
    "# i = len(keys_list)-1\n",
    "# df_name = keys_list[i]\n",
    "# selected_df = dataframes[df_name]\n",
    "# selected_df.reset_index(inplace=True)\n",
    "# stock_df = selected_df.iloc[:,0]\n",
    "# stock_df_unique = list(stock_df.unique())\n",
    "# result = list(set(sorted_list) - set(stock_df_unique))\n",
    "# filtered_df = total_data[total_data['instrument'].isin(result)]\n",
    "# filtered_df = filtered_df.rename(columns={'volume': 'vol'})\n",
    "# selected_df = pd.concat([selected_df, filtered_df], ignore_index=True)\n",
    "# concat_df = pd.concat([concat_df, selected_df], ignore_index=True)"
   ]
  },
  {
   "cell_type": "markdown",
   "metadata": {},
   "source": [
    "### Strategy Lake API"
   ]
  },
  {
   "cell_type": "code",
   "execution_count": 98,
   "metadata": {},
   "outputs": [],
   "source": [
    "data_api_url = (\"https://dev-api.ddt-dst.cc/api/plumber/nextron/industry_prod_df\")\n",
    "df = pd.read_parquet(\n",
    "    data_api_url,\n",
    "    storage_options={\n",
    "        \"gcp-token\": json.dumps(token),\n",
    "    }\n",
    ")"
   ]
  },
  {
   "cell_type": "markdown",
   "metadata": {},
   "source": [
    "### Load benchmark data"
   ]
  },
  {
   "cell_type": "code",
   "execution_count": 99,
   "metadata": {},
   "outputs": [
    {
     "name": "stderr",
     "output_type": "stream",
     "text": [
      "/tmp/ipykernel_23154/2173060872.py:11: FutureWarning: inplace is deprecated and will be removed in a future version.\n",
      "  benchmark_data.index.set_levels(\n"
     ]
    },
    {
     "data": {
      "text/html": [
       "<div>\n",
       "<style scoped>\n",
       "    .dataframe tbody tr th:only-of-type {\n",
       "        vertical-align: middle;\n",
       "    }\n",
       "\n",
       "    .dataframe tbody tr th {\n",
       "        vertical-align: top;\n",
       "    }\n",
       "\n",
       "    .dataframe thead th {\n",
       "        text-align: right;\n",
       "    }\n",
       "</style>\n",
       "<table border=\"1\" class=\"dataframe\">\n",
       "  <thead>\n",
       "    <tr style=\"text-align: right;\">\n",
       "      <th></th>\n",
       "      <th></th>\n",
       "      <th>open</th>\n",
       "      <th>high</th>\n",
       "      <th>low</th>\n",
       "      <th>close</th>\n",
       "      <th>volume</th>\n",
       "    </tr>\n",
       "    <tr>\n",
       "      <th>instrument</th>\n",
       "      <th>datetime</th>\n",
       "      <th></th>\n",
       "      <th></th>\n",
       "      <th></th>\n",
       "      <th></th>\n",
       "      <th></th>\n",
       "    </tr>\n",
       "  </thead>\n",
       "  <tbody>\n",
       "    <tr>\n",
       "      <th rowspan=\"11\" valign=\"top\">0050</th>\n",
       "      <th>2022-06-01</th>\n",
       "      <td>119.2856</td>\n",
       "      <td>119.9775</td>\n",
       "      <td>119.0089</td>\n",
       "      <td>119.1473</td>\n",
       "      <td>6730117</td>\n",
       "    </tr>\n",
       "    <tr>\n",
       "      <th>2022-06-02</th>\n",
       "      <td>118.5015</td>\n",
       "      <td>118.5015</td>\n",
       "      <td>117.7173</td>\n",
       "      <td>117.9018</td>\n",
       "      <td>4721923</td>\n",
       "    </tr>\n",
       "    <tr>\n",
       "      <th>2022-06-06</th>\n",
       "      <td>118.3170</td>\n",
       "      <td>119.0089</td>\n",
       "      <td>117.5789</td>\n",
       "      <td>118.7321</td>\n",
       "      <td>4292361</td>\n",
       "    </tr>\n",
       "    <tr>\n",
       "      <th>2022-06-07</th>\n",
       "      <td>118.0402</td>\n",
       "      <td>118.0402</td>\n",
       "      <td>117.0254</td>\n",
       "      <td>117.5328</td>\n",
       "      <td>5160242</td>\n",
       "    </tr>\n",
       "    <tr>\n",
       "      <th>2022-06-08</th>\n",
       "      <td>118.5476</td>\n",
       "      <td>119.1011</td>\n",
       "      <td>118.2247</td>\n",
       "      <td>118.8244</td>\n",
       "      <td>4110313</td>\n",
       "    </tr>\n",
       "    <tr>\n",
       "      <th>...</th>\n",
       "      <td>...</td>\n",
       "      <td>...</td>\n",
       "      <td>...</td>\n",
       "      <td>...</td>\n",
       "      <td>...</td>\n",
       "    </tr>\n",
       "    <tr>\n",
       "      <th>2024-09-24</th>\n",
       "      <td>183.2000</td>\n",
       "      <td>185.0000</td>\n",
       "      <td>182.1000</td>\n",
       "      <td>185.0000</td>\n",
       "      <td>10476465</td>\n",
       "    </tr>\n",
       "    <tr>\n",
       "      <th>2024-09-25</th>\n",
       "      <td>187.7000</td>\n",
       "      <td>188.0000</td>\n",
       "      <td>187.3500</td>\n",
       "      <td>187.7500</td>\n",
       "      <td>12464313</td>\n",
       "    </tr>\n",
       "    <tr>\n",
       "      <th>2024-09-26</th>\n",
       "      <td>189.6000</td>\n",
       "      <td>190.0000</td>\n",
       "      <td>188.7500</td>\n",
       "      <td>189.3000</td>\n",
       "      <td>17369543</td>\n",
       "    </tr>\n",
       "    <tr>\n",
       "      <th>2024-09-27</th>\n",
       "      <td>190.2000</td>\n",
       "      <td>191.2500</td>\n",
       "      <td>188.6000</td>\n",
       "      <td>188.9000</td>\n",
       "      <td>11999510</td>\n",
       "    </tr>\n",
       "    <tr>\n",
       "      <th>2024-09-30</th>\n",
       "      <td>186.5500</td>\n",
       "      <td>187.2000</td>\n",
       "      <td>183.9500</td>\n",
       "      <td>183.9500</td>\n",
       "      <td>14461065</td>\n",
       "    </tr>\n",
       "  </tbody>\n",
       "</table>\n",
       "<p>569 rows × 5 columns</p>\n",
       "</div>"
      ],
      "text/plain": [
       "                           open      high       low     close    volume\n",
       "instrument datetime                                                    \n",
       "0050       2022-06-01  119.2856  119.9775  119.0089  119.1473   6730117\n",
       "           2022-06-02  118.5015  118.5015  117.7173  117.9018   4721923\n",
       "           2022-06-06  118.3170  119.0089  117.5789  118.7321   4292361\n",
       "           2022-06-07  118.0402  118.0402  117.0254  117.5328   5160242\n",
       "           2022-06-08  118.5476  119.1011  118.2247  118.8244   4110313\n",
       "...                         ...       ...       ...       ...       ...\n",
       "           2024-09-24  183.2000  185.0000  182.1000  185.0000  10476465\n",
       "           2024-09-25  187.7000  188.0000  187.3500  187.7500  12464313\n",
       "           2024-09-26  189.6000  190.0000  188.7500  189.3000  17369543\n",
       "           2024-09-27  190.2000  191.2500  188.6000  188.9000  11999510\n",
       "           2024-09-30  186.5500  187.2000  183.9500  183.9500  14461065\n",
       "\n",
       "[569 rows x 5 columns]"
      ]
     },
     "execution_count": 99,
     "metadata": {},
     "output_type": "execute_result"
    }
   ],
   "source": [
    "benchmark_inst = \"0050\"\n",
    "benchmark_data = pd.read_parquet(\n",
    "    f\"{PLUMBER_HOST}stocks/tw/ohlcv\",\n",
    "    storage_options={\n",
    "        \"gcp-token\": json.dumps(token),\n",
    "        \"start-date\": start_date,\n",
    "        \"end-date\": end_date,\n",
    "        \"tickers\": benchmark_inst,\n",
    "    },\n",
    ")\n",
    "benchmark_data.index.set_levels(\n",
    "    pd.to_datetime(benchmark_data.index.levels[1]),\n",
    "    level=1,\n",
    "    inplace=True,\n",
    ")\n",
    "benchmark_data.rename_axis(index={\n",
    "    'ticker': 'instrument'\n",
    "}, inplace=True)\n",
    "\n",
    "benchmark_data"
   ]
  },
  {
   "cell_type": "markdown",
   "metadata": {},
   "source": [
    "### Initialize Tidal\n",
    "1. Initialize Tidal object\n",
    "2. Add Quote data (pd.DataFrame)\n",
    "3. Set strategy object (td.BaseStrategy)\n",
    "4. Add metric objects (td.BaseMetic)"
   ]
  },
  {
   "cell_type": "code",
   "execution_count": 100,
   "metadata": {},
   "outputs": [
    {
     "name": "stderr",
     "output_type": "stream",
     "text": [
      "[2024/11/28 14:15:24] root INFO Tidal client version: 1.1.41\n",
      "[2024/11/28 14:15:24] root ERROR SocketClient tcp://10.136.15.5:6666: No module named 'tidal'\n",
      "[2024/11/28 14:15:24] root INFO Tidal server version: None\n"
     ]
    }
   ],
   "source": [
    "# Initialize Tidal object\n",
    "tidal = td.Tidal(init_cash=50000000, slip_ticks=1, stock_config=td.StockConfig.TW, load_configs=True, reqMem=\"1000Mi\", ignore_volume_size=True)\n",
    "\n",
    "# Add quote data\n",
    "tidal.add_quote(quote_data)\n",
    "\n",
    "# Set strategy object\n",
    "tidal.set_strategy(td.strategy.TopkDropout(15, 3, 'new'))\n",
    "\n",
    "# Set metric objects\n",
    "tidal.add_metric(td.metric.AccountInfo())\n",
    "tidal.add_metric(td.metric.AdditionalInfo())\n",
    "tidal.add_metric(td.metric.PositionInfo())\n",
    "tidal.add_metric(td.metric.Portfolio(benchmark_data.loc[benchmark_inst]))"
   ]
  },
  {
   "cell_type": "markdown",
   "metadata": {},
   "source": [
    "### Stock Config"
   ]
  },
  {
   "cell_type": "code",
   "execution_count": 101,
   "metadata": {},
   "outputs": [
    {
     "data": {
      "text/plain": [
       "InstConfig {Margin:0.0, Tick Size:0.002, Tick Value:0.002, Trade Unit:1000, Commission:0.0004275, Min Commission:20.0, Transaction Tax:0.003}"
      ]
     },
     "execution_count": 101,
     "metadata": {},
     "output_type": "execute_result"
    }
   ],
   "source": [
    "tidal.exchange.stock_config"
   ]
  },
  {
   "cell_type": "markdown",
   "metadata": {},
   "source": [
    "### Instrument Configs"
   ]
  },
  {
   "cell_type": "code",
   "execution_count": 102,
   "metadata": {},
   "outputs": [
    {
     "data": {
      "text/plain": [
       "{'TX': InstConfig {Margin:184000.0, Tick Size:1.0, Tick Value:200.0, Trade Unit:1, Commission:40.0, Min Commission:0.0, Transaction Tax:2e-05},\n",
       " 'MTX': InstConfig {Margin:46000.0, Tick Size:1.0, Tick Value:50.0, Trade Unit:1, Commission:20.0, Min Commission:0.0, Transaction Tax:2e-05},\n",
       " 'NQ': InstConfig {Margin:16500.0, Tick Size:0.25, Tick Value:5.0, Trade Unit:1, Commission:1.85, Min Commission:0.0, Transaction Tax:0.0}}"
      ]
     },
     "execution_count": 102,
     "metadata": {},
     "output_type": "execute_result"
    }
   ],
   "source": [
    "tidal.exchange.inst_configs"
   ]
  },
  {
   "cell_type": "markdown",
   "metadata": {},
   "source": [
    "### Config Modification"
   ]
  },
  {
   "cell_type": "code",
   "execution_count": 103,
   "metadata": {},
   "outputs": [
    {
     "data": {
      "text/plain": [
       "InstConfig {Margin:0.0, Tick Size:0.002, Tick Value:0.002, Trade Unit:1000, Commission:0.00032775, Min Commission:20.0, Transaction Tax:0.003}"
      ]
     },
     "execution_count": 103,
     "metadata": {},
     "output_type": "execute_result"
    }
   ],
   "source": [
    "# Set commission to 77% off\n",
    "tidal.exchange.set_stock_config(commission=0.001425 * 0.23)\n",
    "tidal.exchange.stock_config"
   ]
  },
  {
   "cell_type": "markdown",
   "metadata": {},
   "source": [
    "### Add New Instrument Config"
   ]
  },
  {
   "cell_type": "code",
   "execution_count": 104,
   "metadata": {},
   "outputs": [
    {
     "data": {
      "text/plain": [
       "{'TX': InstConfig {Margin:184000.0, Tick Size:1.0, Tick Value:200.0, Trade Unit:1, Commission:40.0, Min Commission:0.0, Transaction Tax:2e-05},\n",
       " 'MTX': InstConfig {Margin:46000.0, Tick Size:1.0, Tick Value:50.0, Trade Unit:1, Commission:20.0, Min Commission:0.0, Transaction Tax:2e-05},\n",
       " 'NQ': InstConfig {Margin:16500.0, Tick Size:0.25, Tick Value:5.0, Trade Unit:1, Commission:1.85, Min Commission:0.0, Transaction Tax:0.0},\n",
       " 'MGC': InstConfig {Margin:787.0, Tick Size:0.1, Tick Value:1.0, Trade Unit:1, Commission:2.0, Min Commission:0.0, Transaction Tax:0.0}}"
      ]
     },
     "execution_count": 104,
     "metadata": {},
     "output_type": "execute_result"
    }
   ],
   "source": [
    "# Add MGC config\n",
    "tidal.exchange.set_config(instrument='MGC', margin=787., tick_size=0.1, tick_value=1., trade_unit=1, commission=2., min_commission=0., transaction_tax=0.)\n",
    "tidal.exchange.inst_configs"
   ]
  },
  {
   "cell_type": "markdown",
   "metadata": {},
   "source": [
    "### Start Backtesting"
   ]
  },
  {
   "cell_type": "code",
   "execution_count": 105,
   "metadata": {},
   "outputs": [
    {
     "name": "stderr",
     "output_type": "stream",
     "text": [
      "Tidal Backtesting: 100%|██████████| 548/548 [02:05<00:00,  4.37it/s, cash=6.91e+5, pnl=6.08e+5, position_cost=6.18e+7, value=6.31e+7] "
     ]
    },
    {
     "name": "stdout",
     "output_type": "stream",
     "text": [
      "2024-08-23 - 警告：強制以開盤價 136.5 賣出 8279，因為當天交易量為0\n",
      "2024-08-27 - 警告：強制以開盤價 139.5 賣出 8279，因為當天交易量為0\n"
     ]
    },
    {
     "name": "stderr",
     "output_type": "stream",
     "text": [
      "\n"
     ]
    }
   ],
   "source": [
    "tidal.backtest()\n",
    "logs = tidal.get_logs()\n",
    "for log in logs:\n",
    "    print(log)"
   ]
  },
  {
   "cell_type": "markdown",
   "metadata": {},
   "source": [
    "### Metric - AccountInfo"
   ]
  },
  {
   "cell_type": "code",
   "execution_count": 106,
   "metadata": {},
   "outputs": [
    {
     "name": "stdout",
     "output_type": "stream",
     "text": [
      "                    cash    trade_cost  position_cost     slip_cost  \\\n",
      "datetime                                                              \n",
      "2022-07-01  5.000000e+07  0.000000e+00   0.000000e+00  0.000000e+00   \n",
      "2022-07-04  2.829782e+06  1.545497e+04   4.715476e+07  1.243792e+05   \n",
      "2022-07-05  4.632924e+05  5.065070e+04   4.948310e+07  3.137391e+05   \n",
      "2022-07-06  4.736878e+05  8.619253e+04   4.972900e+07  3.695647e+05   \n",
      "2022-07-07  5.537176e+05  1.232479e+05   4.939350e+07  3.922550e+05   \n",
      "...                  ...           ...            ...           ...   \n",
      "2024-09-24  5.236193e+05  1.504472e+07   6.165311e+07  1.356949e+07   \n",
      "2024-09-25  8.362339e+05  1.508755e+07   6.130531e+07  1.365379e+07   \n",
      "2024-09-26  6.219499e+05  1.513153e+07   6.160130e+07  1.380819e+07   \n",
      "2024-09-27  8.412410e+05  1.517671e+07   6.168329e+07  1.367598e+07   \n",
      "2024-09-30  6.913378e+05  1.522053e+07   6.179543e+07  1.373235e+07   \n",
      "\n",
      "                     pnl         value  max_drawdown      turnover  \n",
      "datetime                                                            \n",
      "2022-07-01  0.000000e+00  5.000000e+07      0.000000  0.000000e+00  \n",
      "2022-07-04 -1.350816e+05  4.984946e+07     -0.003011  4.715476e+07  \n",
      "2022-07-05  8.087706e+05  5.075516e+07      0.000000  2.116956e+07  \n",
      "2022-07-06 -4.493049e+05  4.975339e+07     -0.019737  1.940797e+07  \n",
      "2022-07-07  5.400327e+05  5.048725e+07     -0.005278  2.017768e+07  \n",
      "...                  ...           ...           ...           ...  \n",
      "2024-09-24  2.320294e+06  6.449702e+07     -0.091122  1.668750e+07  \n",
      "2024-09-25  2.176539e+06  6.431808e+07     -0.093644  2.314434e+07  \n",
      "2024-09-26  1.361198e+06  6.358445e+07     -0.103982  2.420234e+07  \n",
      "2024-09-27  1.186459e+06  6.371099e+07     -0.102199  2.449809e+07  \n",
      "2024-09-30  6.079172e+05  6.309469e+07     -0.110884  2.406606e+07  \n",
      "\n",
      "[548 rows x 8 columns]\n"
     ]
    }
   ],
   "source": [
    "account_info = tidal.metrics[\"AccountInfo\"].report\n",
    "print(account_info)"
   ]
  },
  {
   "cell_type": "markdown",
   "metadata": {},
   "source": [
    "### Metric - PositionInfo"
   ]
  },
  {
   "cell_type": "code",
   "execution_count": 107,
   "metadata": {},
   "outputs": [
    {
     "name": "stdout",
     "output_type": "stream",
     "text": [
      "                       quantity      price   commission   slip_cost  \\\n",
      "instrument datetime                                                   \n",
      "1210       2023-07-05   83000.0  49.775051  1354.043167    493.9662   \n",
      "           2023-07-06   83000.0  49.775051  1354.043167    493.9662   \n",
      "           2023-07-07   83000.0  49.775051  1354.043167    493.9662   \n",
      "           2023-07-10   83000.0  49.775051  1354.043167    493.9662   \n",
      "           2023-07-11   83000.0  49.775051  1354.043167    493.9662   \n",
      "...                         ...        ...          ...         ...   \n",
      "9945       2024-09-20   81000.0  47.795400  1268.860330  27977.4000   \n",
      "           2024-09-25   81000.0  47.795400  1268.860330  36077.4000   \n",
      "           2024-09-26   81000.0  47.795400  1268.860330  36077.4000   \n",
      "           2024-09-27   81000.0  47.795400  1268.860330  36077.4000   \n",
      "           2024-09-30   81000.0  47.795400  1268.860330  36077.4000   \n",
      "\n",
      "                               pnl  now_price  \n",
      "instrument datetime                            \n",
      "1210       2023-07-05  -31494.4662    49.3956  \n",
      "           2023-07-06  -93495.4662    48.6486  \n",
      "           2023-07-07 -116743.7662    48.3685  \n",
      "           2023-07-10  -62494.9662    49.0221  \n",
      "           2023-07-11   17284.6338    49.9833  \n",
      "...                            ...        ...  \n",
      "9945       2024-09-20  -23927.4000    47.5000  \n",
      "           2024-09-25    8472.6000    47.9000  \n",
      "           2024-09-26   16572.6000    48.0000  \n",
      "           2024-09-27   32772.6000    48.2000  \n",
      "           2024-09-30   93522.6000    48.9500  \n",
      "\n",
      "[8203 rows x 6 columns]\n"
     ]
    }
   ],
   "source": [
    "position_df = tidal.metrics[\"PositionInfo\"].report\n",
    "print(position_df)"
   ]
  },
  {
   "cell_type": "code",
   "execution_count": 108,
   "metadata": {},
   "outputs": [
    {
     "data": {
      "text/html": [
       "<div>\n",
       "<style scoped>\n",
       "    .dataframe tbody tr th:only-of-type {\n",
       "        vertical-align: middle;\n",
       "    }\n",
       "\n",
       "    .dataframe tbody tr th {\n",
       "        vertical-align: top;\n",
       "    }\n",
       "\n",
       "    .dataframe thead th {\n",
       "        text-align: right;\n",
       "    }\n",
       "</style>\n",
       "<table border=\"1\" class=\"dataframe\">\n",
       "  <thead>\n",
       "    <tr style=\"text-align: right;\">\n",
       "      <th></th>\n",
       "      <th></th>\n",
       "      <th>quantity</th>\n",
       "      <th>price</th>\n",
       "      <th>commission</th>\n",
       "      <th>slip_cost</th>\n",
       "      <th>pnl</th>\n",
       "      <th>now_price</th>\n",
       "    </tr>\n",
       "    <tr>\n",
       "      <th>instrument</th>\n",
       "      <th>datetime</th>\n",
       "      <th></th>\n",
       "      <th></th>\n",
       "      <th></th>\n",
       "      <th></th>\n",
       "      <th></th>\n",
       "      <th></th>\n",
       "    </tr>\n",
       "  </thead>\n",
       "  <tbody>\n",
       "  </tbody>\n",
       "</table>\n",
       "</div>"
      ],
      "text/plain": [
       "Empty DataFrame\n",
       "Columns: [quantity, price, commission, slip_cost, pnl, now_price]\n",
       "Index: []"
      ]
     },
     "execution_count": 108,
     "metadata": {},
     "output_type": "execute_result"
    }
   ],
   "source": [
    "pi_report = tidal.metrics['PositionInfo'].report\n",
    "pi_report.iloc[pi_report.index.get_level_values('datetime') == '2022-06-14']"
   ]
  },
  {
   "cell_type": "markdown",
   "metadata": {},
   "source": [
    "### Metric - AdditionalInfo"
   ]
  },
  {
   "cell_type": "code",
   "execution_count": 109,
   "metadata": {},
   "outputs": [
    {
     "data": {
      "text/html": [
       "<div>\n",
       "<style scoped>\n",
       "    .dataframe tbody tr th:only-of-type {\n",
       "        vertical-align: middle;\n",
       "    }\n",
       "\n",
       "    .dataframe tbody tr th {\n",
       "        vertical-align: top;\n",
       "    }\n",
       "\n",
       "    .dataframe thead th {\n",
       "        text-align: right;\n",
       "    }\n",
       "</style>\n",
       "<table border=\"1\" class=\"dataframe\">\n",
       "  <thead>\n",
       "    <tr style=\"text-align: right;\">\n",
       "      <th></th>\n",
       "      <th></th>\n",
       "      <th>new</th>\n",
       "    </tr>\n",
       "    <tr>\n",
       "      <th>instrument</th>\n",
       "      <th>datetime</th>\n",
       "      <th></th>\n",
       "    </tr>\n",
       "  </thead>\n",
       "  <tbody>\n",
       "    <tr>\n",
       "      <th rowspan=\"5\" valign=\"top\">1101</th>\n",
       "      <th>2022-07-01</th>\n",
       "      <td>4.640564e-06</td>\n",
       "    </tr>\n",
       "    <tr>\n",
       "      <th>2022-07-04</th>\n",
       "      <td>1.653318e-06</td>\n",
       "    </tr>\n",
       "    <tr>\n",
       "      <th>2022-07-05</th>\n",
       "      <td>4.568053e-06</td>\n",
       "    </tr>\n",
       "    <tr>\n",
       "      <th>2022-07-06</th>\n",
       "      <td>5.427003e-07</td>\n",
       "    </tr>\n",
       "    <tr>\n",
       "      <th>2022-07-07</th>\n",
       "      <td>5.575453e-06</td>\n",
       "    </tr>\n",
       "    <tr>\n",
       "      <th>...</th>\n",
       "      <th>...</th>\n",
       "      <td>...</td>\n",
       "    </tr>\n",
       "    <tr>\n",
       "      <th rowspan=\"5\" valign=\"top\">9958</th>\n",
       "      <th>2024-09-24</th>\n",
       "      <td>6.189310e-06</td>\n",
       "    </tr>\n",
       "    <tr>\n",
       "      <th>2024-09-25</th>\n",
       "      <td>5.000523e-07</td>\n",
       "    </tr>\n",
       "    <tr>\n",
       "      <th>2024-09-26</th>\n",
       "      <td>2.548680e-06</td>\n",
       "    </tr>\n",
       "    <tr>\n",
       "      <th>2024-09-27</th>\n",
       "      <td>2.142561e-06</td>\n",
       "    </tr>\n",
       "    <tr>\n",
       "      <th>2024-09-30</th>\n",
       "      <td>1.332919e-06</td>\n",
       "    </tr>\n",
       "  </tbody>\n",
       "</table>\n",
       "<p>332693 rows × 1 columns</p>\n",
       "</div>"
      ],
      "text/plain": [
       "                                new\n",
       "instrument datetime                \n",
       "1101       2022-07-01  4.640564e-06\n",
       "           2022-07-04  1.653318e-06\n",
       "           2022-07-05  4.568053e-06\n",
       "           2022-07-06  5.427003e-07\n",
       "           2022-07-07  5.575453e-06\n",
       "...                             ...\n",
       "9958       2024-09-24  6.189310e-06\n",
       "           2024-09-25  5.000523e-07\n",
       "           2024-09-26  2.548680e-06\n",
       "           2024-09-27  2.142561e-06\n",
       "           2024-09-30  1.332919e-06\n",
       "\n",
       "[332693 rows x 1 columns]"
      ]
     },
     "execution_count": 109,
     "metadata": {},
     "output_type": "execute_result"
    }
   ],
   "source": [
    "tidal.metrics['AdditionalInfo'].report"
   ]
  },
  {
   "cell_type": "markdown",
   "metadata": {},
   "source": [
    "### Strategy Lake Submit"
   ]
  },
  {
   "cell_type": "code",
   "execution_count": 110,
   "metadata": {},
   "outputs": [],
   "source": [
    "# group = dict(zip(df[\"coid\"].astype(str), df[\"tejind4_c\"]))\n",
    "# submit_lake_backtest_result = tidal.submit_lake_backtest(account_info=account_info, position_df=position_df, benchmark_info=benchmark_data, group=group,lake_env=\"dev\",strategy_id=19)\n",
    "# print(submit_lake_backtest_result)"
   ]
  },
  {
   "cell_type": "markdown",
   "metadata": {},
   "source": [
    "### Trade Report"
   ]
  },
  {
   "cell_type": "code",
   "execution_count": 111,
   "metadata": {},
   "outputs": [
    {
     "data": {
      "text/html": [
       "<div>\n",
       "<style scoped>\n",
       "    .dataframe tbody tr th:only-of-type {\n",
       "        vertical-align: middle;\n",
       "    }\n",
       "\n",
       "    .dataframe tbody tr th {\n",
       "        vertical-align: top;\n",
       "    }\n",
       "\n",
       "    .dataframe thead th {\n",
       "        text-align: right;\n",
       "    }\n",
       "</style>\n",
       "<table border=\"1\" class=\"dataframe\">\n",
       "  <thead>\n",
       "    <tr style=\"text-align: right;\">\n",
       "      <th></th>\n",
       "      <th>win_num</th>\n",
       "      <th>lose_num</th>\n",
       "      <th>trade_num</th>\n",
       "      <th>pos_num</th>\n",
       "      <th>win_rate</th>\n",
       "      <th>profit</th>\n",
       "      <th>loss</th>\n",
       "      <th>trade_cost</th>\n",
       "      <th>pnl</th>\n",
       "    </tr>\n",
       "    <tr>\n",
       "      <th>instrument</th>\n",
       "      <th></th>\n",
       "      <th></th>\n",
       "      <th></th>\n",
       "      <th></th>\n",
       "      <th></th>\n",
       "      <th></th>\n",
       "      <th></th>\n",
       "      <th></th>\n",
       "      <th></th>\n",
       "    </tr>\n",
       "  </thead>\n",
       "  <tbody>\n",
       "    <tr>\n",
       "      <th>6139</th>\n",
       "      <td>2.0</td>\n",
       "      <td>0.0</td>\n",
       "      <td>2.0</td>\n",
       "      <td>0.0</td>\n",
       "      <td>1.000000</td>\n",
       "      <td>5.534185e+06</td>\n",
       "      <td>0.000000e+00</td>\n",
       "      <td>4.670926e+04</td>\n",
       "      <td>5.534185e+06</td>\n",
       "    </tr>\n",
       "    <tr>\n",
       "      <th>3617</th>\n",
       "      <td>15.0</td>\n",
       "      <td>19.0</td>\n",
       "      <td>34.0</td>\n",
       "      <td>0.0</td>\n",
       "      <td>0.441176</td>\n",
       "      <td>5.416745e+06</td>\n",
       "      <td>-1.575911e+06</td>\n",
       "      <td>4.458556e+05</td>\n",
       "      <td>3.840834e+06</td>\n",
       "    </tr>\n",
       "    <tr>\n",
       "      <th>2392</th>\n",
       "      <td>1.0</td>\n",
       "      <td>0.0</td>\n",
       "      <td>1.0</td>\n",
       "      <td>0.0</td>\n",
       "      <td>1.000000</td>\n",
       "      <td>2.420079e+06</td>\n",
       "      <td>0.000000e+00</td>\n",
       "      <td>2.210516e+04</td>\n",
       "      <td>2.420079e+06</td>\n",
       "    </tr>\n",
       "    <tr>\n",
       "      <th>3338</th>\n",
       "      <td>1.0</td>\n",
       "      <td>0.0</td>\n",
       "      <td>1.0</td>\n",
       "      <td>0.0</td>\n",
       "      <td>1.000000</td>\n",
       "      <td>1.517023e+06</td>\n",
       "      <td>0.000000e+00</td>\n",
       "      <td>1.917484e+04</td>\n",
       "      <td>1.517023e+06</td>\n",
       "    </tr>\n",
       "    <tr>\n",
       "      <th>6585</th>\n",
       "      <td>1.0</td>\n",
       "      <td>1.0</td>\n",
       "      <td>2.0</td>\n",
       "      <td>0.0</td>\n",
       "      <td>0.500000</td>\n",
       "      <td>1.718951e+06</td>\n",
       "      <td>-2.551232e+05</td>\n",
       "      <td>3.140924e+04</td>\n",
       "      <td>1.463828e+06</td>\n",
       "    </tr>\n",
       "    <tr>\n",
       "      <th>...</th>\n",
       "      <td>...</td>\n",
       "      <td>...</td>\n",
       "      <td>...</td>\n",
       "      <td>...</td>\n",
       "      <td>...</td>\n",
       "      <td>...</td>\n",
       "      <td>...</td>\n",
       "      <td>...</td>\n",
       "      <td>...</td>\n",
       "    </tr>\n",
       "    <tr>\n",
       "      <th>3289</th>\n",
       "      <td>6.0</td>\n",
       "      <td>8.0</td>\n",
       "      <td>14.0</td>\n",
       "      <td>1.0</td>\n",
       "      <td>0.428571</td>\n",
       "      <td>7.185922e+05</td>\n",
       "      <td>-1.803319e+06</td>\n",
       "      <td>3.961009e+06</td>\n",
       "      <td>-1.084727e+06</td>\n",
       "    </tr>\n",
       "    <tr>\n",
       "      <th>6577</th>\n",
       "      <td>1.0</td>\n",
       "      <td>10.0</td>\n",
       "      <td>11.0</td>\n",
       "      <td>0.0</td>\n",
       "      <td>0.090909</td>\n",
       "      <td>1.780180e+03</td>\n",
       "      <td>-1.115677e+06</td>\n",
       "      <td>1.522043e+05</td>\n",
       "      <td>-1.113897e+06</td>\n",
       "    </tr>\n",
       "    <tr>\n",
       "      <th>8420</th>\n",
       "      <td>4.0</td>\n",
       "      <td>7.0</td>\n",
       "      <td>11.0</td>\n",
       "      <td>0.0</td>\n",
       "      <td>0.363636</td>\n",
       "      <td>5.701063e+05</td>\n",
       "      <td>-1.793077e+06</td>\n",
       "      <td>1.333207e+05</td>\n",
       "      <td>-1.222971e+06</td>\n",
       "    </tr>\n",
       "    <tr>\n",
       "      <th>4971</th>\n",
       "      <td>9.0</td>\n",
       "      <td>14.0</td>\n",
       "      <td>23.0</td>\n",
       "      <td>0.0</td>\n",
       "      <td>0.391304</td>\n",
       "      <td>6.319771e+05</td>\n",
       "      <td>-2.044842e+06</td>\n",
       "      <td>3.014120e+05</td>\n",
       "      <td>-1.412865e+06</td>\n",
       "    </tr>\n",
       "    <tr>\n",
       "      <th>4919</th>\n",
       "      <td>4.0</td>\n",
       "      <td>9.0</td>\n",
       "      <td>13.0</td>\n",
       "      <td>1.0</td>\n",
       "      <td>0.307692</td>\n",
       "      <td>2.094727e+05</td>\n",
       "      <td>-2.078904e+06</td>\n",
       "      <td>4.261517e+06</td>\n",
       "      <td>-1.869431e+06</td>\n",
       "    </tr>\n",
       "  </tbody>\n",
       "</table>\n",
       "<p>149 rows × 9 columns</p>\n",
       "</div>"
      ],
      "text/plain": [
       "            win_num  lose_num  trade_num  pos_num  win_rate        profit  \\\n",
       "instrument                                                                  \n",
       "6139            2.0       0.0        2.0      0.0  1.000000  5.534185e+06   \n",
       "3617           15.0      19.0       34.0      0.0  0.441176  5.416745e+06   \n",
       "2392            1.0       0.0        1.0      0.0  1.000000  2.420079e+06   \n",
       "3338            1.0       0.0        1.0      0.0  1.000000  1.517023e+06   \n",
       "6585            1.0       1.0        2.0      0.0  0.500000  1.718951e+06   \n",
       "...             ...       ...        ...      ...       ...           ...   \n",
       "3289            6.0       8.0       14.0      1.0  0.428571  7.185922e+05   \n",
       "6577            1.0      10.0       11.0      0.0  0.090909  1.780180e+03   \n",
       "8420            4.0       7.0       11.0      0.0  0.363636  5.701063e+05   \n",
       "4971            9.0      14.0       23.0      0.0  0.391304  6.319771e+05   \n",
       "4919            4.0       9.0       13.0      1.0  0.307692  2.094727e+05   \n",
       "\n",
       "                    loss    trade_cost           pnl  \n",
       "instrument                                            \n",
       "6139        0.000000e+00  4.670926e+04  5.534185e+06  \n",
       "3617       -1.575911e+06  4.458556e+05  3.840834e+06  \n",
       "2392        0.000000e+00  2.210516e+04  2.420079e+06  \n",
       "3338        0.000000e+00  1.917484e+04  1.517023e+06  \n",
       "6585       -2.551232e+05  3.140924e+04  1.463828e+06  \n",
       "...                  ...           ...           ...  \n",
       "3289       -1.803319e+06  3.961009e+06 -1.084727e+06  \n",
       "6577       -1.115677e+06  1.522043e+05 -1.113897e+06  \n",
       "8420       -1.793077e+06  1.333207e+05 -1.222971e+06  \n",
       "4971       -2.044842e+06  3.014120e+05 -1.412865e+06  \n",
       "4919       -2.078904e+06  4.261517e+06 -1.869431e+06  \n",
       "\n",
       "[149 rows x 9 columns]"
      ]
     },
     "execution_count": 111,
     "metadata": {},
     "output_type": "execute_result"
    }
   ],
   "source": [
    "tidal.trade_report"
   ]
  },
  {
   "cell_type": "markdown",
   "metadata": {},
   "source": [
    "### Traded instruments"
   ]
  },
  {
   "cell_type": "code",
   "execution_count": 112,
   "metadata": {},
   "outputs": [
    {
     "data": {
      "text/plain": [
       "dict_keys(['6747', '8279', '6531', '8431', '3669', '1785', '8433', '8027', '8091', '7556', '6667', '3551', '2640', '5230', '1580', '8928', '6245', '3617', '1531', '4549', '1817', '4971', '4129', '5284', '1570', '4175', '6799', '4506', '6612', '5222', '6533', '6569', '6561', '6803', '6284', '9917', '2812', '6180', '3567', '4541', '5903', '8420', '3027', '3006', '5371', '5439', '8349', '4945', '2834', '5220', '3546', '8215', '8942', '3025', '2404', '3260', '6523', '6664', '5443', '6206', '8210', '6591', '5607', '6470', '6811', '3594', '6570', '3029', '6139', '8049', '1210', '3038', '1304', '4557', '9938', '2755', '6670', '8938', '6788', '3363', '6691', '4961', '4137', '2637', '2451', '6538', '6147', '4138', '2916', '3532', '2453', '6577', '6776', '5511', '8081', '3707', '3356', '8048', '5508', '6176', '6187', '4938', '8112', '2630', '3694', '3227', '5236', '5287', '6585', '6469', '3213', '1522', '3088', '2392', '3338', '4933', '3622', '6189', '6605', '9927', '3712', '6170', '6290', '3357', '2371', '6546', '8054', '3211', '6197', '3665', '4105', '3045', '6741', '5340', '6579', '8931', '3289', '3147', '3689', '2352', '4919', '3022', '3624', '1722', '8255', '5309', '8109', '9945', '6672'])"
      ]
     },
     "execution_count": 112,
     "metadata": {},
     "output_type": "execute_result"
    }
   ],
   "source": [
    "tidal.account.trades.keys()"
   ]
  },
  {
   "cell_type": "markdown",
   "metadata": {},
   "source": [
    "### Trading History"
   ]
  },
  {
   "cell_type": "code",
   "execution_count": 113,
   "metadata": {},
   "outputs": [],
   "source": [
    "# tidal.account.trades['3015']"
   ]
  },
  {
   "cell_type": "markdown",
   "metadata": {},
   "source": [
    "### Plot chart by using Plotly"
   ]
  },
  {
   "cell_type": "code",
   "execution_count": 114,
   "metadata": {},
   "outputs": [],
   "source": [
    "# tidal.analyzer.inst_chart(instrument='3015', metric_name='AdditionalInfo', plot_type=td.PlotType.LINE, scale=1.0)"
   ]
  },
  {
   "cell_type": "markdown",
   "metadata": {},
   "source": [
    "### Tidal Dashboard"
   ]
  },
  {
   "cell_type": "code",
   "execution_count": 115,
   "metadata": {},
   "outputs": [
    {
     "name": "stdout",
     "output_type": "stream",
     "text": [
      " * Serving Flask app 'tidal.tdboard'\n",
      " * Debug mode: off\n"
     ]
    },
    {
     "name": "stderr",
     "output_type": "stream",
     "text": [
      "[2024/11/28 14:17:32] werkzeug INFO \u001b[31m\u001b[1mWARNING: This is a development server. Do not use it in a production deployment. Use a production WSGI server instead.\u001b[0m\n",
      " * Running on all addresses (0.0.0.0)\n",
      " * Running on http://127.0.0.1:39215\n",
      " * Running on http://10.136.1.151:39215\n",
      "[2024/11/28 14:17:32] werkzeug INFO \u001b[33mPress CTRL+C to quit\u001b[0m\n"
     ]
    }
   ],
   "source": [
    "tidal.tdboard()"
   ]
  },
  {
   "cell_type": "code",
   "execution_count": null,
   "metadata": {},
   "outputs": [],
   "source": [
    "tidal.account.position_history"
   ]
  },
  {
   "cell_type": "code",
   "execution_count": null,
   "metadata": {},
   "outputs": [],
   "source": [
    "Portfolio_info = tidal.metrics[\"Portfolio\"].report\n",
    "print(Portfolio_info)"
   ]
  },
  {
   "cell_type": "code",
   "execution_count": null,
   "metadata": {},
   "outputs": [],
   "source": [
    "Portfolio_info.to_csv('./Portfolio_info.csv')"
   ]
  }
 ],
 "metadata": {
  "kernelspec": {
   "display_name": "py38",
   "language": "python",
   "name": "python3"
  },
  "language_info": {
   "codemirror_mode": {
    "name": "ipython",
    "version": 3
   },
   "file_extension": ".py",
   "mimetype": "text/x-python",
   "name": "python",
   "nbconvert_exporter": "python",
   "pygments_lexer": "ipython3",
   "version": "3.10.15"
  }
 },
 "nbformat": 4,
 "nbformat_minor": 2
}
