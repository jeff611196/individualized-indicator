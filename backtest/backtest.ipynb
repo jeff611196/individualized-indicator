{
 "cells": [
  {
   "cell_type": "markdown",
   "metadata": {},
   "source": [
    "### Import Required Package"
   ]
  },
  {
   "cell_type": "code",
   "execution_count": 35,
   "metadata": {},
   "outputs": [],
   "source": [
    "import pandas as pd\n",
    "import talib\n",
    "import numpy as np\n",
    "import json"
   ]
  },
  {
   "cell_type": "markdown",
   "metadata": {},
   "source": [
    "### Import Tidal"
   ]
  },
  {
   "cell_type": "code",
   "execution_count": 36,
   "metadata": {},
   "outputs": [],
   "source": [
    "import tidal as td"
   ]
  },
  {
   "cell_type": "markdown",
   "metadata": {},
   "source": [
    "### Initialize NutrLink"
   ]
  },
  {
   "cell_type": "code",
   "execution_count": 37,
   "metadata": {},
   "outputs": [],
   "source": [
    "from nutrlink import NutrLink\n",
    "from nutrlink.helper import get_ohlcv\n",
    "nl = NutrLink(url=\"https://dev-api.ddt-dst.cc/nutrients/station\")"
   ]
  },
  {
   "cell_type": "markdown",
   "metadata": {},
   "source": [
    "### Load market data and compute technical indicators"
   ]
  },
  {
   "cell_type": "code",
   "execution_count": 38,
   "metadata": {},
   "outputs": [],
   "source": [
    "import os\n",
    "import pandas as pd\n",
    "\n",
    "# os.chdir('/home/jovyan/individualized-indicator')\n",
    "# 定義你想要讀取檔案的目錄\n",
    "directory = '../emb/spearman'\n",
    "\n",
    "start_date = \"2022-06-01\"\n",
    "end_date = \"2024-09-30\"\n",
    "\n",
    "# 初始化一個空的字典來存儲所有讀取的 DataFrame\n",
    "dataframes = {}\n",
    "\n",
    "# 遍歷目錄中的所有檔案\n",
    "for filename in os.listdir(directory):\n",
    "    if filename.endswith('.pkl'):\n",
    "        # 組合完整的檔案路徑\n",
    "        file_path = os.path.join(directory, filename)\n",
    "        # 讀取 .pkl 檔案\n",
    "        df = pd.read_pickle(file_path)\n",
    "        \n",
    "        # 使用檔案名稱（不包括副檔名）作為字典的鍵\n",
    "        variable_name = filename.split('_')[2]\n",
    "        \n",
    "        # 將 DataFrame 儲存到字典中\n",
    "        dataframes[variable_name] = df\n",
    "\n",
    "keys_list = list(dataframes.keys())\n",
    "# 將字符串轉換為 datetime 格式，然後進行排序\n",
    "sorted_dates = sorted(pd.to_datetime(keys_list))\n",
    "keys_list = [date.strftime('%Y-%m-%d') for date in sorted_dates]\n",
    "\n",
    "total_df = pd.DataFrame()\n",
    "\n",
    "for j in range(0,len(keys_list)):\n",
    "    df_name = keys_list[j]\n",
    "    selected_df = dataframes[df_name]    \n",
    "    selected_df = selected_df.reset_index()\n",
    "    stock_list = pd.DataFrame(selected_df.iloc[:,0].unique())\n",
    "    total_df = pd.concat([total_df, stock_list], ignore_index=True)\n",
    "    \n",
    "unique_values_list = list(total_df.iloc[:,0].unique())\n",
    "sorted_list = sorted(unique_values_list)\n",
    "\n",
    "total_data = get_ohlcv(\n",
    "        nl,\n",
    "        start = start_date,\n",
    "        end = end_date,\n",
    "        tickers = [stock for stock in sorted_list],\n",
    ")\n",
    "\n",
    "# reset index，把 MultiIndex 攤平成兩個欄位\n",
    "df = total_data.reset_index()\n",
    "\n",
    "# 把 datetime 欄位轉成你要的格式\n",
    "df[\"datetime\"] = pd.to_datetime(df[\"datetime\"]).dt.strftime(\"%Y-%m-%d\")\n",
    "\n",
    "# 再把 ticker, datetime 設回 MultiIndex\n",
    "total_data = df.set_index([\"ticker\", \"datetime\"])\n",
    "\n",
    "total_data.index = total_data.index.set_levels(\n",
    "    pd.to_datetime(total_data.index.levels[1]),level=1)\n",
    "\n",
    "total_data.rename_axis(index={\n",
    "    'ticker': 'instrument'\n",
    "}, inplace=True)\n",
    "\n",
    "total_data['new'] = -1\n",
    "total_data.reset_index(inplace=True)\n",
    "\n",
    "def filter_by_year_month_12(filter_data, select_year, select_mon):\n",
    "    # 計算當前篩選年份和下一個年份\n",
    "    next_year = select_year + 1\n",
    "    \n",
    "    # 構建篩選條件：當前年12月、次年1月、次年2月\n",
    "    filter_data = filter_data[\n",
    "        ((filter_data['datetime'].dt.year == next_year) & (filter_data['datetime'].dt.month == 1)) |\n",
    "        ((filter_data['datetime'].dt.year == next_year) & (filter_data['datetime'].dt.month == 2)) |\n",
    "        ((filter_data['datetime'].dt.year == next_year) & (filter_data['datetime'].dt.month == 3))\n",
    "    ]\n",
    "    \n",
    "    return filter_data\n",
    "\n",
    "concat_df = pd.DataFrame()\n",
    "\n",
    "# for i in range(0,len(keys_list)-1):\n",
    "for i in range(0,len(keys_list)):\n",
    "    df_name = keys_list[i]\n",
    "    selected_df = dataframes[df_name]\n",
    "    selected_df.reset_index(inplace=True)\n",
    "    stock_df = selected_df.iloc[:,0]\n",
    "    stock_df_unique = list(stock_df.unique())\n",
    "    result = list(set(sorted_list) - set(stock_df_unique))\n",
    "    filtered_df = total_data[total_data['instrument'].isin(result)]\n",
    "    filtered_df = filtered_df.rename(columns={'volume': 'vol'})\n",
    "    selected_df = pd.concat([selected_df, filtered_df], ignore_index=True)\n",
    "    \n",
    "    select_year = int(df_name.split('-')[0])\n",
    "    select_mon = int(df_name.split('-')[1])\n",
    "    select_mons = [(select_mon+1)%12, (select_mon+2)%12, (select_mon+3)%12]\n",
    "    select_mons = [12 if mon == 0 else mon for mon in select_mons]\n",
    "    \n",
    "    selected_df['datetime'] = pd.to_datetime(selected_df['datetime'])\n",
    "    # 過濾出所有6月的交易資料\n",
    "    filter_data = selected_df[selected_df['datetime'].dt.month.isin(select_mons)]\n",
    "\n",
    "    # 使用時，根據 select_year 和 select_mon 動態篩選數據\n",
    "        \n",
    "    if select_mon == 12:\n",
    "        filter_data = filter_by_year_month_12(filter_data, select_year, select_mon) \n",
    "\n",
    "    else:\n",
    "        filter_data = filter_data[filter_data['datetime'].dt.year == select_year]\n",
    "    \n",
    "    concat_df = pd.concat([concat_df, filter_data], ignore_index=True)\n",
    "    \n",
    "# i = len(keys_list)-1\n",
    "# df_name = keys_list[i]\n",
    "# selected_df = dataframes[df_name]\n",
    "# selected_df.reset_index(inplace=True)\n",
    "# stock_df = selected_df.iloc[:,0]\n",
    "# stock_df_unique = list(stock_df.unique())\n",
    "# result = list(set(sorted_list) - set(stock_df_unique))\n",
    "# filtered_df = total_data[total_data['instrument'].isin(result)]\n",
    "# filtered_df = filtered_df.rename(columns={'volume': 'vol'})\n",
    "# selected_df = pd.concat([selected_df, filtered_df], ignore_index=True)\n",
    "# concat_df = pd.concat([concat_df, selected_df], ignore_index=True)\n",
    "\n",
    "concat_df.sort_values(by=['instrument', 'datetime'], inplace=True)\n",
    "concat_df.reset_index(drop=True, inplace=True)\n",
    "row = np.where(concat_df.iloc[:,0] == '6251')[0]\n",
    "concat_df = concat_df.drop(index=row)\n",
    "concat_df = concat_df.reset_index(drop=True)\n",
    "row = np.where(concat_df.iloc[:,0] == '8406')[0]\n",
    "concat_df = concat_df.drop(index=row)\n",
    "concat_df = concat_df.reset_index(drop=True)\n",
    "row = np.where(concat_df.iloc[:,0] == '6548')[0]\n",
    "concat_df = concat_df.drop(index=row)\n",
    "concat_df = concat_df.reset_index(drop=True)\n",
    "quote_data = concat_df.set_index(['instrument', 'datetime'])\n",
    "quote_data.columns.values[4] = 'volume'\n",
    "\n",
    "# quote_data.to_csv('./quote_data.csv')"
   ]
  },
  {
   "cell_type": "markdown",
   "metadata": {},
   "source": [
    "### Load benchmark data"
   ]
  },
  {
   "cell_type": "code",
   "execution_count": 39,
   "metadata": {},
   "outputs": [
    {
     "data": {
      "text/html": [
       "<div>\n",
       "<style scoped>\n",
       "    .dataframe tbody tr th:only-of-type {\n",
       "        vertical-align: middle;\n",
       "    }\n",
       "\n",
       "    .dataframe tbody tr th {\n",
       "        vertical-align: top;\n",
       "    }\n",
       "\n",
       "    .dataframe thead th {\n",
       "        text-align: right;\n",
       "    }\n",
       "</style>\n",
       "<table border=\"1\" class=\"dataframe\">\n",
       "  <thead>\n",
       "    <tr style=\"text-align: right;\">\n",
       "      <th></th>\n",
       "      <th></th>\n",
       "      <th>open</th>\n",
       "      <th>high</th>\n",
       "      <th>low</th>\n",
       "      <th>close</th>\n",
       "      <th>volume</th>\n",
       "    </tr>\n",
       "    <tr>\n",
       "      <th>instrument</th>\n",
       "      <th>datetime</th>\n",
       "      <th></th>\n",
       "      <th></th>\n",
       "      <th></th>\n",
       "      <th></th>\n",
       "      <th></th>\n",
       "    </tr>\n",
       "  </thead>\n",
       "  <tbody>\n",
       "    <tr>\n",
       "      <th rowspan=\"11\" valign=\"top\">0050</th>\n",
       "      <th>2022-06-01</th>\n",
       "      <td>29.2074</td>\n",
       "      <td>29.3769</td>\n",
       "      <td>29.1397</td>\n",
       "      <td>29.1736</td>\n",
       "      <td>6730117</td>\n",
       "    </tr>\n",
       "    <tr>\n",
       "      <th>2022-06-02</th>\n",
       "      <td>29.0154</td>\n",
       "      <td>29.0154</td>\n",
       "      <td>28.8234</td>\n",
       "      <td>28.8686</td>\n",
       "      <td>4721923</td>\n",
       "    </tr>\n",
       "    <tr>\n",
       "      <th>2022-06-06</th>\n",
       "      <td>28.9703</td>\n",
       "      <td>29.1397</td>\n",
       "      <td>28.7896</td>\n",
       "      <td>29.0719</td>\n",
       "      <td>4292361</td>\n",
       "    </tr>\n",
       "    <tr>\n",
       "      <th>2022-06-07</th>\n",
       "      <td>28.9025</td>\n",
       "      <td>28.9025</td>\n",
       "      <td>28.6540</td>\n",
       "      <td>28.7783</td>\n",
       "      <td>5160242</td>\n",
       "    </tr>\n",
       "    <tr>\n",
       "      <th>2022-06-08</th>\n",
       "      <td>29.0267</td>\n",
       "      <td>29.1623</td>\n",
       "      <td>28.9477</td>\n",
       "      <td>29.0945</td>\n",
       "      <td>4110313</td>\n",
       "    </tr>\n",
       "    <tr>\n",
       "      <th>...</th>\n",
       "      <td>...</td>\n",
       "      <td>...</td>\n",
       "      <td>...</td>\n",
       "      <td>...</td>\n",
       "      <td>...</td>\n",
       "    </tr>\n",
       "    <tr>\n",
       "      <th>2024-09-24</th>\n",
       "      <td>44.8572</td>\n",
       "      <td>45.2979</td>\n",
       "      <td>44.5879</td>\n",
       "      <td>45.2979</td>\n",
       "      <td>10476465</td>\n",
       "    </tr>\n",
       "    <tr>\n",
       "      <th>2024-09-25</th>\n",
       "      <td>45.9591</td>\n",
       "      <td>46.0325</td>\n",
       "      <td>45.8734</td>\n",
       "      <td>45.9713</td>\n",
       "      <td>12464313</td>\n",
       "    </tr>\n",
       "    <tr>\n",
       "      <th>2024-09-26</th>\n",
       "      <td>46.4243</td>\n",
       "      <td>46.5222</td>\n",
       "      <td>46.2161</td>\n",
       "      <td>46.3508</td>\n",
       "      <td>17369543</td>\n",
       "    </tr>\n",
       "    <tr>\n",
       "      <th>2024-09-27</th>\n",
       "      <td>46.5712</td>\n",
       "      <td>46.8283</td>\n",
       "      <td>46.1794</td>\n",
       "      <td>46.2529</td>\n",
       "      <td>11999510</td>\n",
       "    </tr>\n",
       "    <tr>\n",
       "      <th>2024-09-30</th>\n",
       "      <td>45.6775</td>\n",
       "      <td>45.8366</td>\n",
       "      <td>45.0409</td>\n",
       "      <td>45.0409</td>\n",
       "      <td>14461065</td>\n",
       "    </tr>\n",
       "  </tbody>\n",
       "</table>\n",
       "<p>569 rows × 5 columns</p>\n",
       "</div>"
      ],
      "text/plain": [
       "                          open     high      low    close    volume\n",
       "instrument datetime                                                \n",
       "0050       2022-06-01  29.2074  29.3769  29.1397  29.1736   6730117\n",
       "           2022-06-02  29.0154  29.0154  28.8234  28.8686   4721923\n",
       "           2022-06-06  28.9703  29.1397  28.7896  29.0719   4292361\n",
       "           2022-06-07  28.9025  28.9025  28.6540  28.7783   5160242\n",
       "           2022-06-08  29.0267  29.1623  28.9477  29.0945   4110313\n",
       "...                        ...      ...      ...      ...       ...\n",
       "           2024-09-24  44.8572  45.2979  44.5879  45.2979  10476465\n",
       "           2024-09-25  45.9591  46.0325  45.8734  45.9713  12464313\n",
       "           2024-09-26  46.4243  46.5222  46.2161  46.3508  17369543\n",
       "           2024-09-27  46.5712  46.8283  46.1794  46.2529  11999510\n",
       "           2024-09-30  45.6775  45.8366  45.0409  45.0409  14461065\n",
       "\n",
       "[569 rows x 5 columns]"
      ]
     },
     "execution_count": 39,
     "metadata": {},
     "output_type": "execute_result"
    }
   ],
   "source": [
    "benchmark_inst = \"0050\"\n",
    "benchmark_data = get_ohlcv(\n",
    "        nl,\n",
    "        start = start_date,\n",
    "        end = end_date,\n",
    "        tickers = [benchmark_inst],\n",
    ")\n",
    "\n",
    "# reset index，把 MultiIndex 攤平成兩個欄位\n",
    "df = benchmark_data.reset_index()\n",
    "\n",
    "# 把 datetime 欄位轉成你要的格式\n",
    "df[\"datetime\"] = pd.to_datetime(df[\"datetime\"]).dt.strftime(\"%Y-%m-%d\")\n",
    "\n",
    "# 再把 ticker, datetime 設回 MultiIndex\n",
    "benchmark_data = df.set_index([\"ticker\", \"datetime\"])\n",
    "\n",
    "benchmark_data.index = benchmark_data.index.set_levels(\n",
    "    pd.to_datetime(benchmark_data.index.levels[1]),level=1)\n",
    "\n",
    "benchmark_data.rename_axis(index={\n",
    "    'ticker': 'instrument'\n",
    "}, inplace=True)\n",
    "\n",
    "benchmark_data"
   ]
  },
  {
   "cell_type": "markdown",
   "metadata": {},
   "source": [
    "### Initialize Tidal\n",
    "1. Initialize Tidal object\n",
    "2. Add Quote data (pd.DataFrame)\n",
    "3. Set strategy object (td.BaseStrategy)\n",
    "4. Add metric objects (td.BaseMetic)"
   ]
  },
  {
   "cell_type": "code",
   "execution_count": 40,
   "metadata": {},
   "outputs": [
    {
     "name": "stderr",
     "output_type": "stream",
     "text": [
      "[2025/09/15 16:31:07] root INFO Allocated remote server address: tcp://10.136.20.6:6666\n",
      "[2025/09/15 16:31:07] root INFO SocketClient Initializing connection to tcp://10.136.20.6:6666\n",
      "[2025/09/15 16:31:07] root INFO SocketClient tcp://10.136.20.6:6666: Starting event monitor\n",
      "[2025/09/15 16:31:07] root INFO SocketClient tcp://10.136.20.6:6666: Attempting handshake\n",
      "[2025/09/15 16:31:11] root INFO SocketClient tcp://10.136.20.6:6666: Successfully connected to server\n",
      "[2025/09/15 16:31:11] root INFO SocketClient tcp://10.136.20.6:6666: ZMQ connection established, waiting for server response\n",
      "[2025/09/15 16:31:11] root INFO SocketClient tcp://10.136.20.6:6666: Handshake completed successfully\n",
      "[2025/09/15 16:31:11] root INFO SocketClient Successfully initialized connection to tcp://10.136.20.6:6666\n",
      "[2025/09/15 16:31:11] root INFO Tidal client version: 1.1.70\n",
      "[2025/09/15 16:31:11] root INFO Tidal server version: 1.1.70\n"
     ]
    }
   ],
   "source": [
    "# Initialize Tidal object\n",
    "tidal = td.Tidal(init_cash=50000000, slip_ticks=1, stock_config=td.StockConfig.TW, load_configs=True, reqMem=\"1000Mi\", ignore_volume_size=True)\n",
    "\n",
    "# Add quote data\n",
    "tidal.add_quote(quote_data)\n",
    "\n",
    "# Set strategy object\n",
    "tidal.set_strategy(td.strategy.TopkDropout(15, 1, 'new'))\n",
    "\n",
    "# Set metric objects\n",
    "tidal.add_metric(td.metric.AccountInfo())\n",
    "tidal.add_metric(td.metric.AdditionalInfo())\n",
    "tidal.add_metric(td.metric.PositionInfo())\n",
    "tidal.add_metric(td.metric.Portfolio(benchmark_data.loc[benchmark_inst]))"
   ]
  },
  {
   "cell_type": "markdown",
   "metadata": {},
   "source": [
    "### Stock Config"
   ]
  },
  {
   "cell_type": "code",
   "execution_count": 42,
   "metadata": {},
   "outputs": [
    {
     "data": {
      "text/plain": [
       "InstConfig {Margin:0.0, Tick Size:0.002, Tick Value:0.002, Trade Unit:1000, Commission:0.0004275, Min Commission:20.0, Transaction Tax:0.003}"
      ]
     },
     "execution_count": 42,
     "metadata": {},
     "output_type": "execute_result"
    }
   ],
   "source": [
    "tidal.exchange.stock_config"
   ]
  },
  {
   "cell_type": "markdown",
   "metadata": {},
   "source": [
    "### Instrument Configs"
   ]
  },
  {
   "cell_type": "code",
   "execution_count": 43,
   "metadata": {},
   "outputs": [
    {
     "data": {
      "text/plain": [
       "{'NQ': InstConfig {Margin:33613.0, Tick Size:0.25, Tick Value:5.0, Trade Unit:1, Commission:1.85, Min Commission:0.0, Transaction Tax:0.0},\n",
       " 'TX': InstConfig {Margin:357000.0, Tick Size:1.0, Tick Value:200.0, Trade Unit:1, Commission:40.0, Min Commission:0.0, Transaction Tax:2e-05},\n",
       " 'MTX': InstConfig {Margin:89250.0, Tick Size:1.0, Tick Value:50.0, Trade Unit:1, Commission:20.0, Min Commission:0.0, Transaction Tax:2e-05}}"
      ]
     },
     "execution_count": 43,
     "metadata": {},
     "output_type": "execute_result"
    }
   ],
   "source": [
    "tidal.exchange.inst_configs"
   ]
  },
  {
   "cell_type": "markdown",
   "metadata": {},
   "source": [
    "### Config Modification"
   ]
  },
  {
   "cell_type": "code",
   "execution_count": 44,
   "metadata": {},
   "outputs": [
    {
     "data": {
      "text/plain": [
       "InstConfig {Margin:0.0, Tick Size:0.002, Tick Value:0.002, Trade Unit:1000, Commission:0.00032775, Min Commission:20.0, Transaction Tax:0.003}"
      ]
     },
     "execution_count": 44,
     "metadata": {},
     "output_type": "execute_result"
    }
   ],
   "source": [
    "# Set commission to 77% off\n",
    "tidal.exchange.set_stock_config(commission=0.001425 * 0.23)\n",
    "tidal.exchange.stock_config"
   ]
  },
  {
   "cell_type": "markdown",
   "metadata": {},
   "source": [
    "### Add New Instrument Config"
   ]
  },
  {
   "cell_type": "code",
   "execution_count": 45,
   "metadata": {},
   "outputs": [
    {
     "data": {
      "text/plain": [
       "{'NQ': InstConfig {Margin:33613.0, Tick Size:0.25, Tick Value:5.0, Trade Unit:1, Commission:1.85, Min Commission:0.0, Transaction Tax:0.0},\n",
       " 'TX': InstConfig {Margin:357000.0, Tick Size:1.0, Tick Value:200.0, Trade Unit:1, Commission:40.0, Min Commission:0.0, Transaction Tax:2e-05},\n",
       " 'MTX': InstConfig {Margin:89250.0, Tick Size:1.0, Tick Value:50.0, Trade Unit:1, Commission:20.0, Min Commission:0.0, Transaction Tax:2e-05},\n",
       " 'MGC': InstConfig {Margin:787.0, Tick Size:0.1, Tick Value:1.0, Trade Unit:1, Commission:2.0, Min Commission:0.0, Transaction Tax:0.0}}"
      ]
     },
     "execution_count": 45,
     "metadata": {},
     "output_type": "execute_result"
    }
   ],
   "source": [
    "# Add MGC config\n",
    "tidal.exchange.set_config(instrument='MGC', margin=787., tick_size=0.1, tick_value=1., trade_unit=1, commission=2., min_commission=0., transaction_tax=0.)\n",
    "tidal.exchange.inst_configs"
   ]
  },
  {
   "cell_type": "markdown",
   "metadata": {},
   "source": [
    "### Start Backtesting"
   ]
  },
  {
   "cell_type": "code",
   "execution_count": 46,
   "metadata": {},
   "outputs": [
    {
     "name": "stderr",
     "output_type": "stream",
     "text": [
      "Tidal Backtesting: 100%|██████████| 548/548 [01:33<00:00,  5.88it/s, cash=1.99e+5, pnl=-9.57e+5, position_cost=7.9e+7, value=7.83e+7] "
     ]
    },
    {
     "name": "stdout",
     "output_type": "stream",
     "text": [
      "2022-10-03 - 訂單未能執行: 6245, 可能是由於現金不足或其他原因\n",
      "2023-09-26 - 訂單未能執行: 2404, 可能是由於現金不足或其他原因\n"
     ]
    },
    {
     "name": "stderr",
     "output_type": "stream",
     "text": [
      "\n"
     ]
    }
   ],
   "source": [
    "tidal.backtest()\n",
    "logs = tidal.get_logs()\n",
    "for log in logs:\n",
    "    print(log)"
   ]
  },
  {
   "cell_type": "markdown",
   "metadata": {},
   "source": [
    "### Metric - AccountInfo"
   ]
  },
  {
   "cell_type": "code",
   "execution_count": null,
   "metadata": {},
   "outputs": [],
   "source": [
    "account_info = tidal.metrics[\"AccountInfo\"].report\n",
    "print(account_info)"
   ]
  },
  {
   "cell_type": "markdown",
   "metadata": {},
   "source": [
    "### Metric - PositionInfo"
   ]
  },
  {
   "cell_type": "code",
   "execution_count": null,
   "metadata": {},
   "outputs": [],
   "source": [
    "position_df = tidal.metrics[\"PositionInfo\"].report\n",
    "print(position_df)"
   ]
  },
  {
   "cell_type": "code",
   "execution_count": null,
   "metadata": {},
   "outputs": [],
   "source": [
    "pi_report = tidal.metrics['PositionInfo'].report\n",
    "pi_report.iloc[pi_report.index.get_level_values('datetime') == '2022-06-14']"
   ]
  },
  {
   "cell_type": "markdown",
   "metadata": {},
   "source": [
    "### Metric - AdditionalInfo"
   ]
  },
  {
   "cell_type": "code",
   "execution_count": null,
   "metadata": {},
   "outputs": [],
   "source": [
    "tidal.metrics['AdditionalInfo'].report"
   ]
  },
  {
   "cell_type": "markdown",
   "metadata": {},
   "source": [
    "### Strategy Lake Submit"
   ]
  },
  {
   "cell_type": "code",
   "execution_count": null,
   "metadata": {},
   "outputs": [],
   "source": [
    "# group = dict(zip(df[\"coid\"].astype(str), df[\"tejind4_c\"]))\n",
    "# submit_lake_backtest_result = tidal.submit_lake_backtest(account_info=account_info, position_df=position_df, benchmark_info=benchmark_data, group=group,lake_env=\"dev\",strategy_id=19)\n",
    "# print(submit_lake_backtest_result)"
   ]
  },
  {
   "cell_type": "markdown",
   "metadata": {},
   "source": [
    "### Trade Report"
   ]
  },
  {
   "cell_type": "code",
   "execution_count": null,
   "metadata": {},
   "outputs": [],
   "source": [
    "tidal.trade_report"
   ]
  },
  {
   "cell_type": "markdown",
   "metadata": {},
   "source": [
    "### Traded instruments"
   ]
  },
  {
   "cell_type": "code",
   "execution_count": null,
   "metadata": {},
   "outputs": [],
   "source": [
    "tidal.account.trades.keys()"
   ]
  },
  {
   "cell_type": "markdown",
   "metadata": {},
   "source": [
    "### Trading History"
   ]
  },
  {
   "cell_type": "code",
   "execution_count": null,
   "metadata": {},
   "outputs": [],
   "source": [
    "# tidal.account.trades['3015']"
   ]
  },
  {
   "cell_type": "markdown",
   "metadata": {},
   "source": [
    "### Plot chart by using Plotly"
   ]
  },
  {
   "cell_type": "code",
   "execution_count": null,
   "metadata": {},
   "outputs": [],
   "source": [
    "# tidal.analyzer.inst_chart(instrument='3015', metric_name='AdditionalInfo', plot_type=td.PlotType.LINE, scale=1.0)"
   ]
  },
  {
   "cell_type": "markdown",
   "metadata": {},
   "source": [
    "### Tidal Dashboard"
   ]
  },
  {
   "cell_type": "code",
   "execution_count": 47,
   "metadata": {},
   "outputs": [
    {
     "name": "stdout",
     "output_type": "stream",
     "text": [
      " * Serving Flask app 'tidal.tdboard'\n",
      " * Debug mode: off\n"
     ]
    },
    {
     "name": "stderr",
     "output_type": "stream",
     "text": [
      "[2025/09/15 16:34:12] werkzeug INFO \u001b[31m\u001b[1mWARNING: This is a development server. Do not use it in a production deployment. Use a production WSGI server instead.\u001b[0m\n",
      " * Running on all addresses (0.0.0.0)\n",
      " * Running on http://127.0.0.1:40055\n",
      " * Running on http://10.136.39.77:40055\n",
      "[2025/09/15 16:34:12] werkzeug INFO \u001b[33mPress CTRL+C to quit\u001b[0m\n"
     ]
    },
    {
     "name": "stderr",
     "output_type": "stream",
     "text": [
      "[2025/09/15 16:34:13] werkzeug INFO 10.0.10.82 - - [15/Sep/2025 16:34:13] \"GET / HTTP/1.1\" 200 -\n",
      "[2025/09/15 16:34:14] werkzeug INFO 10.0.10.82 - - [15/Sep/2025 16:34:14] \"GET /static/js/main.5993c177.js HTTP/1.1\" 200 -\n",
      "[2025/09/15 16:34:15] werkzeug INFO 10.0.10.82 - - [15/Sep/2025 16:34:15] \"GET /static/css/main.bf4d504b.css HTTP/1.1\" 200 -\n",
      "[2025/09/15 16:34:15] werkzeug INFO 10.0.10.82 - - [15/Sep/2025 16:34:15] \"GET /images/Tidal_Logo_white.png HTTP/1.1\" 200 -\n",
      "[2025/09/15 16:34:15] werkzeug INFO 10.0.10.82 - - [15/Sep/2025 16:34:15] \"GET /api/quote/inst_list HTTP/1.1\" 200 -\n",
      "[2025/09/15 16:34:15] werkzeug INFO 10.0.10.82 - - [15/Sep/2025 16:34:15] \"GET /api/metric/metric_list HTTP/1.1\" 200 -\n",
      "[2025/09/15 16:34:16] werkzeug INFO 10.0.10.82 - - [15/Sep/2025 16:34:16] \"GET /api/trade/trade_report HTTP/1.1\" 200 -\n",
      "[2025/09/15 16:34:16] werkzeug INFO 10.0.10.82 - - [15/Sep/2025 16:34:16] \"GET /Tidal_Logo.png HTTP/1.1\" 200 -\n",
      "[2025/09/15 16:34:16] werkzeug INFO 10.0.10.82 - - [15/Sep/2025 16:34:16] \"\u001b[36mGET /Tidal_Logo.png HTTP/1.1\u001b[0m\" 304 -\n",
      "[2025/09/15 16:34:16] werkzeug INFO 10.0.10.82 - - [15/Sep/2025 16:34:16] \"\u001b[36mGET /Tidal_Logo.png HTTP/1.1\u001b[0m\" 304 -\n",
      "[2025/09/15 16:34:17] werkzeug INFO 10.0.10.82 - - [15/Sep/2025 16:34:17] \"GET /static/media/primeicons.78172950b335ccdb94e2.woff2 HTTP/1.1\" 200 -\n",
      "[2025/09/15 16:34:17] werkzeug INFO 10.0.10.82 - - [15/Sep/2025 16:34:17] \"POST /api/metric/metric_reports HTTP/1.1\" 200 -\n",
      "[2025/09/15 16:34:17] werkzeug INFO 10.0.10.82 - - [15/Sep/2025 16:34:17] \"GET /images/ph_arrows-out-cardinal.svg HTTP/1.1\" 200 -\n",
      "[2025/09/15 16:34:17] werkzeug INFO 10.0.10.82 - - [15/Sep/2025 16:34:17] \"GET /images/ph_x.svg HTTP/1.1\" 200 -\n"
     ]
    }
   ],
   "source": [
    "tidal.tdboard()"
   ]
  },
  {
   "cell_type": "code",
   "execution_count": null,
   "metadata": {},
   "outputs": [],
   "source": [
    "tidal.account.position_history"
   ]
  },
  {
   "cell_type": "code",
   "execution_count": null,
   "metadata": {},
   "outputs": [],
   "source": [
    "Portfolio_info = tidal.metrics[\"Portfolio\"].report\n",
    "print(Portfolio_info)"
   ]
  },
  {
   "cell_type": "code",
   "execution_count": null,
   "metadata": {},
   "outputs": [],
   "source": [
    "Portfolio_info.to_csv('./Portfolio_info.csv')"
   ]
  }
 ],
 "metadata": {
  "kernelspec": {
   "display_name": "py38",
   "language": "python",
   "name": "python3"
  },
  "language_info": {
   "codemirror_mode": {
    "name": "ipython",
    "version": 3
   },
   "file_extension": ".py",
   "mimetype": "text/x-python",
   "name": "python",
   "nbconvert_exporter": "python",
   "pygments_lexer": "ipython3",
   "version": "3.10.18"
  }
 },
 "nbformat": 4,
 "nbformat_minor": 2
}
